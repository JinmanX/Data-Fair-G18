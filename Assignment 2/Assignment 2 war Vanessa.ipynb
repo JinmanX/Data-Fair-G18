{
 "cells": [
  {
   "cell_type": "markdown",
   "metadata": {},
   "source": [
    "# Assignment 2\n",
    "\n",
    "In this notebook, we will explore a tweet data set from our data host which was scraped using the Twitter API. The term #conflict was used to scrap the data. There aren't any detailed hypotheses yet, however we want to find out whether we can classify tweets by their content and see if we can find any specific patterns between hashtags, tweets, their meaning and sentiment."
   ]
  },
  {
   "cell_type": "markdown",
   "metadata": {},
   "source": [
    "First, we import and download the necessary packages in Python."
   ]
  },
  {
   "cell_type": "code",
   "execution_count": 1,
   "metadata": {},
   "outputs": [],
   "source": [
    "#Import the frequently used libraries\n",
    "#Import necessary modules to read, clean, analyse and visualise data\n",
    "\n",
    "import csv\n",
    "import matplotlib.pyplot as plt\n",
    "import seaborn as sns \n",
    "import pandas as pd\n",
    "import numpy as np\n",
    "from datetime import datetime\n",
    "from datetime import timedelta\n",
    "import re\n",
    "import string\n",
    "\n",
    "\n",
    "#This is used to visualise the WordCloud\n",
    "from PIL import Image\n",
    "from IPython.display import Image as im"
   ]
  },
  {
   "cell_type": "markdown",
   "metadata": {},
   "source": [
    "Install wordcloud to visualise WordCloud "
   ]
  },
  {
   "cell_type": "code",
   "execution_count": 2,
   "metadata": {},
   "outputs": [
    {
     "name": "stdout",
     "output_type": "stream",
     "text": [
      "Requirement already satisfied: wordcloud in /Applications/anaconda3/lib/python3.8/site-packages (1.8.1)\n",
      "Requirement already satisfied: matplotlib in /Applications/anaconda3/lib/python3.8/site-packages (from wordcloud) (3.2.2)\n",
      "Requirement already satisfied: pillow in /Applications/anaconda3/lib/python3.8/site-packages (from wordcloud) (7.2.0)\n",
      "Requirement already satisfied: numpy>=1.6.1 in /Applications/anaconda3/lib/python3.8/site-packages (from wordcloud) (1.18.5)\n",
      "Requirement already satisfied: cycler>=0.10 in /Applications/anaconda3/lib/python3.8/site-packages (from matplotlib->wordcloud) (0.10.0)\n",
      "Requirement already satisfied: python-dateutil>=2.1 in /Applications/anaconda3/lib/python3.8/site-packages (from matplotlib->wordcloud) (2.8.1)\n",
      "Requirement already satisfied: pyparsing!=2.0.4,!=2.1.2,!=2.1.6,>=2.0.1 in /Applications/anaconda3/lib/python3.8/site-packages (from matplotlib->wordcloud) (2.4.7)\n",
      "Requirement already satisfied: kiwisolver>=1.0.1 in /Applications/anaconda3/lib/python3.8/site-packages (from matplotlib->wordcloud) (1.2.0)\n",
      "Requirement already satisfied: six in /Applications/anaconda3/lib/python3.8/site-packages (from cycler>=0.10->matplotlib->wordcloud) (1.15.0)\n",
      "Note: you may need to restart the kernel to use updated packages.\n"
     ]
    }
   ],
   "source": [
    "pip install wordcloud"
   ]
  },
  {
   "cell_type": "code",
   "execution_count": 3,
   "metadata": {},
   "outputs": [],
   "source": [
    "#Import wordcloud library\n",
    "\n",
    "from wordcloud import WordCloud\n",
    "\n"
   ]
  },
  {
   "cell_type": "code",
   "execution_count": 4,
   "metadata": {},
   "outputs": [
    {
     "name": "stdout",
     "output_type": "stream",
     "text": [
      "Requirement already satisfied: textblob in /Applications/anaconda3/lib/python3.8/site-packages (0.15.3)\n",
      "Requirement already satisfied: nltk>=3.1 in /Applications/anaconda3/lib/python3.8/site-packages (from textblob) (3.5)\n",
      "Requirement already satisfied: joblib in /Applications/anaconda3/lib/python3.8/site-packages (from nltk>=3.1->textblob) (0.16.0)\n",
      "Requirement already satisfied: click in /Applications/anaconda3/lib/python3.8/site-packages (from nltk>=3.1->textblob) (7.1.2)\n",
      "Requirement already satisfied: regex in /Applications/anaconda3/lib/python3.8/site-packages (from nltk>=3.1->textblob) (2020.6.8)\n",
      "Requirement already satisfied: tqdm in /Applications/anaconda3/lib/python3.8/site-packages (from nltk>=3.1->textblob) (4.47.0)\n",
      "Note: you may need to restart the kernel to use updated packages.\n"
     ]
    }
   ],
   "source": [
    "pip install textblob"
   ]
  },
  {
   "cell_type": "code",
   "execution_count": 5,
   "metadata": {},
   "outputs": [],
   "source": [
    "from textblob import TextBlob"
   ]
  },
  {
   "cell_type": "code",
   "execution_count": 6,
   "metadata": {},
   "outputs": [
    {
     "name": "stderr",
     "output_type": "stream",
     "text": [
      "[nltk_data] Downloading package punkt to\n",
      "[nltk_data]     /Users/vanessaneeff/nltk_data...\n",
      "[nltk_data]   Package punkt is already up-to-date!\n",
      "[nltk_data] Downloading package stopwords to\n",
      "[nltk_data]     /Users/vanessaneeff/nltk_data...\n",
      "[nltk_data]   Package stopwords is already up-to-date!\n",
      "[nltk_data] Downloading package wordnet to\n",
      "[nltk_data]     /Users/vanessaneeff/nltk_data...\n",
      "[nltk_data]   Package wordnet is already up-to-date!\n",
      "[nltk_data] Downloading package averaged_perceptron_tagger to\n",
      "[nltk_data]     /Users/vanessaneeff/nltk_data...\n",
      "[nltk_data]   Package averaged_perceptron_tagger is already up-to-\n",
      "[nltk_data]       date!\n"
     ]
    }
   ],
   "source": [
    "#Import necessary packages for textual and sentiment analysis \n",
    "\n",
    "import nltk\n",
    "\n",
    "nltk.download('punkt')\n",
    "nltk.download(\"stopwords\")\n",
    "nltk.download('wordnet')\n",
    "nltk.download('averaged_perceptron_tagger')\n",
    "\n",
    "\n",
    "#These functions are used for preprocessing mainly\n",
    "from nltk.stem import WordNetLemmatizer\n",
    "from nltk.corpus import stopwords\n",
    "from nltk.tokenize import word_tokenize\n",
    "from nltk.corpus import wordnet\n"
   ]
  },
  {
   "cell_type": "markdown",
   "metadata": {},
   "source": [
    "Now, we want to take a look into our data. For that reason, we will use Pandas read_csv() function to put the data into a DataFrame."
   ]
  },
  {
   "cell_type": "code",
   "execution_count": 8,
   "metadata": {},
   "outputs": [],
   "source": [
    "data_con = pd.read_csv(\"warpt3.csv\") #reading our tabular data into a Python dataframe"
   ]
  },
  {
   "cell_type": "markdown",
   "metadata": {},
   "source": [
    "Next, we want to take a look into our data shape and some simple statistical key values."
   ]
  },
  {
   "cell_type": "markdown",
   "metadata": {},
   "source": [
    "What is the type of our data?"
   ]
  },
  {
   "cell_type": "code",
   "execution_count": 9,
   "metadata": {},
   "outputs": [
    {
     "data": {
      "text/plain": [
       "pandas.core.frame.DataFrame"
      ]
     },
     "execution_count": 9,
     "metadata": {},
     "output_type": "execute_result"
    }
   ],
   "source": [
    "type(data_con)"
   ]
  },
  {
   "cell_type": "markdown",
   "metadata": {},
   "source": [
    "We want to get a sense of how the dataframe looks like. We will look up the first 5 rows to see how the data is structured and which columns are presented."
   ]
  },
  {
   "cell_type": "code",
   "execution_count": 10,
   "metadata": {},
   "outputs": [
    {
     "data": {
      "text/html": [
       "<div>\n",
       "<style scoped>\n",
       "    .dataframe tbody tr th:only-of-type {\n",
       "        vertical-align: middle;\n",
       "    }\n",
       "\n",
       "    .dataframe tbody tr th {\n",
       "        vertical-align: top;\n",
       "    }\n",
       "\n",
       "    .dataframe thead th {\n",
       "        text-align: right;\n",
       "    }\n",
       "</style>\n",
       "<table border=\"1\" class=\"dataframe\">\n",
       "  <thead>\n",
       "    <tr style=\"text-align: right;\">\n",
       "      <th></th>\n",
       "      <th>timestamp</th>\n",
       "      <th>tweet_text</th>\n",
       "      <th>username</th>\n",
       "      <th>all_hashtags</th>\n",
       "      <th>followers_count</th>\n",
       "      <th>location</th>\n",
       "    </tr>\n",
       "  </thead>\n",
       "  <tbody>\n",
       "    <tr>\n",
       "      <th>0</th>\n",
       "      <td>2020-11-21 21:05:22</td>\n",
       "      <td>b\"#Afghanistan War #Exposed: An Imperial Consp...</td>\n",
       "      <td>b'sweposten'</td>\n",
       "      <td>['Afghanistan', 'Exposed', 'War', 'CIA', 'EndT...</td>\n",
       "      <td>1822</td>\n",
       "      <td>Hyderabad, India</td>\n",
       "    </tr>\n",
       "    <tr>\n",
       "      <th>1</th>\n",
       "      <td>2020-11-21 21:05:03</td>\n",
       "      <td>b'#Senior #Humor - Future #War Stories https:/...</td>\n",
       "      <td>b'ENoyes5246'</td>\n",
       "      <td>['Senior', 'Humor', 'War']</td>\n",
       "      <td>6211</td>\n",
       "      <td>Atlanta</td>\n",
       "    </tr>\n",
       "    <tr>\n",
       "      <th>2</th>\n",
       "      <td>2020-11-21 21:03:14</td>\n",
       "      <td>b'@BinCoronavirus End the #War on #Yemen    Th...</td>\n",
       "      <td>b'sweposten'</td>\n",
       "      <td>['War', 'Yemen', 'US', 'EU', 'Saudi', 'starvat...</td>\n",
       "      <td>1822</td>\n",
       "      <td>Hyderabad, India</td>\n",
       "    </tr>\n",
       "    <tr>\n",
       "      <th>3</th>\n",
       "      <td>2020-11-21 21:02:03</td>\n",
       "      <td>b'@TorontoPearson \"rally\" coming soon. Stand b...</td>\n",
       "      <td>b'RadBoonMising'</td>\n",
       "      <td>['war']</td>\n",
       "      <td>3</td>\n",
       "      <td>NaN</td>\n",
       "    </tr>\n",
       "    <tr>\n",
       "      <th>4</th>\n",
       "      <td>2020-11-21 21:01:57</td>\n",
       "      <td>b'#Iran has #condemned Saturday\\'s #rocket #at...</td>\n",
       "      <td>b'anewscomtr'</td>\n",
       "      <td>['Iran', 'condemned', 'rocket', 'attacks', 'Ka...</td>\n",
       "      <td>29663</td>\n",
       "      <td>NaN</td>\n",
       "    </tr>\n",
       "  </tbody>\n",
       "</table>\n",
       "</div>"
      ],
      "text/plain": [
       "             timestamp                                         tweet_text  \\\n",
       "0  2020-11-21 21:05:22  b\"#Afghanistan War #Exposed: An Imperial Consp...   \n",
       "1  2020-11-21 21:05:03  b'#Senior #Humor - Future #War Stories https:/...   \n",
       "2  2020-11-21 21:03:14  b'@BinCoronavirus End the #War on #Yemen    Th...   \n",
       "3  2020-11-21 21:02:03  b'@TorontoPearson \"rally\" coming soon. Stand b...   \n",
       "4  2020-11-21 21:01:57  b'#Iran has #condemned Saturday\\'s #rocket #at...   \n",
       "\n",
       "           username                                       all_hashtags  \\\n",
       "0      b'sweposten'  ['Afghanistan', 'Exposed', 'War', 'CIA', 'EndT...   \n",
       "1     b'ENoyes5246'                         ['Senior', 'Humor', 'War']   \n",
       "2      b'sweposten'  ['War', 'Yemen', 'US', 'EU', 'Saudi', 'starvat...   \n",
       "3  b'RadBoonMising'                                            ['war']   \n",
       "4     b'anewscomtr'  ['Iran', 'condemned', 'rocket', 'attacks', 'Ka...   \n",
       "\n",
       "   followers_count          location  \n",
       "0             1822  Hyderabad, India  \n",
       "1             6211           Atlanta  \n",
       "2             1822  Hyderabad, India  \n",
       "3                3               NaN  \n",
       "4            29663               NaN  "
      ]
     },
     "execution_count": 10,
     "metadata": {},
     "output_type": "execute_result"
    }
   ],
   "source": [
    "data_con.head() #Returns the first few rows in a DataFrame"
   ]
  },
  {
   "cell_type": "code",
   "execution_count": 11,
   "metadata": {},
   "outputs": [
    {
     "data": {
      "text/html": [
       "<div>\n",
       "<style scoped>\n",
       "    .dataframe tbody tr th:only-of-type {\n",
       "        vertical-align: middle;\n",
       "    }\n",
       "\n",
       "    .dataframe tbody tr th {\n",
       "        vertical-align: top;\n",
       "    }\n",
       "\n",
       "    .dataframe thead th {\n",
       "        text-align: right;\n",
       "    }\n",
       "</style>\n",
       "<table border=\"1\" class=\"dataframe\">\n",
       "  <thead>\n",
       "    <tr style=\"text-align: right;\">\n",
       "      <th></th>\n",
       "      <th>timestamp</th>\n",
       "      <th>tweet_text</th>\n",
       "      <th>username</th>\n",
       "      <th>all_hashtags</th>\n",
       "      <th>followers_count</th>\n",
       "      <th>location</th>\n",
       "    </tr>\n",
       "  </thead>\n",
       "  <tbody>\n",
       "    <tr>\n",
       "      <th>17</th>\n",
       "      <td>2020-11-21 20:13:20</td>\n",
       "      <td>b'Countless lives are being lost and thousands...</td>\n",
       "      <td>b'SofiaGmichael'</td>\n",
       "      <td>['War', 'StopAbiy', 'StopTheWarInEthiopia']</td>\n",
       "      <td>4</td>\n",
       "      <td>NaN</td>\n",
       "    </tr>\n",
       "    <tr>\n",
       "      <th>18</th>\n",
       "      <td>2020-11-21 20:01:42</td>\n",
       "      <td>b'Thats not enough,,!!!#War #Genocide #Afghani...</td>\n",
       "      <td>b'khaledkkhan'</td>\n",
       "      <td>['War', 'Genocide', 'Afghanistan']</td>\n",
       "      <td>329</td>\n",
       "      <td>Islamabad,Pakistan,world</td>\n",
       "    </tr>\n",
       "    <tr>\n",
       "      <th>19</th>\n",
       "      <td>2020-11-21 20:01:22</td>\n",
       "      <td>b'@FarahMaalimM In other words you are saying ...</td>\n",
       "      <td>b'Saron_galTigray'</td>\n",
       "      <td>['war', 'StopWarOnTigray', 'Tigray', 'TigrayGe...</td>\n",
       "      <td>62</td>\n",
       "      <td>NaN</td>\n",
       "    </tr>\n",
       "    <tr>\n",
       "      <th>20</th>\n",
       "      <td>2020-11-21 20:00:00</td>\n",
       "      <td>b'Born into Sin https://t.co/1TeEb1yR3W    #me...</td>\n",
       "      <td>b'sexyboyoncrack'</td>\n",
       "      <td>['metal', 'Metal', 'Premier', 'NowPlaying', 'R...</td>\n",
       "      <td>1311</td>\n",
       "      <td>washington dc usa</td>\n",
       "    </tr>\n",
       "    <tr>\n",
       "      <th>21</th>\n",
       "      <td>2020-11-21 20:00:00</td>\n",
       "      <td>b'The remarkable Raph Aldis of @StageFightUK c...</td>\n",
       "      <td>b'maximusshortuk'</td>\n",
       "      <td>['shortfilm', 'supportindiefilm', 'truestory',...</td>\n",
       "      <td>16</td>\n",
       "      <td>NaN</td>\n",
       "    </tr>\n",
       "  </tbody>\n",
       "</table>\n",
       "</div>"
      ],
      "text/plain": [
       "              timestamp                                         tweet_text  \\\n",
       "17  2020-11-21 20:13:20  b'Countless lives are being lost and thousands...   \n",
       "18  2020-11-21 20:01:42  b'Thats not enough,,!!!#War #Genocide #Afghani...   \n",
       "19  2020-11-21 20:01:22  b'@FarahMaalimM In other words you are saying ...   \n",
       "20  2020-11-21 20:00:00  b'Born into Sin https://t.co/1TeEb1yR3W    #me...   \n",
       "21  2020-11-21 20:00:00  b'The remarkable Raph Aldis of @StageFightUK c...   \n",
       "\n",
       "              username                                       all_hashtags  \\\n",
       "17    b'SofiaGmichael'        ['War', 'StopAbiy', 'StopTheWarInEthiopia']   \n",
       "18      b'khaledkkhan'                 ['War', 'Genocide', 'Afghanistan']   \n",
       "19  b'Saron_galTigray'  ['war', 'StopWarOnTigray', 'Tigray', 'TigrayGe...   \n",
       "20   b'sexyboyoncrack'  ['metal', 'Metal', 'Premier', 'NowPlaying', 'R...   \n",
       "21   b'maximusshortuk'  ['shortfilm', 'supportindiefilm', 'truestory',...   \n",
       "\n",
       "    followers_count                   location  \n",
       "17                4                        NaN  \n",
       "18              329  Islamabad,Pakistan,world   \n",
       "19               62                        NaN  \n",
       "20             1311          washington dc usa  \n",
       "21               16                        NaN  "
      ]
     },
     "execution_count": 11,
     "metadata": {},
     "output_type": "execute_result"
    }
   ],
   "source": [
    "data_con.tail() #Returns the last few rows"
   ]
  },
  {
   "cell_type": "markdown",
   "metadata": {},
   "source": [
    "#### There are a few things, that don't seem quite right in the DataFrame. \n",
    "\n",
    "1. tweet_text and username both start with either 'b or b\"\n",
    "2. There are some strings that are not words and they seem to start with \\x followed by other letters and numbers\n",
    "3. hashtags are in brackets, which is not wrong, but we will need to change that so that we can better analyse the words \n",
    "4. There are words that are completely written in capital letters\n",
    "\n",
    "Another thing to note: The rows seem to be sorted after 'timestamp' which refers to the date of the tweet.\n",
    "\n",
    "#### Before we go on with cleaning the data, we will take a look at some other features of the data set. "
   ]
  },
  {
   "cell_type": "markdown",
   "metadata": {},
   "source": [
    "What was the time span of all tweets collected?"
   ]
  },
  {
   "cell_type": "code",
   "execution_count": 21,
   "metadata": {},
   "outputs": [
    {
     "name": "stdout",
     "output_type": "stream",
     "text": [
      "Tweets were collected over the time of: 1:05:22\n",
      "The first tweet was postet on: 2020-11-21 20:00:00 and the last tweet was posted on: 2020-11-21 21:05:22\n"
     ]
    }
   ],
   "source": [
    "last_tweet=data_con.iloc[0].timestamp\n",
    "first_tweet=data_con.iloc[-1].timestamp\n",
    "format_date=\"%Y-%m-%d %H:%M:%S\"\n",
    "time_span=datetime.strptime(last_tweet, format_date)-datetime.strptime(first_tweet, format_date)\n",
    "print(\"Tweets were collected over the time of:\", time_span)\n",
    "print('The first tweet was postet on:', first_tweet, 'and the last tweet was posted on:', last_tweet)"
   ]
  },
  {
   "cell_type": "markdown",
   "metadata": {},
   "source": [
    "Which columns do we have in our DataFrame?"
   ]
  },
  {
   "cell_type": "code",
   "execution_count": 22,
   "metadata": {},
   "outputs": [
    {
     "data": {
      "text/plain": [
       "Index(['timestamp', 'tweet_text', 'username', 'all_hashtags',\n",
       "       'followers_count', 'location'],\n",
       "      dtype='object')"
      ]
     },
     "execution_count": 22,
     "metadata": {},
     "output_type": "execute_result"
    }
   ],
   "source": [
    "data_con.columns #Returns the names of all columns"
   ]
  },
  {
   "cell_type": "markdown",
   "metadata": {},
   "source": [
    "What are the data types of our columns?"
   ]
  },
  {
   "cell_type": "code",
   "execution_count": 23,
   "metadata": {},
   "outputs": [
    {
     "data": {
      "text/plain": [
       "dtype('O')"
      ]
     },
     "execution_count": 23,
     "metadata": {},
     "output_type": "execute_result"
    }
   ],
   "source": [
    "#df[\"column_name\"].dtype returns the data type of one column. \n",
    "\n",
    "data_con['timestamp'].dtype \n",
    "\n",
    "#\"O\" stands for object, which is a string"
   ]
  },
  {
   "cell_type": "code",
   "execution_count": 24,
   "metadata": {},
   "outputs": [
    {
     "data": {
      "text/plain": [
       "dtype('int64')"
      ]
     },
     "execution_count": 24,
     "metadata": {},
     "output_type": "execute_result"
    }
   ],
   "source": [
    "data_con['followers_count'].dtype \n",
    "\n",
    "#\"int64\" stands for a value stored as a 64 bit integer"
   ]
  },
  {
   "cell_type": "code",
   "execution_count": 25,
   "metadata": {},
   "outputs": [
    {
     "data": {
      "text/plain": [
       "timestamp          object\n",
       "tweet_text         object\n",
       "username           object\n",
       "all_hashtags       object\n",
       "followers_count     int64\n",
       "location           object\n",
       "dtype: object"
      ]
     },
     "execution_count": 25,
     "metadata": {},
     "output_type": "execute_result"
    }
   ],
   "source": [
    "data_con.dtypes #Returns the data type for each columns within a dataframe"
   ]
  },
  {
   "cell_type": "markdown",
   "metadata": {},
   "source": [
    "As we can see, most of our data is categorical, except for followers_count. For that reason, we will explore some objects in greater detail such as tweet_text and all_hashtags. \n",
    "\n",
    "#### But before we do that, some more descriptions about our data set are given here:"
   ]
  },
  {
   "cell_type": "markdown",
   "metadata": {},
   "source": [
    "What is the shape of our DataFrame?"
   ]
  },
  {
   "cell_type": "code",
   "execution_count": 26,
   "metadata": {},
   "outputs": [
    {
     "name": "stdout",
     "output_type": "stream",
     "text": [
      "(22, 6)\n",
      "This DataFrame consists of 22 rows and 6 columns\n"
     ]
    }
   ],
   "source": [
    "print(data_con.shape) #df.shape will return the number of rows and columns in my given dataframe\n",
    "print('This DataFrame consists of',data_con.shape[0], 'rows and', data_con.shape[1], 'columns' )"
   ]
  },
  {
   "cell_type": "markdown",
   "metadata": {},
   "source": [
    "What are some interesting key facts about our data set?"
   ]
  },
  {
   "cell_type": "code",
   "execution_count": 27,
   "metadata": {},
   "outputs": [
    {
     "data": {
      "text/html": [
       "<div>\n",
       "<style scoped>\n",
       "    .dataframe tbody tr th:only-of-type {\n",
       "        vertical-align: middle;\n",
       "    }\n",
       "\n",
       "    .dataframe tbody tr th {\n",
       "        vertical-align: top;\n",
       "    }\n",
       "\n",
       "    .dataframe thead th {\n",
       "        text-align: right;\n",
       "    }\n",
       "</style>\n",
       "<table border=\"1\" class=\"dataframe\">\n",
       "  <thead>\n",
       "    <tr style=\"text-align: right;\">\n",
       "      <th></th>\n",
       "      <th>timestamp</th>\n",
       "      <th>tweet_text</th>\n",
       "      <th>username</th>\n",
       "      <th>all_hashtags</th>\n",
       "      <th>followers_count</th>\n",
       "      <th>location</th>\n",
       "    </tr>\n",
       "  </thead>\n",
       "  <tbody>\n",
       "    <tr>\n",
       "      <th>count</th>\n",
       "      <td>22</td>\n",
       "      <td>22</td>\n",
       "      <td>22</td>\n",
       "      <td>22</td>\n",
       "      <td>22.000000</td>\n",
       "      <td>11</td>\n",
       "    </tr>\n",
       "    <tr>\n",
       "      <th>unique</th>\n",
       "      <td>20</td>\n",
       "      <td>22</td>\n",
       "      <td>19</td>\n",
       "      <td>20</td>\n",
       "      <td>NaN</td>\n",
       "      <td>8</td>\n",
       "    </tr>\n",
       "    <tr>\n",
       "      <th>top</th>\n",
       "      <td>2020-11-21 20:00:00</td>\n",
       "      <td>b'#Iran has #condemned Saturday\\'s #rocket #at...</td>\n",
       "      <td>b'sweposten'</td>\n",
       "      <td>['War', 'Yemen', 'US', 'EU', 'Saudi', 'starvat...</td>\n",
       "      <td>NaN</td>\n",
       "      <td>Hyderabad, India</td>\n",
       "    </tr>\n",
       "    <tr>\n",
       "      <th>freq</th>\n",
       "      <td>2</td>\n",
       "      <td>1</td>\n",
       "      <td>3</td>\n",
       "      <td>2</td>\n",
       "      <td>NaN</td>\n",
       "      <td>3</td>\n",
       "    </tr>\n",
       "    <tr>\n",
       "      <th>mean</th>\n",
       "      <td>NaN</td>\n",
       "      <td>NaN</td>\n",
       "      <td>NaN</td>\n",
       "      <td>NaN</td>\n",
       "      <td>2803.727273</td>\n",
       "      <td>NaN</td>\n",
       "    </tr>\n",
       "    <tr>\n",
       "      <th>std</th>\n",
       "      <td>NaN</td>\n",
       "      <td>NaN</td>\n",
       "      <td>NaN</td>\n",
       "      <td>NaN</td>\n",
       "      <td>6364.293917</td>\n",
       "      <td>NaN</td>\n",
       "    </tr>\n",
       "    <tr>\n",
       "      <th>min</th>\n",
       "      <td>NaN</td>\n",
       "      <td>NaN</td>\n",
       "      <td>NaN</td>\n",
       "      <td>NaN</td>\n",
       "      <td>3.000000</td>\n",
       "      <td>NaN</td>\n",
       "    </tr>\n",
       "    <tr>\n",
       "      <th>25%</th>\n",
       "      <td>NaN</td>\n",
       "      <td>NaN</td>\n",
       "      <td>NaN</td>\n",
       "      <td>NaN</td>\n",
       "      <td>36.500000</td>\n",
       "      <td>NaN</td>\n",
       "    </tr>\n",
       "    <tr>\n",
       "      <th>50%</th>\n",
       "      <td>NaN</td>\n",
       "      <td>NaN</td>\n",
       "      <td>NaN</td>\n",
       "      <td>NaN</td>\n",
       "      <td>712.500000</td>\n",
       "      <td>NaN</td>\n",
       "    </tr>\n",
       "    <tr>\n",
       "      <th>75%</th>\n",
       "      <td>NaN</td>\n",
       "      <td>NaN</td>\n",
       "      <td>NaN</td>\n",
       "      <td>NaN</td>\n",
       "      <td>1893.250000</td>\n",
       "      <td>NaN</td>\n",
       "    </tr>\n",
       "    <tr>\n",
       "      <th>max</th>\n",
       "      <td>NaN</td>\n",
       "      <td>NaN</td>\n",
       "      <td>NaN</td>\n",
       "      <td>NaN</td>\n",
       "      <td>29663.000000</td>\n",
       "      <td>NaN</td>\n",
       "    </tr>\n",
       "  </tbody>\n",
       "</table>\n",
       "</div>"
      ],
      "text/plain": [
       "                  timestamp  \\\n",
       "count                    22   \n",
       "unique                   20   \n",
       "top     2020-11-21 20:00:00   \n",
       "freq                      2   \n",
       "mean                    NaN   \n",
       "std                     NaN   \n",
       "min                     NaN   \n",
       "25%                     NaN   \n",
       "50%                     NaN   \n",
       "75%                     NaN   \n",
       "max                     NaN   \n",
       "\n",
       "                                               tweet_text      username  \\\n",
       "count                                                  22            22   \n",
       "unique                                                 22            19   \n",
       "top     b'#Iran has #condemned Saturday\\'s #rocket #at...  b'sweposten'   \n",
       "freq                                                    1             3   \n",
       "mean                                                  NaN           NaN   \n",
       "std                                                   NaN           NaN   \n",
       "min                                                   NaN           NaN   \n",
       "25%                                                   NaN           NaN   \n",
       "50%                                                   NaN           NaN   \n",
       "75%                                                   NaN           NaN   \n",
       "max                                                   NaN           NaN   \n",
       "\n",
       "                                             all_hashtags  followers_count  \\\n",
       "count                                                  22        22.000000   \n",
       "unique                                                 20              NaN   \n",
       "top     ['War', 'Yemen', 'US', 'EU', 'Saudi', 'starvat...              NaN   \n",
       "freq                                                    2              NaN   \n",
       "mean                                                  NaN      2803.727273   \n",
       "std                                                   NaN      6364.293917   \n",
       "min                                                   NaN         3.000000   \n",
       "25%                                                   NaN        36.500000   \n",
       "50%                                                   NaN       712.500000   \n",
       "75%                                                   NaN      1893.250000   \n",
       "max                                                   NaN     29663.000000   \n",
       "\n",
       "                location  \n",
       "count                 11  \n",
       "unique                 8  \n",
       "top     Hyderabad, India  \n",
       "freq                   3  \n",
       "mean                 NaN  \n",
       "std                  NaN  \n",
       "min                  NaN  \n",
       "25%                  NaN  \n",
       "50%                  NaN  \n",
       "75%                  NaN  \n",
       "max                  NaN  "
      ]
     },
     "execution_count": 27,
     "metadata": {},
     "output_type": "execute_result"
    }
   ],
   "source": [
    "data_con.describe(include='all') #displays the most important statistics of the data set"
   ]
  },
  {
   "cell_type": "markdown",
   "metadata": {},
   "source": [
    "#### There are some interesting things that we can tell from data_con.describe. Just a few are summarised here:\n",
    "1. We have 100 unique tweets written by 78 users\n",
    "2. 89 unique hashtags were used\n",
    "3. The average followers_count is surprisingly high (5129,81) which could mean that there might be some verified users such as media outlets or politicians tweeting about conflict related content\n",
    "4. followers_count ranges from 0 to 139144"
   ]
  },
  {
   "cell_type": "markdown",
   "metadata": {},
   "source": [
    "What are the minimum and maximum values for followers_count?"
   ]
  },
  {
   "cell_type": "code",
   "execution_count": 28,
   "metadata": {},
   "outputs": [
    {
     "name": "stdout",
     "output_type": "stream",
     "text": [
      "Minimum followers: 3\n",
      "Maximum followers: 29663\n"
     ]
    }
   ],
   "source": [
    "print('Minimum followers:',data_con.followers_count.min())\n",
    "print('Maximum followers:',data_con.followers_count.max())"
   ]
  },
  {
   "cell_type": "markdown",
   "metadata": {},
   "source": [
    "What is the median value for followers_count?"
   ]
  },
  {
   "cell_type": "code",
   "execution_count": 29,
   "metadata": {},
   "outputs": [
    {
     "name": "stdout",
     "output_type": "stream",
     "text": [
      "50% of tweets come from users with higher or lower numbers of followers than 712.5\n"
     ]
    }
   ],
   "source": [
    "print('50% of tweets come from users with higher or lower numbers of followers than',data_con.followers_count.median())"
   ]
  },
  {
   "cell_type": "markdown",
   "metadata": {},
   "source": [
    "Data Cleaning and Pre-processing\n",
    "\n",
    "\n",
    "We want to take a deeper look into the context of the tweets and hashtags in this notebook. For further semantical and textual analysis, we have to clean our data. This is also calles pre-processing in Natural Language Processing. It includes steps like normalising, removing stopwords, punctuation, mentions and HTML links as well as word tokenisation and word lemmatising. \n",
    "\n",
    "Some cleaning steps have been implemented in retrospect because errors or unlikely results became visible only afterwards, e.g. while displaying most frequent words (replacement of &amp --> & for example)."
   ]
  },
  {
   "cell_type": "code",
   "execution_count": 30,
   "metadata": {},
   "outputs": [
    {
     "name": "stdout",
     "output_type": "stream",
     "text": [
      "afghanistan exposed war cia endtheforeverwar\n",
      "5\n",
      "\n",
      "senior humor war\n",
      "3\n",
      "\n",
      "war yemen us eu saudi starvation yemeni genocide\n",
      "8\n",
      "\n",
      "war\n",
      "1\n",
      "\n",
      "iran condemned rocket attacks kabul proxy war khatibzadeh attacks unitedstates\n",
      "10\n",
      "\n",
      "war yemen us eu saudi starvation yemeni genocide\n",
      "8\n",
      "\n",
      "teamab btt obyfight wresling mma lutte sambo judo grappling heavyweight fighter fight training deltaproduction sport athlete war khabibnurmagomedov ufc megdan serbia\n",
      "21\n",
      "\n",
      "war\n",
      "1\n",
      "\n",
      "yemen humanitariancrisis famine war\n",
      "4\n",
      "\n",
      "bosnia serbia croatia war\n",
      "4\n",
      "\n",
      "prouddad war\n",
      "2\n",
      "\n",
      "war courtmarshaled repaoc housedemwomen repraskin reptedlieu repswalwell senbrianschatz glennkirschner2 digby56 repdebhaaland gtconway\n",
      "12\n",
      "\n",
      "dante alighieri war peace tolstoy\n",
      "5\n",
      "\n",
      "books millennial blogger wanderlust racism love blm inspiration wellness covid19 lockdown happy coronavirus women wannacoffeepod mind restrictions selfcare blacklivesmatter war podcast resist\n",
      "22\n",
      "\n",
      "pray war\n",
      "2\n",
      "\n",
      "war\n",
      "1\n",
      "\n",
      "history women war corruption morality hungary\n",
      "6\n",
      "\n",
      "war stopabiy stopthewarinethiopia\n",
      "3\n",
      "\n",
      "war genocide afghanistan\n",
      "3\n",
      "\n",
      "war stopwarontigray tigray tigraygenocide\n",
      "4\n",
      "\n",
      "metal metal premier nowplaying rock radio usa barbwires listen music rock alternative banksters bilderberg bluesrock funk hawaii hilo hiphop jazz kona peace poetry psychedelic rap rockstar swagger trap war ww3\n",
      "30\n",
      "\n",
      "shortfilm supportindiefilm truestory film nhs magic behindthescenes bts imagination fantasy students college battle warriors fight swords war\n",
      "17\n",
      "\n"
     ]
    }
   ],
   "source": [
    "#Pre-processing of hashtags\n",
    "\n",
    "def preprocess_hashtags(hashtags):\n",
    "    \"\"\"This function will clean the hashtags through removal of the brackets \n",
    "    and converting all letters to the lower case for better understanding. \n",
    "    Punctuations will be removed as well followed by tokenisation of each hashtag\"\"\"\n",
    "    hashtags=hashtags.replace('[','') #Replaces the brackets\n",
    "    hashtags=hashtags.replace(']','')\n",
    "    hashtags=hashtags.translate(str.maketrans('', '', string.punctuation)) #makestrans() translates each punctutation to none = ''\n",
    "    #The following tokenisation is not necessarily needed for the hashtags since no lemmatising/semantic analysis will be done. \n",
    "    hashtag_tokens=word_tokenize(hashtags.lower()) #word_tokenize returns a tokenised version with divided substrings and lower cases\n",
    "    return \" \".join(hashtag_tokens) #Joins all tokenised substrings\n",
    "\n",
    "#Get the number of hashtags for each tweet\n",
    "\n",
    "def hashtag_len(hashtags):\n",
    "    \"\"\"This function returns the number of hashtags used within a tweet\"\"\"\n",
    "    hashtag_tokens=word_tokenize(hashtags) #Tokenisation is necessary to create substrings which then can be countet\n",
    "    return len(hashtag_tokens)\n",
    "\n",
    "\n",
    "#Prints out hashtags for each tweet and the number of hashtags used\n",
    "\n",
    "for hashtags in data_con.all_hashtags:\n",
    "    output_length = hashtag_len(preprocess_hashtags(hashtags)) #passes the output of the first function into the argument of the second function\n",
    "    print(preprocess_hashtags(hashtags))\n",
    "    print(output_length)\n",
    "    print(\"\")"
   ]
  },
  {
   "cell_type": "markdown",
   "metadata": {},
   "source": [
    "Similar cleaning is done for the tweet text. However, more steps are needed:"
   ]
  },
  {
   "cell_type": "code",
   "execution_count": 31,
   "metadata": {},
   "outputs": [
    {
     "name": "stdout",
     "output_type": "stream",
     "text": [
      "afghanistan war exposed imperial conspiracy afghanistan war cia construct 80 today senseless stalemate two decade three administration ten thousand life time endtheforeverwar\n",
      "\n",
      "senior humor future war story\n",
      "\n",
      "end war yemen us eu uk readily supplied saudi force despite clear evidence mass civilian casualties purposeful starvation yemeni populace akin genocide\n",
      "\n",
      "rally coming soon stand detail war\n",
      "\n",
      "iran condemned saturdays rocket attack kabul call example proxy war wartorn afghanistan statement foreign ministry spokesman khatibzadeh say responsibility attack rest directly unitedstates\n",
      "\n",
      "end war yemen us eu uk readily supplied saudi force despite clear evidence mass civilian casualties purposeful starvation yemeni populace akin genocide\n",
      "\n",
      "teamab btt obyfight wresling mma lutte sambo judo grappling heavyweight fighter fight training deltaproduction sport athlete war khabibnurmagomedov ufc megdan serbia\n",
      "\n",
      "noise signal stay focused war\n",
      "\n",
      "saudi hosted therethe first problem yemen humanitariancrisis famine war\n",
      "\n",
      "dayton accord reached date 1995 president three rival balkan state bosnia serbia croatia met wrightpatterson air force base outskirts dayton ohio try hammer agreement end war bosnia\n",
      "\n",
      "dropping bearfor last middle school football game get little emotional great run itbeen 8th grade teamwe back back state championship past two yearstoday go threepeatletgo wolvesprouddad war\n",
      "\n",
      "dishonored corp died defense nation survived war hope involved get courtmarshaled repaoc housedemwomen repraskin reptedlieu repswalwell senbrianschatz glennkirschner2 digby56 repdebhaaland gtconway\n",
      "\n",
      "veronese might well referred sparkle shivering fit war peace comedy dante alighieri war peace tolstoy\n",
      "\n",
      "episode 12 second wavelink bio book millennial blogger wanderlust racism love blm inspiration wellness covid19 lockdown happy coronavirus woman wannacoffeepod mind restriction selfcare blacklivesmatter war podcast resist\n",
      "\n",
      "pray peace winlose war disastrous seen ethiopian history term humanitarian crisis economy eritrea went away ethiopia support dialogue warring party tplf ethiopian government\n",
      "\n",
      "3 serve underscore horror war also depravity accompany seems par course political military culture still dominated men hope culture changed better time\n",
      "\n",
      "2 history woman war corruption morality hungary russian occupation atrocity suffered million native woman hand liberator horrible crimes received attention deserve\n",
      "\n",
      "countless life lost thousand displaced result war letfight black life around globe stand tigray say war stopabiy stopthewarinethiopia\n",
      "\n",
      "thats enoughwar genocide afghanistan\n",
      "\n",
      "word say support war stopwarontigray tigray tigraygenocide\n",
      "\n",
      "born sin metal metal premier nowplaying rock radio usa barbwire listen music rock alternative banksters bilderberg bluesrock funk hawaii hilo hiphop jazz kona peace poetry psychedelic rap rockstar swagger trap war ww3\n",
      "\n",
      "remarkable raph aldis created immense piece armour zodiac army scratch shortfilm supportindiefilm truestory film nhs magic behindthescenes bts imagination fantasy student college battle warrior fight sword war\n",
      "\n"
     ]
    }
   ],
   "source": [
    "#Pre-processing of tweets\n",
    "\n",
    "\"\"\"Stop words such as 'the', 'and', 'a' etc. should be excluded from our tweets.\n",
    "This is due to several reasons: Stop words are very frequent and would interfere with our semantic and textual analysis \n",
    "as well as word classification. \"\"\"\n",
    "\n",
    "stop_words = set(stopwords.words('english')) #This function defines a set of stop words within the English language\n",
    "\n",
    "\n",
    "\n",
    "\n",
    "\"\"\"The next cleaning step of tweet data includes regular expression operations, word_tokenize, \n",
    "WordNetLemmatizer and nltk.pos_tag from the nltk library\"\"\"\n",
    "\n",
    "def preprocess_tweets(tweet):\n",
    "    \"\"\"This function will clean the tweets through several steps for better understanding and further analysis. \n",
    "    Steps include lowering cases, replacing punctuations, removal of b's, removal of special strings,\n",
    "    removal of URLS, removal of hashtags and tags, removal of stopwords and tokenisation and lemmatisation of tweet words\"\"\"\n",
    "    #Converts all uppercase characters into lowercase characters\n",
    "    tweet=tweet.lower() \n",
    "    #Replaces &amp; with &\n",
    "    tweet=tweet.replace('&amp;','&')\n",
    "    #Removes the 'b'' or 'b\"'  string at the beginning of each tweet\n",
    "    tweet = re.sub(r\"(b')|(b\\\")\",\"\",tweet, flags=re.MULTILINE)\n",
    "    #Removes characters with random string and integer combinations, such as \"\\xe2x80x9c\"\n",
    "    tweet = re.sub(r'[0-9]*\\\\x+([a-z]|[0-9]|[\\\\])*[^A-Z]', \"\", tweet)\n",
    "    #Removes URLs via regular expression operations. Any pattern that starts with http (or https... ) followed by one or more non-white-space characters will be removed\n",
    "    tweet = re.sub(r\"http\\S+|www\\S+|https\\S+\", '', tweet, flags=re.MULTILINE)\n",
    "    #Removes tags with '@' and hashtag character '#'\n",
    "    tweet = re.sub(r'\\@\\w+|\\#','', tweet)\n",
    "    # Removes any punctuations\n",
    "    tweet = tweet.translate(str.maketrans('', '', string.punctuation))\n",
    "    # Removes stopwords and tokenises tweet string to substrings\n",
    "    tweet_tokens = word_tokenize(tweet)\n",
    "    filtered_words = [w for w in tweet_tokens if not w in stop_words]\n",
    "    \n",
    "    #Defines lemmatizer using WordNetLemmatizer from nltk.stem\n",
    "    lm = WordNetLemmatizer()\n",
    "    #Lemmatises each pre-filtered tweet token with the correct POS (part of speech) tag \n",
    "    lemmatized_words = [lm.lemmatize(w, get_pos(w)) for w in filtered_words]\n",
    "\n",
    "    return \" \".join(lemmatized_words) #joins all tokenised and cleaned strings\n",
    "\n",
    "\n",
    "\n",
    "\"\"\"nltk.pos_tag returns the POS tag for a given word (verb, noun etc.).\n",
    "Get the correct nltk.pos_tag for each word with get_pos:\"\"\"\n",
    "\n",
    "def get_pos(word):\n",
    "        \"\"\"Maps the POS tag to a character to pass it on via a dictionnary\"\"\"\n",
    "        tag = nltk.pos_tag(word)[0][1][0].lower() #Returns the first string of the POS tag for the word (e.g. n,j,v)\n",
    "        \"\"\"WordNet is our lexical database which includes nouns, verbs, adjectives and adverbs. \n",
    "        Other words such as prepositions are ignored\"\"\"\n",
    "        tagging_dict = {\"j\": wordnet.ADJ, #Creates dictionnary with POS tags which is needed for lemmatize()\n",
    "                \"n\": wordnet.NOUN,\n",
    "                \"r\": wordnet.ADV,\n",
    "                \"v\": wordnet.VERB}\n",
    "        return tagging_dict.get(tag, wordnet.NOUN) #value=wordnet.Noun if no other value is found for the tag\n",
    "\n",
    "    \n",
    "    \n",
    "    \n",
    "\"\"\"Next, we want to get the number of strings within each cleaned tweet\"\"\"  \n",
    "\n",
    "def clean_tweet_len(tweet):\n",
    "    \"\"\"Returns the number of strings in a tweet\"\"\"\n",
    "    tweet_tokens=word_tokenize(tweet)\n",
    "    return len(tweet_tokens)\n",
    "\n",
    "\n",
    "\n",
    "# Finally, we want to print our results to take a look:\n",
    "\n",
    "for tweets in data_con.tweet_text:\n",
    "    print(preprocess_tweets(tweets))\n",
    "    print(\"\")"
   ]
  },
  {
   "cell_type": "markdown",
   "metadata": {},
   "source": [
    "After all the cleaning steps, we want to create a DataFrame with all columns that we find useful for our further analysis."
   ]
  },
  {
   "cell_type": "code",
   "execution_count": 32,
   "metadata": {},
   "outputs": [],
   "source": [
    "clean_tweets = data_con.loc[:,(\"username\",\"followers_count\")] #Creates DataFrame with original columns username and followers_count\n",
    "\n",
    "\n",
    "clean_tweets['Clean_tweet'] = data_con['tweet_text'].apply(preprocess_tweets)#Adds a new column with cleaned tweets\n",
    "clean_tweets['Clean_hashtags'] = data_con['all_hashtags'].apply(preprocess_hashtags) #Adds a new column with cleaned hashtags\n",
    "clean_tweets['Hashtag_count'] = clean_tweets['Clean_hashtags'].apply(hashtag_len) #Adds a new column with number of hashtags for each tweet\n",
    "clean_tweets['Word_count']= clean_tweets['Clean_tweet'].apply(clean_tweet_len) #Adds a new column with number of strings within each tweet"
   ]
  },
  {
   "cell_type": "markdown",
   "metadata": {},
   "source": [
    "ASSERTS"
   ]
  },
  {
   "cell_type": "markdown",
   "metadata": {},
   "source": [
    "After cleaning our data, we want to make sure that our data set only comprises of values that are desired. For that reason, we will use asserts to make sure that we can properly continue analysing our data."
   ]
  },
  {
   "cell_type": "code",
   "execution_count": 33,
   "metadata": {},
   "outputs": [],
   "source": [
    "\"\"\"This assert makes sure that all hashtags are in lower case or numerical values\"\"\"\n",
    "\n",
    "for hashtag in clean_tweets.Clean_hashtags: #each hashtag is one str object \n",
    "    for letter in hashtag:\n",
    "        \"\"\"letters in the string might be lower case, numeric (e.g. in covid19) \n",
    "        or white space characters, since '' seperates the joint hashtag terms\"\"\"\n",
    "        assert (letter.islower() | letter.isnumeric() | letter.isspace()) "
   ]
  },
  {
   "cell_type": "code",
   "execution_count": 34,
   "metadata": {},
   "outputs": [],
   "source": [
    "\"\"\"This assert makes sure that all words in tweets are in lower case or numeric values\"\"\"\n",
    "\n",
    "for tweet in clean_tweets.Clean_tweet:\n",
    "    for letter in tweet:\n",
    "        \"\"\"letters in the string might be lower case, numeric (e.g. in covid19) \n",
    "        or white space characters, since '' seperates the joint hashtag terms\"\"\"\n",
    "        assert (letter.islower() | letter.isnumeric() | letter.isspace()) "
   ]
  },
  {
   "cell_type": "code",
   "execution_count": null,
   "metadata": {},
   "outputs": [],
   "source": [
    "#The above asserts already make sure that hashtags and tweets only comprise of alphabetical or numerical values.\n",
    "#Nevertheless, we will add some more asserts, just in case.\n",
    "\n",
    "\n",
    "\"\"\"This assert makes sure that words and hashtags do not contain any punctuation\"\"\"\n",
    "\n",
    "#We make use of re.findall() that matches a certain pattern against a string and returns all matched patterns as a list\n",
    "\n",
    "punc_list=[]\n",
    "for hashtag in clean_tweets.Clean_hashtags:\n",
    "    for letter in hashtag:\n",
    "        pattern = r'[[].?\\-\",&@#]' #pattern includes any possible punctuations, hashtags and tags\n",
    "        punctuation = re.findall(pattern,letter) #returns a list with objects that match the patterm\n",
    "        punc_list.extend(punctuation) #punc_list is extended by the punctuation list\n",
    "\n",
    "for tweet in clean_tweets.Clean_tweet:\n",
    "    for letters in tweet:\n",
    "        pattern_tweet = r'[[].?\\-\",&@#]'\n",
    "        punctuation = re.findall(pattern_tweet,letters)\n",
    "        punc_list.extend(punctuation)\n",
    "        \n",
    "\"\"\"By iterating through all possible punctuations separately, \n",
    "we can see directly which punctuation caused the assert to fail\"\"\"\n",
    "        \n",
    "if '.' in punc_list:\n",
    "    assert False #use boolean for assert to fail \n",
    "if ',' in punc_list:\n",
    "    assert False\n",
    "if '[' in punc_list:\n",
    "    assert False\n",
    "if ']' in punc_list:\n",
    "    assert False   \n",
    "if '-' in punc_list:\n",
    "    assert False  \n",
    "if '?' in punc_list:\n",
    "    assert False  \n",
    "if '-' in punc_list:\n",
    "    assert False  \n",
    "if '\"' in punc_list:\n",
    "    assert False  \n",
    "if '\\\\' in punc_list:\n",
    "    assert False  \n",
    "if '&' in punc_list:\n",
    "    assert False \n",
    "if '@' in punc_list:\n",
    "    assert False \n",
    "if '#' in punc_list:\n",
    "    assert False"
   ]
  },
  {
   "cell_type": "code",
   "execution_count": 35,
   "metadata": {},
   "outputs": [],
   "source": [
    "\"\"\"This assert makes sure that tweets do not start with b' or b\" anymore. \n",
    "However, we have checked for punctuation removal already\"\"\"\n",
    "\n",
    "for tweet in clean_tweets.Clean_tweet:\n",
    "    if tweet[0]=='b': #if tweet starts with b check for second character\n",
    "        if (tweet[1]==\"'\") or (tweet[1]=='\"'):\n",
    "            assert False"
   ]
  },
  {
   "cell_type": "code",
   "execution_count": 36,
   "metadata": {},
   "outputs": [],
   "source": [
    "\"\"\"This assert makes sure that there aren't any strings that start with \\\\x as seen in the original twitter data set\"\"\"\n",
    "\n",
    "x_list=[]\n",
    "for tweet in clean_tweets.Clean_tweet: \n",
    "    xpattern = r'\\\\x+' #pattern includes \\x\n",
    "    x_letter = re.findall(xpattern,tweet) #returns a list with objects that match the patterm\n",
    "    x_list.extend(x_letter)\n",
    "\n",
    "#Check whether x_list comprises any patterns found\n",
    "if '\\\\x' in x_list:\n",
    "    assert False"
   ]
  },
  {
   "cell_type": "code",
   "execution_count": 37,
   "metadata": {},
   "outputs": [],
   "source": [
    "\"\"\"This assert makes sure that there aren't any URLS in the data set\"\"\"\n",
    "ht_list=[]\n",
    "for tweet in clean_tweets.Clean_tweet:\n",
    "    ht_pattern = r'(htt|www)' #pattern includes htt or www\n",
    "    ht_string = re.findall(ht_pattern,tweet) #returns a list with objects that match the patterm\n",
    "    ht_list.extend(ht_string)\n",
    "    \n",
    "\n",
    "#Check whether ht_list comprises any patterns found\n",
    "if 'htt' in ht_list: \n",
    "    assert False\n",
    "if 'www' in ht_list:\n",
    "    assert False"
   ]
  },
  {
   "cell_type": "markdown",
   "metadata": {},
   "source": [
    "Now that we have a clean data set, we have to take a look at some key statistics to see whether there are any specifics:"
   ]
  },
  {
   "cell_type": "code",
   "execution_count": 38,
   "metadata": {},
   "outputs": [
    {
     "data": {
      "text/html": [
       "<div>\n",
       "<style scoped>\n",
       "    .dataframe tbody tr th:only-of-type {\n",
       "        vertical-align: middle;\n",
       "    }\n",
       "\n",
       "    .dataframe tbody tr th {\n",
       "        vertical-align: top;\n",
       "    }\n",
       "\n",
       "    .dataframe thead th {\n",
       "        text-align: right;\n",
       "    }\n",
       "</style>\n",
       "<table border=\"1\" class=\"dataframe\">\n",
       "  <thead>\n",
       "    <tr style=\"text-align: right;\">\n",
       "      <th></th>\n",
       "      <th>username</th>\n",
       "      <th>followers_count</th>\n",
       "      <th>Clean_tweet</th>\n",
       "      <th>Clean_hashtags</th>\n",
       "      <th>Hashtag_count</th>\n",
       "      <th>Word_count</th>\n",
       "    </tr>\n",
       "  </thead>\n",
       "  <tbody>\n",
       "    <tr>\n",
       "      <th>count</th>\n",
       "      <td>22</td>\n",
       "      <td>22.000000</td>\n",
       "      <td>22</td>\n",
       "      <td>22</td>\n",
       "      <td>22.000000</td>\n",
       "      <td>22.000000</td>\n",
       "    </tr>\n",
       "    <tr>\n",
       "      <th>unique</th>\n",
       "      <td>19</td>\n",
       "      <td>NaN</td>\n",
       "      <td>21</td>\n",
       "      <td>19</td>\n",
       "      <td>NaN</td>\n",
       "      <td>NaN</td>\n",
       "    </tr>\n",
       "    <tr>\n",
       "      <th>top</th>\n",
       "      <td>b'sweposten'</td>\n",
       "      <td>NaN</td>\n",
       "      <td>end war yemen us eu uk readily supplied saudi ...</td>\n",
       "      <td>war</td>\n",
       "      <td>NaN</td>\n",
       "      <td>NaN</td>\n",
       "    </tr>\n",
       "    <tr>\n",
       "      <th>freq</th>\n",
       "      <td>3</td>\n",
       "      <td>NaN</td>\n",
       "      <td>2</td>\n",
       "      <td>3</td>\n",
       "      <td>NaN</td>\n",
       "      <td>NaN</td>\n",
       "    </tr>\n",
       "    <tr>\n",
       "      <th>mean</th>\n",
       "      <td>NaN</td>\n",
       "      <td>2803.727273</td>\n",
       "      <td>NaN</td>\n",
       "      <td>NaN</td>\n",
       "      <td>7.818182</td>\n",
       "      <td>18.454545</td>\n",
       "    </tr>\n",
       "    <tr>\n",
       "      <th>std</th>\n",
       "      <td>NaN</td>\n",
       "      <td>6364.293917</td>\n",
       "      <td>NaN</td>\n",
       "      <td>NaN</td>\n",
       "      <td>7.908021</td>\n",
       "      <td>8.578641</td>\n",
       "    </tr>\n",
       "    <tr>\n",
       "      <th>min</th>\n",
       "      <td>NaN</td>\n",
       "      <td>3.000000</td>\n",
       "      <td>NaN</td>\n",
       "      <td>NaN</td>\n",
       "      <td>1.000000</td>\n",
       "      <td>4.000000</td>\n",
       "    </tr>\n",
       "    <tr>\n",
       "      <th>25%</th>\n",
       "      <td>NaN</td>\n",
       "      <td>36.500000</td>\n",
       "      <td>NaN</td>\n",
       "      <td>NaN</td>\n",
       "      <td>3.000000</td>\n",
       "      <td>10.500000</td>\n",
       "    </tr>\n",
       "    <tr>\n",
       "      <th>50%</th>\n",
       "      <td>NaN</td>\n",
       "      <td>712.500000</td>\n",
       "      <td>NaN</td>\n",
       "      <td>NaN</td>\n",
       "      <td>4.500000</td>\n",
       "      <td>21.500000</td>\n",
       "    </tr>\n",
       "    <tr>\n",
       "      <th>75%</th>\n",
       "      <td>NaN</td>\n",
       "      <td>1893.250000</td>\n",
       "      <td>NaN</td>\n",
       "      <td>NaN</td>\n",
       "      <td>9.500000</td>\n",
       "      <td>23.000000</td>\n",
       "    </tr>\n",
       "    <tr>\n",
       "      <th>max</th>\n",
       "      <td>NaN</td>\n",
       "      <td>29663.000000</td>\n",
       "      <td>NaN</td>\n",
       "      <td>NaN</td>\n",
       "      <td>30.000000</td>\n",
       "      <td>32.000000</td>\n",
       "    </tr>\n",
       "  </tbody>\n",
       "</table>\n",
       "</div>"
      ],
      "text/plain": [
       "            username  followers_count  \\\n",
       "count             22        22.000000   \n",
       "unique            19              NaN   \n",
       "top     b'sweposten'              NaN   \n",
       "freq               3              NaN   \n",
       "mean             NaN      2803.727273   \n",
       "std              NaN      6364.293917   \n",
       "min              NaN         3.000000   \n",
       "25%              NaN        36.500000   \n",
       "50%              NaN       712.500000   \n",
       "75%              NaN      1893.250000   \n",
       "max              NaN     29663.000000   \n",
       "\n",
       "                                              Clean_tweet Clean_hashtags  \\\n",
       "count                                                  22             22   \n",
       "unique                                                 21             19   \n",
       "top     end war yemen us eu uk readily supplied saudi ...            war   \n",
       "freq                                                    2              3   \n",
       "mean                                                  NaN            NaN   \n",
       "std                                                   NaN            NaN   \n",
       "min                                                   NaN            NaN   \n",
       "25%                                                   NaN            NaN   \n",
       "50%                                                   NaN            NaN   \n",
       "75%                                                   NaN            NaN   \n",
       "max                                                   NaN            NaN   \n",
       "\n",
       "        Hashtag_count  Word_count  \n",
       "count       22.000000   22.000000  \n",
       "unique            NaN         NaN  \n",
       "top               NaN         NaN  \n",
       "freq              NaN         NaN  \n",
       "mean         7.818182   18.454545  \n",
       "std          7.908021    8.578641  \n",
       "min          1.000000    4.000000  \n",
       "25%          3.000000   10.500000  \n",
       "50%          4.500000   21.500000  \n",
       "75%          9.500000   23.000000  \n",
       "max         30.000000   32.000000  "
      ]
     },
     "execution_count": 38,
     "metadata": {},
     "output_type": "execute_result"
    }
   ],
   "source": [
    "clean_tweets.describe(include='all') #This includes both numerical and categorical values"
   ]
  },
  {
   "cell_type": "markdown",
   "metadata": {},
   "source": [
    "#### A few special features and key statistics:\n",
    "\n",
    "1. The unique value for Clean_tweet shows us that there are duplicates within the Clean_tweet column\n",
    "2. The maxmimum number of hashtags used in a tweet is 16, the maximum number of strings within cleaned tweets is 31\n",
    "3. The minimum values for hashtags and words within a tweet are 1 and 3, respectively\n",
    "4. The average number of hashtags used per tweet is 6.19\n",
    "5. The average number of tokenised words per tweet is 16.81\n",
    "\n",
    "Although there were 100 unique tweets in the original data set, there are duplicated in the preprocessed tweet data set. This might be due to the removal of different hashtags or tags, which means that only the tokenised words are duplicates. Although we might loose some important hashtags, duplicated will be removed. This is because the data set is very small and duplicates would influence the frequency of specific words heavily."
   ]
  },
  {
   "cell_type": "code",
   "execution_count": 39,
   "metadata": {},
   "outputs": [],
   "source": [
    "#Remove rows with same Clean_tweet content\n",
    "clean_tweets.drop_duplicates(subset=\"Clean_tweet\",keep=\"first\",inplace=True) #drops duplicates and keeps the first version of it"
   ]
  },
  {
   "cell_type": "code",
   "execution_count": 40,
   "metadata": {},
   "outputs": [
    {
     "data": {
      "text/plain": [
       "20"
      ]
     },
     "execution_count": 40,
     "metadata": {},
     "output_type": "execute_result"
    }
   ],
   "source": [
    "#new indexing so that removed duplicate row indeces won't be missing in further analysis \n",
    "clean_tweets.reset_index(drop=True, inplace=True) #drops the index\n",
    "\n",
    "clean_tweets.index.values.max() #returns the last row index of the data set"
   ]
  },
  {
   "cell_type": "code",
   "execution_count": 41,
   "metadata": {},
   "outputs": [],
   "source": [
    "\"\"\"This assert makes sure that there are as many unique tweets as number of rows\"\"\"\n",
    "\n",
    "if not len(list(clean_tweets.Clean_tweet.unique())) == clean_tweets.shape[0]:\n",
    "    assert False"
   ]
  },
  {
   "cell_type": "code",
   "execution_count": 42,
   "metadata": {},
   "outputs": [],
   "source": [
    "\"\"\"This assert makes sure that the indexing is correct\"\"\"\n",
    "\n",
    "if not clean_tweets.index.values.max() == (len(list(clean_tweets.Clean_tweet.unique()))-1): #-1 since indexing starts at 0\n",
    "    assert False"
   ]
  },
  {
   "cell_type": "markdown",
   "metadata": {},
   "source": [
    "Now that we have a clean data set, let us take a look at some key characteristics of the data:"
   ]
  },
  {
   "cell_type": "code",
   "execution_count": 43,
   "metadata": {},
   "outputs": [
    {
     "data": {
      "text/html": [
       "<div>\n",
       "<style scoped>\n",
       "    .dataframe tbody tr th:only-of-type {\n",
       "        vertical-align: middle;\n",
       "    }\n",
       "\n",
       "    .dataframe tbody tr th {\n",
       "        vertical-align: top;\n",
       "    }\n",
       "\n",
       "    .dataframe thead th {\n",
       "        text-align: right;\n",
       "    }\n",
       "</style>\n",
       "<table border=\"1\" class=\"dataframe\">\n",
       "  <thead>\n",
       "    <tr style=\"text-align: right;\">\n",
       "      <th></th>\n",
       "      <th>username</th>\n",
       "      <th>followers_count</th>\n",
       "      <th>Clean_tweet</th>\n",
       "      <th>Clean_hashtags</th>\n",
       "      <th>Hashtag_count</th>\n",
       "      <th>Word_count</th>\n",
       "    </tr>\n",
       "  </thead>\n",
       "  <tbody>\n",
       "    <tr>\n",
       "      <th>0</th>\n",
       "      <td>b'sweposten'</td>\n",
       "      <td>1822</td>\n",
       "      <td>afghanistan war exposed imperial conspiracy af...</td>\n",
       "      <td>afghanistan exposed war cia endtheforeverwar</td>\n",
       "      <td>5</td>\n",
       "      <td>22</td>\n",
       "    </tr>\n",
       "    <tr>\n",
       "      <th>1</th>\n",
       "      <td>b'ENoyes5246'</td>\n",
       "      <td>6211</td>\n",
       "      <td>senior humor future war story</td>\n",
       "      <td>senior humor war</td>\n",
       "      <td>3</td>\n",
       "      <td>5</td>\n",
       "    </tr>\n",
       "    <tr>\n",
       "      <th>2</th>\n",
       "      <td>b'sweposten'</td>\n",
       "      <td>1822</td>\n",
       "      <td>end war yemen us eu uk readily supplied saudi ...</td>\n",
       "      <td>war yemen us eu saudi starvation yemeni genocide</td>\n",
       "      <td>8</td>\n",
       "      <td>22</td>\n",
       "    </tr>\n",
       "    <tr>\n",
       "      <th>3</th>\n",
       "      <td>b'RadBoonMising'</td>\n",
       "      <td>3</td>\n",
       "      <td>rally coming soon stand detail war</td>\n",
       "      <td>war</td>\n",
       "      <td>1</td>\n",
       "      <td>6</td>\n",
       "    </tr>\n",
       "    <tr>\n",
       "      <th>4</th>\n",
       "      <td>b'anewscomtr'</td>\n",
       "      <td>29663</td>\n",
       "      <td>iran condemned saturdays rocket attack kabul c...</td>\n",
       "      <td>iran condemned rocket attacks kabul proxy war ...</td>\n",
       "      <td>10</td>\n",
       "      <td>23</td>\n",
       "    </tr>\n",
       "  </tbody>\n",
       "</table>\n",
       "</div>"
      ],
      "text/plain": [
       "           username  followers_count  \\\n",
       "0      b'sweposten'             1822   \n",
       "1     b'ENoyes5246'             6211   \n",
       "2      b'sweposten'             1822   \n",
       "3  b'RadBoonMising'                3   \n",
       "4     b'anewscomtr'            29663   \n",
       "\n",
       "                                         Clean_tweet  \\\n",
       "0  afghanistan war exposed imperial conspiracy af...   \n",
       "1                      senior humor future war story   \n",
       "2  end war yemen us eu uk readily supplied saudi ...   \n",
       "3                 rally coming soon stand detail war   \n",
       "4  iran condemned saturdays rocket attack kabul c...   \n",
       "\n",
       "                                      Clean_hashtags  Hashtag_count  \\\n",
       "0       afghanistan exposed war cia endtheforeverwar              5   \n",
       "1                                   senior humor war              3   \n",
       "2   war yemen us eu saudi starvation yemeni genocide              8   \n",
       "3                                                war              1   \n",
       "4  iran condemned rocket attacks kabul proxy war ...             10   \n",
       "\n",
       "   Word_count  \n",
       "0          22  \n",
       "1           5  \n",
       "2          22  \n",
       "3           6  \n",
       "4          23  "
      ]
     },
     "execution_count": 43,
     "metadata": {},
     "output_type": "execute_result"
    }
   ],
   "source": [
    "clean_tweets.head() #returns the first few rows of the DataFrame"
   ]
  },
  {
   "cell_type": "markdown",
   "metadata": {},
   "source": [
    "What is the tweet with the highest number of words?"
   ]
  },
  {
   "cell_type": "code",
   "execution_count": 44,
   "metadata": {},
   "outputs": [
    {
     "name": "stdout",
     "output_type": "stream",
     "text": [
      "' born sin metal metal premier nowplaying rock radio usa barbwire listen music rock alternative banksters bilderberg bluesrock funk hawaii hilo hiphop jazz kona peace poetry psychedelic rap rockstar swagger trap war ww3 ' is the tweet with the highest word count.\n"
     ]
    }
   ],
   "source": [
    "#iloc will return the output for the column index, idxmax() looks for the row with the highest value for df.column\n",
    "\n",
    "print(\"'\", clean_tweets.iloc[clean_tweets[\"Word_count\"].idxmax(),2], \"'\", \"is the tweet with the highest word count.\") "
   ]
  },
  {
   "cell_type": "markdown",
   "metadata": {},
   "source": [
    "What is the tweet with the highest number of hashtags used?"
   ]
  },
  {
   "cell_type": "code",
   "execution_count": 45,
   "metadata": {},
   "outputs": [
    {
     "name": "stdout",
     "output_type": "stream",
     "text": [
      "' born sin metal metal premier nowplaying rock radio usa barbwire listen music rock alternative banksters bilderberg bluesrock funk hawaii hilo hiphop jazz kona peace poetry psychedelic rap rockstar swagger trap war ww3 ' is the tweet with the highest number of hashtags used.\n"
     ]
    }
   ],
   "source": [
    "print(\"'\",clean_tweets.iloc[clean_tweets[\"Hashtag_count\"].idxmax(),2], \"'\", \"is the tweet with the highest number of hashtags used.\") "
   ]
  },
  {
   "cell_type": "markdown",
   "metadata": {},
   "source": [
    "We already know about the average word count and hashtag count. But how are they distributed?"
   ]
  },
  {
   "cell_type": "code",
   "execution_count": 46,
   "metadata": {},
   "outputs": [
    {
     "data": {
      "image/png": "[encoded data removed]",
      "text/plain": [
       "<Figure size 720x504 with 1 Axes>"
      ]
     },
     "metadata": {},
     "output_type": "display_data"
    }
   ],
   "source": [
    "%matplotlib inline \n",
    "#Shows graphs in jupyter directly\n",
    "\n",
    "sns.set_style(\"whitegrid\") #Adds a whitegrid to the graph\n",
    "\n",
    "plt.figure(figsize=(10,7)) #Changes the size of the graph\n",
    "\n",
    "chart = sns.distplot(clean_tweets[\"Hashtag_count\"], label=\"Number of Hashtags\") #The distplot function creates a chart\n",
    "chart = sns.distplot(clean_tweets[\"Word_count\"], label=\"Number of Tweet Words\")\n",
    "\n",
    "chart.set_title(\"The distribution of hashtag and tweet word counts\") #Gives the chart a title\n",
    "chart.set(xlabel='word count', ylabel='probability density') #Sets labels for both axes\n",
    "chart.legend()\n",
    "plt.show()"
   ]
  },
  {
   "cell_type": "markdown",
   "metadata": {},
   "source": [
    "As we can see, the distribution of hashtag counts is more narrow and peaks higher than the distribution of tweet word counts. This makes sense since a tweet post is limited in its character space but tends to comprise more 'normal' words instead of hashtags (words with a # sign). Thus, the number of hashtags normally is much lower than the overall Tweet word count. We can also see that most of the tweets have less than 5 hashtags. When it comes to the Twitter word count, it is hard to tell which word size was the most frequent one. It seems like a lot of tweets comprise of around 20-25 words. However, we have excluded stop words, so this data is not very accurate. "
   ]
  },
  {
   "cell_type": "markdown",
   "metadata": {},
   "source": [
    "Now, we can finally start looking at the sentiment of the tweets. We want to try to understand whether a tweet is mainly negative, postive or neutral in its meaning/emotion/sentiment. In this case, we will use TextBlob for sentiment analysis.\n",
    "\n",
    "The polarity will tell us about the sentiment and emotion of each tweet. The sentiment values lie between -1 and 1, with -1 being strongly negative, 1 strongly positive and 0 being neutral."
   ]
  },
  {
   "cell_type": "code",
   "execution_count": 47,
   "metadata": {},
   "outputs": [],
   "source": [
    "def get_polarity(tweet):\n",
    "    '''\n",
    "    This function uses TextBlob to categorise each tweet based on its \n",
    "    sentiment value either to positive (>0), negative (<0) or neutral sentiment (=0).\n",
    "    '''\n",
    "    analysed_tweets = TextBlob(tweet)\n",
    "    if analysed_tweets.sentiment.polarity > 0:\n",
    "        return 'Positive'\n",
    "    elif analysed_tweets.sentiment.polarity == 0:\n",
    "        return 'Neutral'\n",
    "    else:\n",
    "        return 'Negative'\n",
    "    \n",
    "def get_sentiment(tweet):\n",
    "    '''\n",
    "    This function uses TextBlob to return the sentiment value.\n",
    "    '''\n",
    "    analysed_tweets = TextBlob(tweet)\n",
    "    return analysed_tweets.sentiment.polarity"
   ]
  },
  {
   "cell_type": "markdown",
   "metadata": {},
   "source": [
    "Next, we want to apply two new columns with the 'Polarity' and 'Sentiment' values for each tweet. Then, we will create a dictionnairy to display the ratio of positive, negative and neutral tweets."
   ]
  },
  {
   "cell_type": "code",
   "execution_count": 48,
   "metadata": {},
   "outputs": [
    {
     "data": {
      "image/png": "[encoded data removed]",
      "text/plain": [
       "<Figure size 720x720 with 1 Axes>"
      ]
     },
     "metadata": {},
     "output_type": "display_data"
    }
   ],
   "source": [
    "#Apply new columns with polarity and sentiment values\n",
    "\n",
    "clean_tweets['Polarity'] = clean_tweets[\"Clean_tweet\"].apply(get_polarity) #Adds new column with categorical polarity values\n",
    "clean_tweets['Sentiment'] = clean_tweets[\"Clean_tweet\"].apply(get_sentiment) #Adds new column with numerical sentiment values\n",
    "\n",
    "#Create a new dictionnairy with the frequency of each polarity within the data set\n",
    "\n",
    "senti_tweets={} #Create new dictionnary \n",
    "for index in clean_tweets['Polarity'].value_counts().index: #iterate through all possible polarities\n",
    "    if index == 'Neutral':\n",
    "        senti_tweets[\"Neutral\"]= clean_tweets['Polarity'].value_counts()[index] #Add frequency of Neutral polarities to the dict\n",
    "    elif index == 'Positive':\n",
    "        senti_tweets[\"Positive\"]= clean_tweets['Polarity'].value_counts()[index] #Add frequency of Positive polarities to the dict\n",
    "    else:\n",
    "        senti_tweets[\"Negative\"]= clean_tweets['Polarity'].value_counts()[index] #Add frequency of Negative polarities to the dict\n",
    "        \n",
    "\n",
    "%matplotlib inline \n",
    "#Shows graphs in jupyter directly\n",
    "\n",
    "#Plot the polarity of tweets \n",
    "fig, ax = plt.subplots(figsize=(10, 10)) #Set the figure size of the graph\n",
    "ax.pie(senti_tweets.values(), labels=senti_tweets.keys(), autopct='%1.1f%%', startangle=110, textprops={'fontsize': 18}) #autopct displays the percentage of each category on the graph\n",
    "#Axis is set as 'equal' so that the pie chart is a circle which sums up to 100%\n",
    "ax.axis('equal') \n",
    "plt.title('Tweets Sentimental Anylsis', size = 25)\n",
    "\n",
    "\n",
    "plt.show()"
   ]
  },
  {
   "cell_type": "markdown",
   "metadata": {},
   "source": [
    "The pie chart displays that the polarity of tweets is quite evenly distributed. There are slightly more tweets that have an overall neutral or positive sentiment or opinion. Both make up 34.4%, respectively. On the other hand, negative tweets are slightly less frequent with only 31.2% of all tweets. \n",
    "\n",
    "This might be surprising due to the fact that we scraped data using the term 'conflict' which usually is perceived as a negative sentiment or linked to crisis. \n",
    "\n",
    "Reasons for inaccuracies could be due to the small data set or the TextBlob Analyzer. In addition, it might be the case that 'conflict' here is used in a different context and not related to any international politics. Examples could be 'conflict management at work' etc. \n",
    "\n",
    "To further analyse the sentiment and the patterns associated with the term and frequency of 'conflict', we will calculate the conflict count further down in the notebook."
   ]
  },
  {
   "cell_type": "code",
   "execution_count": 49,
   "metadata": {},
   "outputs": [
    {
     "data": {
      "text/plain": [
       "0     0.000000\n",
       "1     0.000000\n",
       "2     0.150000\n",
       "3     0.000000\n",
       "4    -0.012500\n",
       "5     0.000000\n",
       "6     0.000000\n",
       "7     0.250000\n",
       "8    -0.800000\n",
       "9    -0.004167\n",
       "10    0.000000\n",
       "11    0.400000\n",
       "12    0.433333\n",
       "13   -0.700000\n",
       "14    0.133333\n",
       "15   -0.500000\n",
       "16   -0.083333\n",
       "17    0.000000\n",
       "18    0.000000\n",
       "19    0.000000\n",
       "20    0.416667\n",
       "Name: Sentiment, dtype: float64"
      ]
     },
     "execution_count": 49,
     "metadata": {},
     "output_type": "execute_result"
    }
   ],
   "source": [
    "#Take a look at the first and last sentiment values calculated\n",
    "clean_tweets[\"Sentiment\"]"
   ]
  },
  {
   "cell_type": "markdown",
   "metadata": {},
   "source": [
    "Now we want to find out what the average word count is for tweets with specific polarities:"
   ]
  },
  {
   "cell_type": "code",
   "execution_count": 50,
   "metadata": {},
   "outputs": [
    {
     "name": "stdout",
     "output_type": "stream",
     "text": [
      "{'Positive word mean': 20.333333333333332, 'Negative word mean': 23.166666666666668, 'Neutral word mean': 13.666666666666666}\n"
     ]
    }
   ],
   "source": [
    "filter_pos=clean_tweets[\"Polarity\"]==\"Positive\" #Creates filter to select all rows where \"Sentiment\" is \"Positive\"\n",
    "pos_mean=((clean_tweets.where(filter_pos))[\"Word_count\"].mean())#The filter is applied with daf.where() and mean values of the Word_count are stored into a variable\n",
    "\n",
    "filter_neg=clean_tweets[\"Polarity\"]==\"Negative\" #Filter for negative tweets\n",
    "neg_mean=((clean_tweets.where(filter_neg))[\"Word_count\"]).mean()\n",
    "\n",
    "filter_neu=clean_tweets[\"Polarity\"]==\"Neutral\" #Filter for neutral tweets\n",
    "neu_mean=((clean_tweets.where(filter_neu))[\"Word_count\"]).mean()\n",
    "\n",
    "#Define a dictionnairy to print out results\n",
    "dic_sent_means={'Positive word mean':pos_mean,'Negative word mean':neg_mean, 'Neutral word mean':neu_mean}\n",
    "print(dic_sent_means)"
   ]
  },
  {
   "cell_type": "markdown",
   "metadata": {},
   "source": [
    "After the display of the sentiment for each tweet, we want to take a look into the frequency of the word 'conflict' within a tweet. Since the data set was scraped using the hashtag #conflict, we expect that word to accure most frequently across all tweets.\n",
    "\n",
    "Notably, we have removed hashtags from the cleaned tweets. However, in most cases the term was still used as a normal string in the tweet:"
   ]
  },
  {
   "cell_type": "code",
   "execution_count": 52,
   "metadata": {},
   "outputs": [],
   "source": [
    "def conflict_per_tweet(tweet):\n",
    "    \"\"\"This function uses TextBlob's 'word_count' to \n",
    "    count the frequency of the word 'conflict' for each tweet\"\"\"\n",
    "    conflict_tweets=TextBlob(tweet) #Creates a TextBlob object to analyse\n",
    "    conflict_count=conflict_tweets.word_counts[\"conflict\"] #Counts frequency of the term 'conflict' within a TextBlob\n",
    "        \n",
    "    return conflict_count\n",
    "\n",
    "#Next, we want to add these values to a new column in our data set:\n",
    "\n",
    "clean_tweets['Conflict_count'] = clean_tweets[\"Clean_tweet\"].apply(conflict_per_tweet) \n",
    "#gets the frequency of 'conflict' for each cleaned tweet and puts it in a new column\n",
    "    "
   ]
  },
  {
   "cell_type": "markdown",
   "metadata": {},
   "source": [
    "After we computed the sentiment values and the frequencies of the word 'conflict' for each tweet, it would be interesting to see if there is a relation between the sentiment value and the occurence of the word 'conflict':"
   ]
  },
  {
   "cell_type": "code",
   "execution_count": 53,
   "metadata": {},
   "outputs": [
    {
     "data": {
      "text/plain": [
       "<Figure size 720x720 with 0 Axes>"
      ]
     },
     "metadata": {},
     "output_type": "display_data"
    },
    {
     "data": {
      "image/png": "[encoded data removed]",
      "text/plain": [
       "<Figure size 360x360 with 1 Axes>"
      ]
     },
     "metadata": {},
     "output_type": "display_data"
    },
    {
     "data": {
      "image/png": "[encoded data removed]",
      "text/plain": [
       "<Figure size 432x288 with 1 Axes>"
      ]
     },
     "metadata": {},
     "output_type": "display_data"
    }
   ],
   "source": [
    "#Graph about the relation between sentiment values and conflict term frequency\n",
    "\n",
    "\n",
    "sns.set_style(\"whitegrid\") #Adds a whitegrid to the graph\n",
    "plt.figure(figsize=(10,10)) #Sets the figure size\n",
    "\n",
    "conflict_sentiment=sns.catplot(x='Conflict_count', y='Sentiment', data=clean_tweets, kind='bar')#sns.catplot() with kind=\"bar\" creates a barchart with error bars to show confidence intervals\n",
    "conflict_sentiment.set(xlabel=\"Conflict_count\",ylabel=\"Sentiment\") #Labels the axes\n",
    "conflict_sentiment.set(title=\"(1) Sentiment values and frequency of 'conflict'\") #Sets a title\n",
    "plt.xticks(np.arange(0,4,1)) #Sets the start, end and tick size\n",
    "plt.yticks(np.arange(-0.2,0.4,0.1))\n",
    "plt.show()\n",
    "\n",
    "#Graph about the frequency of the term 'conflict' in each tweet\n",
    "\n",
    "chart = sns.distplot(clean_tweets[\"Conflict_count\"], kde=False) #The distplot function with kde=False creates a histogram-like chart \n",
    "chart.set_title(\" (2) Frequency of the term 'conflict' for each tweet\") #Gives the chart a title\n",
    "plt.xlim(0,3) #Sets min and max for tips shown on the x-axis\n",
    "plt.xticks(np.arange(0,3,1)) #Sets the start, end and tick size\n",
    "plt.yticks(np.arange(0,90,10))\n",
    "chart.set(xlabel='conflict count', ylabel='probability density') #Sets labels for both axes\n",
    "plt.show()"
   ]
  },
  {
   "cell_type": "markdown",
   "metadata": {},
   "source": [
    "As we can see in graph (1), the increasing frequency of the term conflict goes along with higher sentiment values. \n",
    "\n",
    "Positive sentiment values indicate that the overall sentiment polary is positive. However, one could think that the graph suggests that the increased occurence of the term 'conflict' is associated with a positive sentiment. \n",
    "\n",
    "Notably, these results are not significant at all. Based on the overlapping error bars in graph (1) we can tell that the confidence interval for term frequencies 1 and 2 are very huge. Thus, these results are not very informative. \n",
    "\n",
    "\n",
    "However, the error bars of term frequencies 2 and 3 are not overlapping. This might be strange, since we expect that 'conflict' is associated to negative sentiments. \n",
    "\n",
    "One possible explanation could be that the TexBlob Sentiment analysis is not very accurate, since it is not an individually trained model. Another explanation could be, that we simply do not have enough data to display significant results.\n",
    "\n",
    "In graph (2) we can see that the term 'conflict' was mentioned once in most of the tweets (>80). Only a small portion of tweets actually used the term zero, twice or three times. \n",
    "\n",
    "For further exploration, we could try NaiveBayesAnalyzer() instead of the default PatternAnalyzer as the analyzer of our choice for the TextBlob Sentiment Analysis."
   ]
  },
  {
   "cell_type": "markdown",
   "metadata": {},
   "source": [
    "Let us take a look at the frequency of followers_count values. Is there a relation between the number of followers a user has and the amount of hashtags they use?"
   ]
  },
  {
   "cell_type": "code",
   "execution_count": 54,
   "metadata": {},
   "outputs": [
    {
     "data": {
      "image/png": "[encoded data removed]",
      "text/plain": [
       "<Figure size 576x576 with 1 Axes>"
      ]
     },
     "metadata": {},
     "output_type": "display_data"
    },
    {
     "data": {
      "image/png": "[encoded data removed]",
      "text/plain": [
       "<Figure size 554.4x504 with 1 Axes>"
      ]
     },
     "metadata": {},
     "output_type": "display_data"
    }
   ],
   "source": [
    "#Histogram-like graph to display the frequency of followers numbers\n",
    "plt.figure(figsize=(8,8))\n",
    "chart = sns.distplot(clean_tweets[\"followers_count\"], kde=False, bins=135) #The distplot function creates a chart with the frequency of followers_count values\n",
    "chart.set_title(\"(1) Distribution of the followers count\") #Gives the chart a title\n",
    "plt.xlim(0,10000) #Sets min and max for tips shown on the x-axis\n",
    "#plt.xticks(np.arange(0,10000,1000)) #Sets the start, end and tick size\n",
    "chart.set(xlabel='followers_count', ylabel='probability density') #Sets labels for both axes\n",
    "plt.show()\n",
    "\n",
    "\n",
    "#lmplot to show the relation between followers count and number of hashtags used\n",
    "#lmplot is a scatterplot with an optional regression line which marks the best available fit for the trend\n",
    "chart_scatter=sns.lmplot( x=\"Hashtag_count\", y=\"followers_count\", data=clean_tweets, fit_reg=True, height=7, aspect=1.1) #Calculates regression line as well as height and width of the lmplot figure\n",
    "fig = chart_scatter.fig #Gives access to the figure to set title\n",
    "fig.suptitle(\"(2) Relation between numbers of hashtags used and number of followers\", fontsize=13) #Adds a title to the figure\n",
    "\n",
    "plt.show()\n",
    "\n",
    "\n"
   ]
  },
  {
   "cell_type": "markdown",
   "metadata": {},
   "source": [
    "As we can tell from graph (1), most users have a follower base of below 1000. Approximately 13 users have a follower base between 1000 and 2000. Only a few users have more than 3000 followers. Notably, the graph displays follower numbers only until 10000 for better visualisation since there is only a small number of outliers in the range of 100,000 followers.\n",
    "\n",
    "In graph (2), we can see a slightly negative correlation between the follower count and the amount of hashtags used. With decreasing follower numbers, the amount of hashtags seem to increase. This might be due to heavy fluctuations in the follower number as seen in the light blue shadowed region around the regression line.\n",
    "\n",
    "A possible explanation for the negative correlation could be due to the fact that a high follower count is associated with verified users such as media outlets or news agencies. News agencies and other official accounts might use less hashtags and only important ones to emphazise their professionalism and the importance of their tweet message. Private users on the other hand might tend to use a larger number of hashtags, that goes into the two-digit range."
   ]
  },
  {
   "cell_type": "markdown",
   "metadata": {},
   "source": [
    "In the next boxplot, we want to visualise the distribution of  follower count values in the given polarity categories. Can a pattern be recognised?"
   ]
  },
  {
   "cell_type": "code",
   "execution_count": 55,
   "metadata": {},
   "outputs": [
    {
     "data": {
      "image/png": "[encoded data removed]",
      "text/plain": [
       "<Figure size 1080x1440 with 1 Axes>"
      ]
     },
     "metadata": {},
     "output_type": "display_data"
    }
   ],
   "source": [
    "#Create boxplot for followers_count and polarity values\n",
    "plt.figure(figsize=(15,20))\n",
    "ax=sns.boxplot(x=\"Polarity\", y=\"followers_count\", data=clean_tweets, showmeans=True, meanprops={\"marker\":\"o\", \"markerfacecolor\":\"white\",\"markeredgecolor\":\"black\", \"markersize\": \"10\"}) #Creates boxplots for each day with the respective proportion values and shows the mean value\n",
    "ax.set(xlabel=\"Polarity\", ylabel=\"Number of followers\") #Sets labels for both axes\n",
    "ax.set_title(\"Number of followers for each polarity category\") #Sets a title for the graph\n",
    "plt.show()"
   ]
  },
  {
   "cell_type": "markdown",
   "metadata": {},
   "source": [
    "We can see that tweets with a positive sentiment polarity tend to be associated with a slightly larger follower base on average. This might be due to the large amounts of outliers that reach a follower count of almost 140000. \n",
    "\n",
    "The small size of the data set could be the reason for heavy fluctuations. However, most of the high follower outliers seem to be within the positive sentiment category. Interestingly, that would mean that user with higher followers and thus media outlets or news agencies tend to post tweets that are more positive in their meaning and emotion. \n",
    "\n",
    "On the other side, the 75% interquartile of the neutral category is larger than the one of the positive category. This means that 75% of all followers that have posted tweets with a neutral sentiment have a higher follower base than 75% of the followers that posted tweets with a positive sentiment. \n",
    "\n",
    "Overall, tweets with a negative sentiment were posted from users with the lowest average follower base. \n",
    "\n",
    "\n",
    "\n",
    "\n",
    "\n"
   ]
  },
  {
   "cell_type": "markdown",
   "metadata": {},
   "source": [
    "WORDCLOUD and WORD FREQUENCIES\n",
    "\n",
    "Now that we have looked into some relations between the frequency of the word 'conflict' and sentiment as well as the relation between followers count and other values, we want to take a look at other frequently mentioned words using WordCloud. \n",
    "\n",
    "We do this in order to categorise our tweets better and to see, whether we can find a pattern. The main question that we are asking ourselves is: \n",
    "\n",
    "What are the 'conflict' tweets about? Is there a way to categorise them? Is there a pattern between hashtags used and the sentiment values? Is there a pattern between hashtags and tweet topics? "
   ]
  },
  {
   "cell_type": "code",
   "execution_count": 64,
   "metadata": {},
   "outputs": [
    {
     "data": {
      "image/png": "[encoded data removed]",
      "text/plain": [
       "<Figure size 360x360 with 1 Axes>"
      ]
     },
     "metadata": {},
     "output_type": "display_data"
    }
   ],
   "source": [
    "#Create a WordCloud to display most frequent words in all tweets\n",
    "\n",
    "image_mask = np.array(Image.open('circle.png')) #Image processing using np.array(Image.open())\n",
    "\n",
    "#Use pre-installed WordCloud function and image_mask to build a WordCloud with frequently used terms in tweets\n",
    "wc = WordCloud(width=500, height=500, background_color=\"white\", max_words=12, mask=image_mask) \n",
    "clean_string = ''.join(clean_tweets[\"Clean_tweet\"]) #wc works on string objects\n",
    "#frequency of each word in clean_string\n",
    "wc=wc.generate(clean_string) #Generates a WordCloud on string object \n",
    "\n",
    "\n",
    "\n",
    "#Now display the WordCloud\n",
    "\n",
    "f = plt.figure(figsize=(5,5)) #Sets the figure size\n",
    "\n",
    "plt.imshow(wc, interpolation='bilinear') #Displays data on a 2D regular raster with wc being an array-like or PIL image\n",
    "#interpolation='bilinear' will make a less 'blocky' image of a small array\n",
    "plt.title('Conflict Tweet WordCloud', size=15) #Sets the title\n",
    "plt.axis(\"off\") #Removes the background and axes \n",
    "plt.show()"
   ]
  },
  {
   "cell_type": "markdown",
   "metadata": {},
   "source": [
    "We will do the same for the hashtag terms:"
   ]
  },
  {
   "cell_type": "code",
   "execution_count": 65,
   "metadata": {},
   "outputs": [
    {
     "data": {
      "image/png": "[encoded data removed]",
      "text/plain": [
       "<Figure size 360x360 with 1 Axes>"
      ]
     },
     "metadata": {},
     "output_type": "display_data"
    }
   ],
   "source": [
    "#Generate WordCloud for frequently used hashtags\n",
    "\n",
    "\n",
    "image_mask = np.array(Image.open('circle.png')) #Image processing using np.array(Image.open())\n",
    "\n",
    "wc = WordCloud(width=500, height=500, background_color=\"white\", max_words=12, mask=image_mask)\n",
    "clean_hasht = ''.join(clean_tweets[\"Clean_hashtags\"])\n",
    "wc.generate(clean_hasht)\n",
    "\n",
    "f = plt.figure(figsize=(5,5))\n",
    "\n",
    "#Now display the WordCloud\n",
    "\n",
    "plt.imshow(wc, interpolation='bilinear') #Displays data on a 2D regular raster with wc being an array-like or PIL image\n",
    "plt.title('Hashtag WordCloud', size=15)\n",
    "plt.axis(\"off\")\n",
    "plt.show()"
   ]
  },
  {
   "cell_type": "markdown",
   "metadata": {},
   "source": [
    "As we can see, the top 12 terms are quite similar to each other with only a few variations. \n",
    "Since we used the term 'conflict' to srcap our data, it is clear that it appears as the biggest term in the image. \n",
    "Besides 'conflict' we can also see terms as 'covid19', 'azerbaijian', 'armenia', 'civilian', 'karabakh' and 'nagornokarabakh' very prominently in both WordClouds.\n",
    "\n",
    "This might be due to the ongoing covid-19 crises as well as the Nagorno-Karabakh (a part of Azerbaijan controlled by Armenians) conflict in Armenia-Azerbaijan.\n",
    "\n",
    "For a better quantification of often used terms in tweets and hashtags, we will now calculate the frequency of the most common terms."
   ]
  },
  {
   "cell_type": "markdown",
   "metadata": {},
   "source": [
    "Another possibility to display frequently mentioned terms can be done using 'value_counts()'. Here, we will create a new dataframe that displays the most prevalent words and their frequency of occurence in tweets."
   ]
  },
  {
   "cell_type": "code",
   "execution_count": 98,
   "metadata": {},
   "outputs": [],
   "source": [
    "#Frequency of most common terms in \"Clean_tweet\" is calculated\n",
    "\n",
    "#Create a new DataFrame with tokenised words of all tweets\n",
    "df_words = pd.DataFrame(nltk.tokenize.word_tokenize(clean_string), columns=[\"words\"])\n",
    "#Count the frequency of each word using value_counts()\n",
    "word_freq = df_words[\"words\"].value_counts() #This is a pandas.series\n",
    "\n",
    "\n",
    "#Convert series to a dictionnairy to a dataframe\n",
    "frame_word_freq = {\"word\": word_freq.index, \"frequency\": word_freq} #Creates a dictionnairy\n",
    "df_word_freq = pd.DataFrame(frame_word_freq) #Creates a DataFrame \n",
    "df_word_freq.reset_index(drop=True, inplace=True) #Drops the original index \n",
    "\n",
    "#Drops all rows with words that appear less than 7 times\n",
    "df_word_freq = df_word_freq.drop(df_word_freq[df_word_freq.frequency < 2].index) "
   ]
  },
  {
   "cell_type": "markdown",
   "metadata": {},
   "source": [
    "The same is done for hashtags:"
   ]
  },
  {
   "cell_type": "code",
   "execution_count": 93,
   "metadata": {},
   "outputs": [],
   "source": [
    "#Frequency of most common terms in \"Clean_hashtags\" is calculated\n",
    "\n",
    "#Create a new DataFrame with tokenised words of all hashtags\n",
    "df_hashtags = pd.DataFrame(nltk.tokenize.word_tokenize(clean_hasht), columns=[\"hashtags\"])\n",
    "#Count the frequency of each word using value_counts()\n",
    "hasht_freq = df_hashtags[\"hashtags\"].value_counts()\n",
    "\n",
    "\n",
    "# hasht_freq is a series. It will be converted into a dataframe to easily create a barchart\n",
    "frame_hasht_freq = {\"hashtag\": hasht_freq.index, \"frequency\": hasht_freq} #Creates a dictionnairy \n",
    "df_hasht_freq = pd.DataFrame(frame_hasht_freq) #Creates a DataFrame \n",
    "df_hasht_freq.reset_index(drop=True, inplace=True) #Drops the original index \n",
    "\n",
    "#Drops all rows with hashtags that appear less than 4 times\n",
    "df_hasht_freq = df_hasht_freq.drop(df_hasht_freq[df_hasht_freq.frequency < 2].index)"
   ]
  },
  {
   "cell_type": "markdown",
   "metadata": {},
   "source": [
    "Now, we can finally create a barplot to display the most frequent words used in tweets and hashtags:"
   ]
  },
  {
   "cell_type": "code",
   "execution_count": 99,
   "metadata": {},
   "outputs": [
    {
     "data": {
      "image/png": "[encoded data removed]",
      "text/plain": [
       "<Figure size 1080x1080 with 1 Axes>"
      ]
     },
     "metadata": {},
     "output_type": "display_data"
    },
    {
     "data": {
      "image/png": "[encoded data removed]",
      "text/plain": [
       "<Figure size 1296x1080 with 1 Axes>"
      ]
     },
     "metadata": {},
     "output_type": "display_data"
    }
   ],
   "source": [
    "#Barplot fof frequency of terms in Clean_tweet\n",
    "\n",
    "plt.figure(figsize=(15,15)) #Sets figure size\n",
    "\n",
    "ax=sns.barplot(x=\"word\",y=\"frequency\", data=df_word_freq) #Creates a barchart for each word and its frequency\n",
    "ax.set(title=\"Term frequency in clean tweets\") #Sets the title\n",
    "plt.yticks(np.arange(0,100,10)) #Sets the min, max values and tick size\n",
    "plt.show()\n",
    "\n",
    "#Barplot of frequency of terms in Clean_hashtags\n",
    "plt.figure(figsize=(18,15)) #Sets figure size\n",
    "\n",
    "hasht_ax=sns.barplot(x=\"hashtag\",y=\"frequency\", data=df_hasht_freq) #Creates a barchart for each word and its frequency\n",
    "hasht_ax.set(title=\"Hashtag frequency in tweets\") #Sets the title\n",
    "plt.yticks(np.arange(0,70,10)) #Sets the min, max values and tick size\n",
    "plt.show()"
   ]
  },
  {
   "cell_type": "markdown",
   "metadata": {},
   "source": [
    "As we can see, the term conflict is unquestionably the top used term, since it was mentioned approx. 90 times in tweets and over 55 times as a hashtag.\n",
    "\n",
    "More interestingly however, the second most frequent term used in tweets is 'war', closely followed by 'armenia'. In tweets, the term 'armenia' was mentioned more often than 'azerbaijan'.\n",
    "\n",
    "In hashtags however, it is quite the opposite with 'azerbaijan' being mentioned more frequently than 'armenia'.\n",
    "\n",
    "Additionally, there are a lot of other terms associated with the Armenia-Azerbaijan conflict, that are used quite often, such as 'karabakh' and 'nagornokarabakh'. This is in accordance with the WordCloud image. \n",
    "\n",
    "One explanation could be that users who post about conflicts in azerbaijan or armenia are likely to talk about 'karabakh' and 'nagornokarabakh' as well, since the war is named after this region.\n",
    "\n",
    "Besides these terms, there are also hashtags such 'health' and 'climatechange' used, whereby the frequency is less than 5 times. "
   ]
  },
  {
   "cell_type": "markdown",
   "metadata": {},
   "source": [
    "Now that we have calculated and visualised the frequency of these terms, we want to find out whether specific hashtags are associated with tweets of a specific sentiment value.\n",
    "\n",
    "For that reason, we will use a short script that calculates the average sentiment value for all rows where a specific hashtag was used:"
   ]
  },
  {
   "cell_type": "code",
   "execution_count": 95,
   "metadata": {},
   "outputs": [
    {
     "name": "stdout",
     "output_type": "stream",
     "text": [
      "Tweets that include war as a hashtag have an average sentimental value of -0.015079365079365076\n",
      "Tweets that include women as a hashtag have an average sentimental value of -0.033333333333333326\n",
      "Tweets that include fight as a hashtag have an average sentimental value of 0.20833333333333334\n",
      "Tweets that include rock as a hashtag have an average sentimental value of 0.0\n",
      "Tweets that include attacks as a hashtag have an average sentimental value of -0.012499999999999997\n",
      "Tweets that include peace as a hashtag have an average sentimental value of 0.2\n"
     ]
    }
   ],
   "source": [
    "#Create lists for average sentiment values and hashtags used\n",
    "\n",
    "sent_hasht_list=[]\n",
    "tag_list=[]\n",
    "\n",
    "#Iterate through all frequently mentioned hashtags listed in df_hasht_freq\n",
    "for hashtag in df_hasht_freq.hashtag:\n",
    "    tag=hashtag \n",
    "    index=0 #start indexing to iterate through sentiment values\n",
    "    hashtag_count=0 #start indexing to get number of tweets with respective hashtag\n",
    "    sent_value=0 #Sets value at 0 for every new hashtag\n",
    "    \n",
    "    \n",
    "    #Iterates through all hashtag strings to find the desired hashtag\n",
    "    \n",
    "    for row in clean_tweets.Clean_hashtags: #Iterates through all hashtag strings\n",
    "        token_hashtags=nltk.tokenize.word_tokenize(row) #Tokenises hashtags to create a list\n",
    "           \n",
    "        if index <= clean_tweets.index.values.max(): #Iterates as long as index is equal to the amount of rows \n",
    "            if tag in token_hashtags: #Performs the operation if frequently mentioned hashtag is found in that row \n",
    "                sent_value=sent_value+clean_tweets.Sentiment[index] #Adds the respective sentiment value to the variable\n",
    "                hashtag_count=hashtag_count+1 #Hashtag counter +1 \n",
    "                \n",
    "        index+=1 \n",
    "        \n",
    "        \n",
    "    #Calculates the average sentiment value if the hashtag was found       \n",
    "    if hashtag_count > 0:   \n",
    "        sent_average=sent_value/hashtag_count\n",
    "        \n",
    "        #Adds values to the list\n",
    "        sent_hasht_list.append(sent_average)\n",
    "        tag_list.append(tag)\n",
    "        print('Tweets that include', tag, 'as a hashtag have an average sentimental value of', sent_average)\n",
    "        "
   ]
  },
  {
   "cell_type": "code",
   "execution_count": 96,
   "metadata": {},
   "outputs": [
    {
     "name": "stdout",
     "output_type": "stream",
     "text": [
      "   Hashtag  Average_sentiment\n",
      "0      war          -0.015079\n",
      "1    women          -0.033333\n",
      "2    fight           0.208333\n",
      "3     rock           0.000000\n",
      "4  attacks          -0.012500\n",
      "5    peace           0.200000\n"
     ]
    }
   ],
   "source": [
    "\"\"\"Next, we will use the hashtag list and average sentiment list to create a dataframe to display our results\"\"\"\n",
    "\n",
    "df_ave_sent=pd.DataFrame()\n",
    "df_ave_sent[\"Hashtag\"]=tag_list\n",
    "df_ave_sent[\"Average_sentiment\"]= sent_hasht_list\n",
    "print(df_ave_sent)"
   ]
  },
  {
   "cell_type": "markdown",
   "metadata": {},
   "source": [
    "As we can tell, 6 out of 11 hashtags were associated with an average negative tweet sentiment value. Notably, all values lie pretty close to 0. "
   ]
  },
  {
   "cell_type": "markdown",
   "metadata": {},
   "source": [
    "Now, we will use that output to visualise the relation between certain hashtags and their respective average sentiment value of the tweet. For that purpose, we will use a barplot."
   ]
  },
  {
   "cell_type": "code",
   "execution_count": 100,
   "metadata": {},
   "outputs": [
    {
     "data": {
      "image/png": "[encoded data removed]",
      "text/plain": [
       "<Figure size 1080x360 with 1 Axes>"
      ]
     },
     "metadata": {},
     "output_type": "display_data"
    }
   ],
   "source": [
    "#Barplot shows the relation between categories and their numerical values\n",
    "\n",
    "\n",
    "plt.figure(figsize=(15,5)) #Sets figure size\n",
    "ax=sns.barplot(x=\"Hashtag\",y=\"Average_sentiment\", data=df_ave_sent) #Creates a barchart with Hashtag as the category and Average sentiment as the numerical value\n",
    "ax.set(title=\"The average sentiment value for tweets with different hashtags\")#Sets the title\n",
    "plt.show()"
   ]
  },
  {
   "cell_type": "markdown",
   "metadata": {},
   "source": [
    "Notably, these are the calculated average values and we don't have any information about the confidence intervals of these bars. \n",
    "\n",
    "However, it seems like the hashtags 'war' and 'civilians' are clearly associated with tweets with an average negative sentiment value. On the other side, hashtags such as 'covid19', 'climatechange' and 'karabakh' come along with tweets with an average positive sentiment value. \n",
    "\n",
    "This might seem very strange at first hand. A possible explanation could be that due to the small data set, all tweets related to covid-19 were about positive or at least neutral outcomes or simply 'neutrally' informative.\n",
    "\n",
    "However, it is strange to see that 'azerbaijan' and 'armenia' hashtags are associated with neutral-negative tweet sentiments, but 'nagornokarabakh' and 'karabakh' are related to positive sentiment tweets on average. \n",
    "\n",
    "This goes against my first assumption that people who mention 'armenia' and 'azerbaijan' probably also mention 'karabakh' in their tweets. Notably, we are only comparing hashtags and not tokenised words. \n",
    "\n",
    "To conclude, it seems like people who use 'armenia' and 'azerbaijan' as hashtags do not necessarily use 'karabakh' as a hashtag as well due to the very different average tweet sentiment values."
   ]
  },
  {
   "cell_type": "markdown",
   "metadata": {},
   "source": [
    "In the above case, I have calculated the average sentiment value. However, when we want to plot them, it makes sense to create a dataframe with sentiment values for each tweet with the respective hashtag and let barplot do the average computing job. This comes with the advantage of error bars that indicate how significant the differences are. Also, the new dataframe with all the sentimental values will allow us to look into the distribution of each sentiment value, for example using a boxplot."
   ]
  },
  {
   "cell_type": "code",
   "execution_count": 101,
   "metadata": {},
   "outputs": [
    {
     "name": "stdout",
     "output_type": "stream",
     "text": [
      "    Hashtag  Sentiment\n",
      "0       war   0.000000\n",
      "1       war   0.000000\n",
      "2       war   0.150000\n",
      "3       war   0.000000\n",
      "4       war  -0.012500\n",
      "5       war   0.000000\n",
      "6       war   0.000000\n",
      "7       war   0.250000\n",
      "8       war  -0.800000\n",
      "9       war  -0.004167\n",
      "10      war   0.000000\n",
      "11      war   0.400000\n",
      "12      war   0.433333\n",
      "13      war  -0.700000\n",
      "14      war   0.133333\n",
      "15      war  -0.500000\n",
      "16      war  -0.083333\n",
      "17      war   0.000000\n",
      "18      war   0.000000\n",
      "19      war   0.000000\n",
      "20      war   0.416667\n",
      "21    women   0.433333\n",
      "22    women  -0.500000\n",
      "23    fight   0.000000\n",
      "24    fight   0.416667\n",
      "25     rock   0.000000\n",
      "26  attacks  -0.012500\n",
      "27    peace   0.400000\n",
      "28    peace   0.000000\n"
     ]
    }
   ],
   "source": [
    "#Similar script as above but without calculating the average sentiment values\n",
    "\n",
    "sentim_list=[]\n",
    "tags_list=[]\n",
    "\n",
    "#Iterate through all frequently mentioned hashtags listed in df_hasht_freq\n",
    "\n",
    "\n",
    "for hashtag in df_hasht_freq.hashtag:\n",
    "    tag=hashtag\n",
    "    index=0\n",
    "    hashtag_count=0\n",
    "    sentim_value=0\n",
    "    \n",
    "    #Iterates through all hashtag strings to find the desired hashtag\n",
    "    \n",
    "    for row in clean_tweets.Clean_hashtags:\n",
    "        token_hashtags=nltk.tokenize.word_tokenize(row)\n",
    "           \n",
    "        if index <= clean_tweets.index.values.max():\n",
    "            if tag in token_hashtags:\n",
    "                sentim_value=sentim_value+clean_tweets.Sentiment[index] #Adds the respective sentiment value to the variable\n",
    "                sentim_list.append(sentim_value) #Adds values to the list while iterating\n",
    "                tags_list.append(tag)\n",
    "                sentim_value=0 #Sentiment value is set to zero after each row iteration\n",
    "                \n",
    "        index+=1 \n",
    "        \n",
    "        \n",
    "df_tags_sent=pd.DataFrame() #Creates empty DataFrame\n",
    "df_tags_sent[\"Hashtag\"]=tags_list #Appends hashtag column\n",
    "df_tags_sent[\"Sentiment\"]= sentim_list #Appends sentiment value column\n",
    "print(df_tags_sent)       "
   ]
  },
  {
   "cell_type": "markdown",
   "metadata": {},
   "source": [
    "Now that we have a more complete DataFrame, we will visualise the same boxplot but with error bars:"
   ]
  },
  {
   "cell_type": "code",
   "execution_count": 102,
   "metadata": {},
   "outputs": [
    {
     "data": {
      "image/png": "[encoded data removed]",
      "text/plain": [
       "<Figure size 1080x360 with 1 Axes>"
      ]
     },
     "metadata": {},
     "output_type": "display_data"
    }
   ],
   "source": [
    "#Create barplot to display the average sentiment values of tweets with a specific hashtag\n",
    "\n",
    "plt.figure(figsize=(15,5)) #Sets figure size\n",
    "ax=sns.barplot(x=\"Hashtag\",y=\"Sentiment\", data=df_tags_sent) #Plots Hashtag against Sentiment value of the tweet\n",
    "ax.set(title=\"The average sentiment value for tweets with different hashtags\") #Sets title\n",
    "plt.show()"
   ]
  },
  {
   "cell_type": "markdown",
   "metadata": {},
   "source": [
    "Now that we can see the error bars, it becomes clear that all results are not that significant. Especially hashtags such as 'azerbaijan','armenia' and 'karabakh','nagornokarabakh' have partial or total error bar overlaps. \n",
    "\n",
    "This indicates that the confidence intervals - meaning that the value is correct in 95% of all cases - is too big to compare the average sentiment values. \n",
    "\n",
    "To achieve more significant results, we have to use a training data set to build our own individual sentiment analysis and get a larger data set. "
   ]
  },
  {
   "cell_type": "markdown",
   "metadata": {},
   "source": [
    "Finally, we will also take a look at the distribution of sentiment values of each category using a boxplot:"
   ]
  },
  {
   "cell_type": "code",
   "execution_count": 103,
   "metadata": {},
   "outputs": [
    {
     "data": {
      "image/png": "[encoded data removed]",
      "text/plain": [
       "<Figure size 1080x504 with 1 Axes>"
      ]
     },
     "metadata": {},
     "output_type": "display_data"
    }
   ],
   "source": [
    "plt.figure(figsize=(15,7)) #Changes the size of the graph\n",
    "ax=sns.boxplot(x=\"Hashtag\", y=\"Sentiment\", data=df_tags_sent, showmeans=True, meanprops={\"marker\":\"o\", \"markerfacecolor\":\"white\",\"markeredgecolor\":\"black\", \"markersize\": \"10\"}) #Creates boxplots for each day with the respective proportion values and shows the mean value\n",
    "ax.set(xlabel=\"Hashtag\", ylabel=\"Sentiment\") #Sets labels for both axes\n",
    "#plt.yticks(np.arange(0,0.75,0.05)) #Adjusts the space between ticks on the y-axis\n",
    "ax.set_title(\"Sentiment values for each hashtag tweet\") #Sets a title for the graph\n",
    "plt.show()"
   ]
  },
  {
   "cell_type": "markdown",
   "metadata": {},
   "source": [
    "Although the overall results are very similar, we can see that the greatest amount of outliers can be found in tweets with the hashtag 'conflict'. Although most tweets and thus most data comprises the term 'conflict' there is no clear indication whether the sentiment is positive or negative. \n",
    "\n",
    "Overall, for the hashtags 'azerbaijan', 'armenia', 'war' and 'civilian' we can see some outliers (at -1) that could significantly affect the average sentiment value due to the small and sensible data size.  "
   ]
  },
  {
   "cell_type": "markdown",
   "metadata": {},
   "source": [
    "REFLECTIONS AND HYPOTHESIS"
   ]
  },
  {
   "cell_type": "markdown",
   "metadata": {},
   "source": [
    "(1.)Most surprisingly, the increased occurence of the term ‘conflict’ within a tweet is associated with a higher sentiment value meaning that the tweet is likely to be positive. My hypothesis \n",
    "would be that not all ‘conflict’ tweets are related to global political issues and that we have to do more advanced textual analysis to sort out unrelated tweet. This could happen via n-grams, where we try to detect multiple words together. This way, we might find out more about the context of the conflict tweet (political conflict or work related ‘conflict management’).\n",
    "\n",
    "(2.)Equally surprising was the fact that tweets that were associated with the hashtags ‘nagornokarabakh’ or ‘karabakh’ have an overall positive sentiment, since they probably relate to the ongoing ‘Azerbaijan-Armenian’ war. One hypothesis could be, that users that use the Azerbaijan/Armenian hashtag report more negatively about the crises while users using ‘nagornokarabakh’ or ‘karabakh’ as hashtags report more positively/neutrally. \n",
    "\n",
    "One way to test that would be to use a larger data with timestamps over a several weeks or months. Another way to gain more accurate sentiment values would be the usage of a different analyser such as NaiveBayesAnalyzer. We could also train our own model using the Naive Bayes Classifier, build our own vocabulary and  test it with another testing data set. Using tf-idf vectorisation from the scikit library could help us to classify most important words and characterise tweets.\n",
    "\n",
    "Also, we could leave hashtags in the tweet text while preprocessing the data and just remove the ‘#’ sign. That way, the sentiment values for tweets might change drastically since all ‘emphasized’ words are included. \n",
    "\n",
    "(3.)Another finding was that positive tweets are associated with users with a higher follower count. A hypothesis could be that users with higher follower numbers are linked to news agencies or politicians and that the overall emotion of their tweets are more factual and thus more positive or neutral, even when is deals with disasters and conflicts. In comparison, users with smaller follower counts are probably private users and tend to write more negatively about conflicts. To test this hypothesis, we could scrap more data using the Twitter API and include verification IDs that allow us to see whether the user has an official account. Also, we could see whether we can match certain pattern such as ‘news’ or ‘agency’ with the usernames in the ´data set.\n",
    "\n",
    "\n",
    "Finally, we can also improve our pre-processing and cleaning. Hashtags might include several words that have to be splitted into substrings, for example 'stoparmenianwar' which could be splitted into 'stop', 'armenian', 'war'. For that purpose, we could use a library called ekphrasis and its segmenter function which was built on a twitter corpus.\n",
    "\n",
    "\n"
   ]
  },
  {
   "cell_type": "code",
   "execution_count": null,
   "metadata": {},
   "outputs": [],
   "source": []
  }
 ],
 "metadata": {
  "kernelspec": {
   "display_name": "Python 3",
   "language": "python",
   "name": "python3"
  },
  "language_info": {
   "codemirror_mode": {
    "name": "ipython",
    "version": 3
   },
   "file_extension": ".py",
   "mimetype": "text/x-python",
   "name": "python",
   "nbconvert_exporter": "python",
   "pygments_lexer": "ipython3",
   "version": "3.8.3"
  }
 },
 "nbformat": 4,
 "nbformat_minor": 4
}
