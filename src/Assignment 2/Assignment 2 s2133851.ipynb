{
 "cells": [
  {
   "cell_type": "markdown",
   "metadata": {},
   "source": [
    "# 0. Setup"
   ]
  },
  {
   "cell_type": "markdown",
   "metadata": {},
   "source": [
    "`Warning:` In this project, I have to use some packages to make it efficent. \n",
    "- If you must run this file, you should make sure that you downloaded below packages. \n",
    "- If you have downloaded before, please do not repeat downloading which will lead to fall apart."
   ]
  },
  {
   "cell_type": "code",
   "execution_count": null,
   "metadata": {},
   "outputs": [],
   "source": [
    "#pip install wordsegment"
   ]
  },
  {
   "cell_type": "code",
   "execution_count": null,
   "metadata": {},
   "outputs": [],
   "source": [
    "#pip install palettable"
   ]
  },
  {
   "cell_type": "code",
   "execution_count": null,
   "metadata": {},
   "outputs": [],
   "source": [
    "#pip install wordcloud"
   ]
  },
  {
   "cell_type": "code",
   "execution_count": null,
   "metadata": {},
   "outputs": [],
   "source": [
    "#pip install nltk"
   ]
  },
  {
   "cell_type": "code",
   "execution_count": null,
   "metadata": {},
   "outputs": [],
   "source": [
    "#nltk.download('punkt')\n",
    "#nltk.download('stopwords')\n",
    "#nltk.download('wordnet')\n",
    "#nltk.download('averaged_perceptron_tagger')"
   ]
  },
  {
   "cell_type": "code",
   "execution_count": 1,
   "metadata": {},
   "outputs": [],
   "source": [
    "import pandas as pd\n",
    "import numpy as np\n",
    "import seaborn as sns\n",
    "import matplotlib.pyplot as plt\n",
    "import string\n",
    "import nltk \n",
    "import re\n",
    "%matplotlib inline"
   ]
  },
  {
   "cell_type": "markdown",
   "metadata": {},
   "source": [
    "# 1. Describe : "
   ]
  },
  {
   "cell_type": "markdown",
   "metadata": {},
   "source": [
    "### 1.1 what is the general type of the data (tabular, network, geographical, textual etc.)\n",
    "Definitely Tabular data"
   ]
  },
  {
   "cell_type": "code",
   "execution_count": 2,
   "metadata": {
    "scrolled": true
   },
   "outputs": [
    {
     "data": {
      "text/html": [
       "<div>\n",
       "<style scoped>\n",
       "    .dataframe tbody tr th:only-of-type {\n",
       "        vertical-align: middle;\n",
       "    }\n",
       "\n",
       "    .dataframe tbody tr th {\n",
       "        vertical-align: top;\n",
       "    }\n",
       "\n",
       "    .dataframe thead th {\n",
       "        text-align: right;\n",
       "    }\n",
       "</style>\n",
       "<table border=\"1\" class=\"dataframe\">\n",
       "  <thead>\n",
       "    <tr style=\"text-align: right;\">\n",
       "      <th></th>\n",
       "      <th>timestamp</th>\n",
       "      <th>tweet_text</th>\n",
       "      <th>username</th>\n",
       "      <th>all_hashtags</th>\n",
       "      <th>followers_count</th>\n",
       "    </tr>\n",
       "  </thead>\n",
       "  <tbody>\n",
       "    <tr>\n",
       "      <th>0</th>\n",
       "      <td>2020-10-18 11:15:17</td>\n",
       "      <td>b'@DailyPostNGR I recall singing \"a land where...</td>\n",
       "      <td>b'KennethKoto3'</td>\n",
       "      <td>['peace', 'justice', 'ENDBADGOVERNANCE', 'EndP...</td>\n",
       "      <td>21</td>\n",
       "    </tr>\n",
       "    <tr>\n",
       "      <th>1</th>\n",
       "      <td>2020-10-18 11:15:04</td>\n",
       "      <td>b'Truly the most beautiful place for #sunrise ...</td>\n",
       "      <td>b'skconcepts'</td>\n",
       "      <td>['sunrise', 'peace', 'nystrong', 'canadastrong...</td>\n",
       "      <td>11134</td>\n",
       "    </tr>\n",
       "    <tr>\n",
       "      <th>2</th>\n",
       "      <td>2020-10-18 11:13:26</td>\n",
       "      <td>b'Something funny is happening! No more news o...</td>\n",
       "      <td>b'supab1902'</td>\n",
       "      <td>['Peace']</td>\n",
       "      <td>63</td>\n",
       "    </tr>\n",
       "    <tr>\n",
       "      <th>3</th>\n",
       "      <td>2020-10-18 11:12:54</td>\n",
       "      <td>b'those #files went missing from the metadata ...</td>\n",
       "      <td>b'PercievedLogic'</td>\n",
       "      <td>['files', 'peace', 'loved']</td>\n",
       "      <td>9300</td>\n",
       "    </tr>\n",
       "    <tr>\n",
       "      <th>4</th>\n",
       "      <td>2020-10-18 11:09:20</td>\n",
       "      <td>b'@ThuliMadonsela3 This tweet touched a nerve ...</td>\n",
       "      <td>b'given_ngomani'</td>\n",
       "      <td>['Senekal', 'TheSouthAfricaWeWant', 'Senegal',...</td>\n",
       "      <td>30874</td>\n",
       "    </tr>\n",
       "  </tbody>\n",
       "</table>\n",
       "</div>"
      ],
      "text/plain": [
       "             timestamp                                         tweet_text  \\\n",
       "0  2020-10-18 11:15:17  b'@DailyPostNGR I recall singing \"a land where...   \n",
       "1  2020-10-18 11:15:04  b'Truly the most beautiful place for #sunrise ...   \n",
       "2  2020-10-18 11:13:26  b'Something funny is happening! No more news o...   \n",
       "3  2020-10-18 11:12:54  b'those #files went missing from the metadata ...   \n",
       "4  2020-10-18 11:09:20  b'@ThuliMadonsela3 This tweet touched a nerve ...   \n",
       "\n",
       "            username                                       all_hashtags  \\\n",
       "0    b'KennethKoto3'  ['peace', 'justice', 'ENDBADGOVERNANCE', 'EndP...   \n",
       "1      b'skconcepts'  ['sunrise', 'peace', 'nystrong', 'canadastrong...   \n",
       "2       b'supab1902'                                          ['Peace']   \n",
       "3  b'PercievedLogic'                        ['files', 'peace', 'loved']   \n",
       "4   b'given_ngomani'  ['Senekal', 'TheSouthAfricaWeWant', 'Senegal',...   \n",
       "\n",
       "   followers_count  \n",
       "0               21  \n",
       "1            11134  \n",
       "2               63  \n",
       "3             9300  \n",
       "4            30874  "
      ]
     },
     "execution_count": 2,
     "metadata": {},
     "output_type": "execute_result"
    }
   ],
   "source": [
    "df = pd.read_csv('peace.csv')\n",
    "df.head()"
   ]
  },
  {
   "cell_type": "markdown",
   "metadata": {},
   "source": [
    "### 1.2 how large and complex is it (rows/columns, size, variation, structure)\n",
    "\n",
    "To be honest, our data holder hasn't scapped large datasets so far. But to answer this question is enough. Our main variation is tweet itself. Normally, we cannot see completely same tweets (maybe some twitter bots) and thet create big dataset. Hashtags also were already extracted.We have username and their followers count to identify now which our data holder also will provide more like verified or other values."
   ]
  },
  {
   "cell_type": "code",
   "execution_count": 3,
   "metadata": {},
   "outputs": [
    {
     "data": {
      "text/html": [
       "<div>\n",
       "<style scoped>\n",
       "    .dataframe tbody tr th:only-of-type {\n",
       "        vertical-align: middle;\n",
       "    }\n",
       "\n",
       "    .dataframe tbody tr th {\n",
       "        vertical-align: top;\n",
       "    }\n",
       "\n",
       "    .dataframe thead th {\n",
       "        text-align: right;\n",
       "    }\n",
       "</style>\n",
       "<table border=\"1\" class=\"dataframe\">\n",
       "  <thead>\n",
       "    <tr style=\"text-align: right;\">\n",
       "      <th></th>\n",
       "      <th>timestamp</th>\n",
       "      <th>tweet_text</th>\n",
       "      <th>username</th>\n",
       "      <th>all_hashtags</th>\n",
       "    </tr>\n",
       "  </thead>\n",
       "  <tbody>\n",
       "    <tr>\n",
       "      <th>count</th>\n",
       "      <td>100</td>\n",
       "      <td>100</td>\n",
       "      <td>100</td>\n",
       "      <td>100</td>\n",
       "    </tr>\n",
       "    <tr>\n",
       "      <th>unique</th>\n",
       "      <td>99</td>\n",
       "      <td>100</td>\n",
       "      <td>92</td>\n",
       "      <td>83</td>\n",
       "    </tr>\n",
       "    <tr>\n",
       "      <th>top</th>\n",
       "      <td>2020-10-18 10:00:22</td>\n",
       "      <td>b'Beautiful Sunday morning today!! Love the go...</td>\n",
       "      <td>b'PercievedLogic'</td>\n",
       "      <td>['peace', 'elephants', 'farmers', 'Mozambique'...</td>\n",
       "    </tr>\n",
       "    <tr>\n",
       "      <th>freq</th>\n",
       "      <td>2</td>\n",
       "      <td>1</td>\n",
       "      <td>5</td>\n",
       "      <td>8</td>\n",
       "    </tr>\n",
       "  </tbody>\n",
       "</table>\n",
       "</div>"
      ],
      "text/plain": [
       "                  timestamp  \\\n",
       "count                   100   \n",
       "unique                   99   \n",
       "top     2020-10-18 10:00:22   \n",
       "freq                      2   \n",
       "\n",
       "                                               tweet_text           username  \\\n",
       "count                                                 100                100   \n",
       "unique                                                100                 92   \n",
       "top     b'Beautiful Sunday morning today!! Love the go...  b'PercievedLogic'   \n",
       "freq                                                    1                  5   \n",
       "\n",
       "                                             all_hashtags  \n",
       "count                                                 100  \n",
       "unique                                                 83  \n",
       "top     ['peace', 'elephants', 'farmers', 'Mozambique'...  \n",
       "freq                                                    8  "
      ]
     },
     "execution_count": 3,
     "metadata": {},
     "output_type": "execute_result"
    }
   ],
   "source": [
    "df.describe(include= 'O')"
   ]
  },
  {
   "cell_type": "markdown",
   "metadata": {},
   "source": [
    "### 1.3 What fields and data types are present (max/min,levels for categorical values).\n",
    "    \n",
    "We have 5 fields for this dataset. They are object execpt followers count. Timestamp and followers_count are numbers,and tweet_text and others are text.Twitter limited 280 charaters (used to be 140 but Twitter changed it in 2017) for one tweet so we can see some flaws in this dataset."
   ]
  },
  {
   "cell_type": "code",
   "execution_count": 6,
   "metadata": {},
   "outputs": [
    {
     "data": {
      "image/png": "[encoded data removed]",
      "text/plain": [
       "<Figure size 360x360 with 1 Axes>"
      ]
     },
     "metadata": {
      "needs_background": "light"
     },
     "output_type": "display_data"
    }
   ],
   "source": [
    "df_EDA = pd.DataFrame()\n",
    "\n",
    "df_EDA['tweet_text_len'] = [len(i) for i in df.tweet_text]\n",
    "fig, ax = plt.subplots(figsize=(5, 5))\n",
    "plt.boxplot(df_EDA.tweet_text_len)\n",
    "plt.show()"
   ]
  },
  {
   "cell_type": "code",
   "execution_count": 4,
   "metadata": {},
   "outputs": [
    {
     "name": "stdout",
     "output_type": "stream",
     "text": [
      "<class 'pandas.core.frame.DataFrame'>\n",
      "RangeIndex: 100 entries, 0 to 99\n",
      "Data columns (total 5 columns):\n",
      " #   Column           Non-Null Count  Dtype \n",
      "---  ------           --------------  ----- \n",
      " 0   timestamp        100 non-null    object\n",
      " 1   tweet_text       100 non-null    object\n",
      " 2   username         100 non-null    object\n",
      " 3   all_hashtags     100 non-null    object\n",
      " 4   followers_count  100 non-null    int64 \n",
      "dtypes: int64(1), object(4)\n",
      "memory usage: 4.0+ KB\n"
     ]
    }
   ],
   "source": [
    "df.info()"
   ]
  },
  {
   "cell_type": "code",
   "execution_count": 5,
   "metadata": {
    "scrolled": true
   },
   "outputs": [
    {
     "name": "stdout",
     "output_type": "stream",
     "text": [
      "Dataset Shape = (100, 5)\n"
     ]
    }
   ],
   "source": [
    "print('Dataset Shape = {}'.format(df.shape))\n",
    "#print('Dataset Memory Usage = {:.2f} MB'.format(df.memory_usage().sum() / 1024**2))"
   ]
  },
  {
   "cell_type": "markdown",
   "metadata": {},
   "source": [
    "### 1.4 Links between this data and other data (e.g. foreign keys, unique ids)\n",
    "\n",
    "- Username can be unique id to identify the information to merge other dataset. \n",
    "- We can distinguish the crediblity by username\n",
    "- Followers can be useful to aquire this information\n",
    "- Some people retweet other tweets but use same hashtags\n",
    "- Hashtags can show key information.\n",
    "- Time and locations can show when and where was tweeted."
   ]
  },
  {
   "cell_type": "markdown",
   "metadata": {},
   "source": [
    "### 1.5 Summary statistics about the data - how many people, what time frame, field averages etc.\n",
    "    \n",
    "It's a small dataset. If I can get a bigger one. Maybe we can see more correlations. Here are some distributions to see the structures.\n"
   ]
  },
  {
   "cell_type": "code",
   "execution_count": 7,
   "metadata": {},
   "outputs": [],
   "source": [
    "# words\n",
    "df_EDA['word_count'] = df['tweet_text'].apply(lambda x: len(str(x).split()))\n",
    "# urls\n",
    "df_EDA['url_count'] = df['tweet_text'].apply(lambda x: len([w for w in str(x).lower().split() if 'http' in w or 'https' in w]))\n",
    "# hashtags\n",
    "df_EDA['hashtag_count'] = df['tweet_text'].apply(lambda x: len([c for c in str(x) if c == '#']))\n",
    "# mentions\n",
    "df_EDA['mention_count'] = df['tweet_text'].apply(lambda x: len([c for c in str(x) if c == '@']))"
   ]
  },
  {
   "cell_type": "code",
   "execution_count": 8,
   "metadata": {
    "scrolled": true
   },
   "outputs": [
    {
     "data": {
      "text/html": [
       "<div>\n",
       "<style scoped>\n",
       "    .dataframe tbody tr th:only-of-type {\n",
       "        vertical-align: middle;\n",
       "    }\n",
       "\n",
       "    .dataframe tbody tr th {\n",
       "        vertical-align: top;\n",
       "    }\n",
       "\n",
       "    .dataframe thead th {\n",
       "        text-align: right;\n",
       "    }\n",
       "</style>\n",
       "<table border=\"1\" class=\"dataframe\">\n",
       "  <thead>\n",
       "    <tr style=\"text-align: right;\">\n",
       "      <th></th>\n",
       "      <th>tweet_text_len</th>\n",
       "      <th>word_count</th>\n",
       "      <th>url_count</th>\n",
       "      <th>hashtag_count</th>\n",
       "      <th>mention_count</th>\n",
       "    </tr>\n",
       "  </thead>\n",
       "  <tbody>\n",
       "    <tr>\n",
       "      <th>0</th>\n",
       "      <td>190</td>\n",
       "      <td>26</td>\n",
       "      <td>0</td>\n",
       "      <td>6</td>\n",
       "      <td>1</td>\n",
       "    </tr>\n",
       "    <tr>\n",
       "      <th>1</th>\n",
       "      <td>197</td>\n",
       "      <td>14</td>\n",
       "      <td>1</td>\n",
       "      <td>6</td>\n",
       "      <td>1</td>\n",
       "    </tr>\n",
       "    <tr>\n",
       "      <th>2</th>\n",
       "      <td>291</td>\n",
       "      <td>47</td>\n",
       "      <td>0</td>\n",
       "      <td>1</td>\n",
       "      <td>0</td>\n",
       "    </tr>\n",
       "    <tr>\n",
       "      <th>3</th>\n",
       "      <td>295</td>\n",
       "      <td>42</td>\n",
       "      <td>0</td>\n",
       "      <td>3</td>\n",
       "      <td>0</td>\n",
       "    </tr>\n",
       "    <tr>\n",
       "      <th>4</th>\n",
       "      <td>315</td>\n",
       "      <td>50</td>\n",
       "      <td>1</td>\n",
       "      <td>5</td>\n",
       "      <td>1</td>\n",
       "    </tr>\n",
       "  </tbody>\n",
       "</table>\n",
       "</div>"
      ],
      "text/plain": [
       "   tweet_text_len  word_count  url_count  hashtag_count  mention_count\n",
       "0             190          26          0              6              1\n",
       "1             197          14          1              6              1\n",
       "2             291          47          0              1              0\n",
       "3             295          42          0              3              0\n",
       "4             315          50          1              5              1"
      ]
     },
     "execution_count": 8,
     "metadata": {},
     "output_type": "execute_result"
    }
   ],
   "source": [
    "df_EDA.head()"
   ]
  },
  {
   "cell_type": "code",
   "execution_count": 9,
   "metadata": {},
   "outputs": [
    {
     "data": {
      "image/png": "[encoded data removed]",
      "text/plain": [
       "<Figure size 432x288 with 4 Axes>"
      ]
     },
     "metadata": {
      "needs_background": "light"
     },
     "output_type": "display_data"
    }
   ],
   "source": [
    "fig, axes = plt.subplots(ncols = 2, nrows = 2)\n",
    "\n",
    "sns.distplot(df_EDA['word_count'], ax = axes[0][0],)\n",
    "sns.distplot(df_EDA['url_count'], ax = axes[1][0], color='red')\n",
    "sns.distplot(df_EDA['hashtag_count'], ax = axes[0][1], color='green')\n",
    "sns.distplot(df_EDA['mention_count'], ax = axes[1][1], color='orange')\n",
    "\n",
    "plt.show()"
   ]
  },
  {
   "cell_type": "markdown",
   "metadata": {},
   "source": [
    "We can see how many tweets in a certain period of time."
   ]
  },
  {
   "cell_type": "code",
   "execution_count": 10,
   "metadata": {},
   "outputs": [
    {
     "data": {
      "text/plain": [
       "2020-10-18 10:39:55    1\n",
       "2020-10-18 10:55:27    1\n",
       "2020-10-18 10:10:53    1\n",
       "2020-10-18 10:05:03    1\n",
       "2020-10-18 10:12:57    1\n",
       "                      ..\n",
       "2020-10-18 10:27:58    1\n",
       "2020-10-18 10:00:23    1\n",
       "2020-10-18 10:56:25    1\n",
       "2020-10-18 10:25:40    1\n",
       "2020-10-18 10:00:22    2\n",
       "Name: timestamp, Length: 99, dtype: int64"
      ]
     },
     "execution_count": 10,
     "metadata": {},
     "output_type": "execute_result"
    }
   ],
   "source": [
    "#ts = pd.Series(df['timestamp'].values, index=df['timestamp'])\n",
    "df['timestamp'].value_counts().sort_values()"
   ]
  },
  {
   "cell_type": "markdown",
   "metadata": {},
   "source": [
    "To see who is the most 'Active' user on the topic of #peace."
   ]
  },
  {
   "cell_type": "code",
   "execution_count": 11,
   "metadata": {},
   "outputs": [
    {
     "name": "stdout",
     "output_type": "stream",
     "text": [
      "b'PercievedLogic'     5\n",
      "b'RealJannaWeiss'     2\n",
      "b'MelineMuradyan1'    2\n",
      "b'mark_fearn_art'     2\n",
      "b'LiorHaiat'          2\n",
      "                     ..\n",
      "b'WorldBeyondWar'     1\n",
      "b'aahaharshh'         1\n",
      "b'Just4paradise'      1\n",
      "b'abbakirov'          1\n",
      "b'TWOsonsTOOmany'     1\n",
      "Name: username, Length: 92, dtype: int64\n"
     ]
    },
    {
     "data": {
      "text/plain": [
       "<matplotlib.axes._subplots.AxesSubplot at 0x7fc04024d590>"
      ]
     },
     "execution_count": 11,
     "metadata": {},
     "output_type": "execute_result"
    },
    {
     "data": {
      "image/png": "[encoded data removed]",
      "text/plain": [
       "<Figure size 432x288 with 1 Axes>"
      ]
     },
     "metadata": {
      "needs_background": "light"
     },
     "output_type": "display_data"
    }
   ],
   "source": [
    "df_user = df['username'].value_counts() #Different sources : \n",
    "print(df_user)\n",
    "df_user.head(10).plot.bar() #Allows us to see the biggest sources and how they are leveled. "
   ]
  },
  {
   "cell_type": "markdown",
   "metadata": {},
   "source": [
    "### 1.6 How does the data relate to the questions that the data owner has discussed with you?\n",
    "\n",
    "- Category or classified data is required: mostly we do some sentiment analysis\n",
    "- Filter some fake news: need more information"
   ]
  },
  {
   "cell_type": "markdown",
   "metadata": {},
   "source": [
    "# 2. Data cleaning"
   ]
  },
  {
   "cell_type": "markdown",
   "metadata": {},
   "source": [
    "### 2.1.1 Remove duplications"
   ]
  },
  {
   "cell_type": "code",
   "execution_count": 12,
   "metadata": {},
   "outputs": [],
   "source": [
    "df = df.drop_duplicates()"
   ]
  },
  {
   "cell_type": "markdown",
   "metadata": {},
   "source": [
    "### 2.1.2 Missing values\n",
    "When it comes to locations, there will be lots of void.Just prepare for it."
   ]
  },
  {
   "cell_type": "code",
   "execution_count": 13,
   "metadata": {},
   "outputs": [
    {
     "data": {
      "text/plain": [
       "timestamp          0\n",
       "tweet_text         0\n",
       "username           0\n",
       "all_hashtags       0\n",
       "followers_count    0\n",
       "dtype: int64"
      ]
     },
     "execution_count": 13,
     "metadata": {},
     "output_type": "execute_result"
    }
   ],
   "source": [
    "df.isna().sum()"
   ]
  },
  {
   "cell_type": "markdown",
   "metadata": {},
   "source": [
    "## 2.2 Pre-processing text data"
   ]
  },
  {
   "cell_type": "markdown",
   "metadata": {},
   "source": [
    "Because data holder provide the encoded string to `utf-8`(bytes object),we have to decode `b'`or`b\"`prefix to string object. It is still imperfect here but I have no ideas to deal with bytes embeded in string so far."
   ]
  },
  {
   "cell_type": "code",
   "execution_count": 14,
   "metadata": {},
   "outputs": [],
   "source": [
    "#import base64\n",
    "#df['tweet_text'] = df['tweet_text'].apply(lambda x: x.decode(\"utf-8\"))\n",
    "def clean(text):   \n",
    "    text = re.sub(r\"b'|'\",' ', text)\n",
    "    text = re.sub(r'b\"|\"',' ', text)\n",
    "    return text\n",
    "df['tweet_text'] = df['tweet_text'].apply(lambda x: clean(x))\n",
    "df['username'] = df['username'].apply(lambda x: clean(x))"
   ]
  },
  {
   "cell_type": "code",
   "execution_count": null,
   "metadata": {},
   "outputs": [],
   "source": [
    "df.head()"
   ]
  },
  {
   "cell_type": "markdown",
   "metadata": {},
   "source": [
    "### 2.2.1 Normalisation\n",
    "Here is an example of tweet text:\n",
    "\n",
    "- ＆amp Truly the most beautiful place for #sunrise @rye_playland_amusement_park #peace #nystrong #canadastrong\\xf0\\x9f\\x87\\xa8\\xf0 #prayersforavaccine https://t.co/edMipdjrzJ\n",
    "\n",
    "We can obviously see that in the context of Online Social Network (OSN) Text Data, the emebedded 'noise' includes:\n",
    "\n",
    "1. Hashtags (Data holder provides seperate hashtags columns so we can drop them)\n",
    "2. Mentions\n",
    "3. Emojis\n",
    "4. URLs, puntuations and whitespaces\n",
    "\n",
    "Those could appear:\n",
    "\n",
    "5. HTML entities: ＆lt; ＆gt; ＆amp\n",
    "6. Contractions and emoticons :)\n",
    "7. colloquial language(e.g. yessss)\n"
   ]
  },
  {
   "cell_type": "markdown",
   "metadata": {},
   "source": [
    "### 2.2.2 Reduce 'noise'\n",
    "We will specifically use Regular Expression to reduce the noise and save useful information as much as possible.\n",
    "\n",
    "I remove the HTML Characters and links for Assignment 2 which I can dig out more by `PyQuery` or other modules later."
   ]
  },
  {
   "cell_type": "code",
   "execution_count": 15,
   "metadata": {},
   "outputs": [],
   "source": [
    "def reduce_noise(text):\n",
    "    ##mentions, hashtags, urls and emojis\n",
    "    text = re.sub(r\"#(\\w+)\",'', text)\n",
    "    text = re.sub(r\"@(\\w+)\",'', text)\n",
    "    text = re.sub(r\"@[A-Za-z0-9]+\",'', text)\n",
    "    text = re.sub(r\"(http|https|ftp)://[a-zA-Z0-9\\\\./]+\",'', text)\n",
    "    text = re.sub(r'\\\\x..','',text)\n",
    "    ##html entities\n",
    "    text = re.sub(r\"&amp;\", \"&\", text)\n",
    "    text = re.sub(r\"&lt;\", \"<\", text)\n",
    "    text = re.sub(r\"&gt;\", \">\", text)\n",
    "    text = re.sub(r'[0-9]+', '', text)#'\\d+'\n",
    "    return text\n",
    "\n",
    "df['tweet_text_prep'] = df['tweet_text'].apply(lambda x: reduce_noise(x))"
   ]
  },
  {
   "cell_type": "markdown",
   "metadata": {},
   "source": [
    "However, as mentioned above, some charaters are 'utf-8' which are hard to be parsed. There is some ongoing discussions with our data holder to decide whether to drop the emojis or not.So I simply use reguar expression, I leave this blank to see if I can use 'translator' packages to replace emojis with text. "
   ]
  },
  {
   "cell_type": "code",
   "execution_count": null,
   "metadata": {},
   "outputs": [],
   "source": [
    "df.head()"
   ]
  },
  {
   "cell_type": "markdown",
   "metadata": {},
   "source": [
    "### 2.2.3 Remove punctuations"
   ]
  },
  {
   "cell_type": "code",
   "execution_count": 16,
   "metadata": {},
   "outputs": [],
   "source": [
    "def remove_punct(text):\n",
    "    text = \"\".join([i for i in text if i not in string.punctuation])\n",
    "    return text\n",
    "\n",
    "df['tweet_text_clean'] = df['tweet_text_prep'].apply(lambda x: remove_punct(x))"
   ]
  },
  {
   "cell_type": "code",
   "execution_count": null,
   "metadata": {},
   "outputs": [],
   "source": [
    "df.head()"
   ]
  },
  {
   "cell_type": "markdown",
   "metadata": {},
   "source": [
    "### 2.2.4 Replace contractions\n",
    "use `pip install pycontractions` to use this library but still have some work to do."
   ]
  },
  {
   "cell_type": "code",
   "execution_count": null,
   "metadata": {},
   "outputs": [],
   "source": [
    "#pip install pycontractions"
   ]
  },
  {
   "cell_type": "code",
   "execution_count": null,
   "metadata": {},
   "outputs": [],
   "source": [
    "#from pycontractions import Contractions"
   ]
  },
  {
   "cell_type": "markdown",
   "metadata": {},
   "source": [
    "### 2.2.5 Replace abbreviations and spelling errors\n",
    "maybe I need to find a better dictionary."
   ]
  },
  {
   "cell_type": "code",
   "execution_count": null,
   "metadata": {},
   "outputs": [],
   "source": [
    "#pip install autocorrect"
   ]
  },
  {
   "cell_type": "code",
   "execution_count": null,
   "metadata": {},
   "outputs": [],
   "source": [
    "#from autocorrect import spell\n",
    "#def correct(text):\n",
    "    #text = ' '.join([spell(i) for i in text.split()])\n",
    "    #text = re.sub(r'(.)\\1{1.}','',text)\n",
    "    #return text"
   ]
  },
  {
   "cell_type": "markdown",
   "metadata": {},
   "source": [
    "## 2.3 Hashtags\n",
    "Some hashtags are merged words. So we should use some segmenter to extract the key information.There will be some duplicated work so I will mainly show the tweets ore-processing instead."
   ]
  },
  {
   "cell_type": "code",
   "execution_count": 17,
   "metadata": {},
   "outputs": [],
   "source": [
    "from wordsegment import load,segment\n",
    "load()\n",
    "def seg_hashtag(text):\n",
    "    text = ' '.join(segment(text))\n",
    "    return text\n",
    "df['all_hashtags_seg'] = df['all_hashtags'].apply(lambda x: seg_hashtag(x.lower()))"
   ]
  },
  {
   "cell_type": "code",
   "execution_count": null,
   "metadata": {},
   "outputs": [],
   "source": [
    "df.head()"
   ]
  },
  {
   "cell_type": "markdown",
   "metadata": {},
   "source": [
    "## 2.4 Feature extraction"
   ]
  },
  {
   "cell_type": "markdown",
   "metadata": {},
   "source": [
    "### 2.4.1 Tokenization - Converting a sentence into list of words"
   ]
  },
  {
   "cell_type": "code",
   "execution_count": null,
   "metadata": {},
   "outputs": [],
   "source": [
    "#nltk.download('punkt')"
   ]
  },
  {
   "cell_type": "code",
   "execution_count": 18,
   "metadata": {},
   "outputs": [],
   "source": [
    "from nltk.tokenize import word_tokenize\n",
    "\n",
    "df['tweet_text_token'] = df['tweet_text_clean'].apply(lambda x: word_tokenize(x.lower()))"
   ]
  },
  {
   "cell_type": "code",
   "execution_count": null,
   "metadata": {},
   "outputs": [],
   "source": [
    "df.head()"
   ]
  },
  {
   "cell_type": "markdown",
   "metadata": {},
   "source": [
    "### 2.4.2 Remove stopwords"
   ]
  },
  {
   "cell_type": "code",
   "execution_count": null,
   "metadata": {},
   "outputs": [],
   "source": [
    "#nltk.download('stopwords')"
   ]
  },
  {
   "cell_type": "code",
   "execution_count": 19,
   "metadata": {},
   "outputs": [],
   "source": [
    "from nltk.corpus import stopwords\n",
    "\n",
    "sw = stopwords.words('english')\n",
    "\n",
    "def remove_stopwords(text):\n",
    "    text = [word for word in text if word not in sw]\n",
    "    return text\n",
    "\n",
    "df['tweet_text_nonstop'] = df['tweet_text_token'].apply(lambda x: remove_stopwords(x))"
   ]
  },
  {
   "cell_type": "code",
   "execution_count": null,
   "metadata": {},
   "outputs": [],
   "source": [
    "df.head()"
   ]
  },
  {
   "cell_type": "markdown",
   "metadata": {},
   "source": [
    "### 2.4.3 Stemming"
   ]
  },
  {
   "cell_type": "code",
   "execution_count": 20,
   "metadata": {},
   "outputs": [],
   "source": [
    "ps = nltk.PorterStemmer()\n",
    "\n",
    "def stemming(text):\n",
    "    text = [ps.stem(word) for word in text]\n",
    "    return text\n",
    "\n",
    "df['tweet_text_stem'] = df['tweet_text_nonstop'].apply(lambda x: stemming(x))"
   ]
  },
  {
   "cell_type": "code",
   "execution_count": null,
   "metadata": {},
   "outputs": [],
   "source": [
    "#df.head()"
   ]
  },
  {
   "cell_type": "markdown",
   "metadata": {},
   "source": [
    "### 2.4.4 Lemmatization"
   ]
  },
  {
   "cell_type": "code",
   "execution_count": null,
   "metadata": {},
   "outputs": [],
   "source": [
    "#nltk.download('wordnet')"
   ]
  },
  {
   "cell_type": "code",
   "execution_count": 21,
   "metadata": {},
   "outputs": [],
   "source": [
    "wl = nltk.WordNetLemmatizer()\n",
    "\n",
    "def lemmatizer(text):\n",
    "    text = [wl.lemmatize(word) for word in text]\n",
    "    return text\n",
    "\n",
    "df['tweet_text_lem'] = df['tweet_text_stem'].apply(lambda x: lemmatizer(x))"
   ]
  },
  {
   "cell_type": "code",
   "execution_count": null,
   "metadata": {},
   "outputs": [],
   "source": [
    "df.head()"
   ]
  },
  {
   "cell_type": "markdown",
   "metadata": {},
   "source": [
    "### 2.4.5 Parts of Speech Tagging (POS) "
   ]
  },
  {
   "cell_type": "code",
   "execution_count": null,
   "metadata": {},
   "outputs": [],
   "source": [
    "#nltk.download('averaged_perceptron_tagger')"
   ]
  },
  {
   "cell_type": "code",
   "execution_count": 22,
   "metadata": {},
   "outputs": [],
   "source": [
    "df['tweet_text_pos'] = df['tweet_text_stem'].apply(lambda x: nltk.pos_tag(x))"
   ]
  },
  {
   "cell_type": "code",
   "execution_count": 34,
   "metadata": {},
   "outputs": [
    {
     "data": {
      "text/html": [
       "<div>\n",
       "<style scoped>\n",
       "    .dataframe tbody tr th:only-of-type {\n",
       "        vertical-align: middle;\n",
       "    }\n",
       "\n",
       "    .dataframe tbody tr th {\n",
       "        vertical-align: top;\n",
       "    }\n",
       "\n",
       "    .dataframe thead th {\n",
       "        text-align: right;\n",
       "    }\n",
       "</style>\n",
       "<table border=\"1\" class=\"dataframe\">\n",
       "  <thead>\n",
       "    <tr style=\"text-align: right;\">\n",
       "      <th></th>\n",
       "      <th>timestamp</th>\n",
       "      <th>tweet_text</th>\n",
       "      <th>username</th>\n",
       "      <th>all_hashtags</th>\n",
       "      <th>followers_count</th>\n",
       "      <th>tweet_text_prep</th>\n",
       "      <th>tweet_text_clean</th>\n",
       "      <th>all_hashtags_seg</th>\n",
       "      <th>tweet_text_token</th>\n",
       "      <th>tweet_text_nonstop</th>\n",
       "      <th>tweet_text_stem</th>\n",
       "      <th>tweet_text_lem</th>\n",
       "      <th>tweet_text_pos</th>\n",
       "      <th>sentiment</th>\n",
       "    </tr>\n",
       "  </thead>\n",
       "  <tbody>\n",
       "    <tr>\n",
       "      <th>0</th>\n",
       "      <td>2020-10-18 11:15:17</td>\n",
       "      <td>@DailyPostNGR I recall singing  a land where ...</td>\n",
       "      <td>KennethKoto3</td>\n",
       "      <td>['peace', 'justice', 'ENDBADGOVERNANCE', 'EndP...</td>\n",
       "      <td>21</td>\n",
       "      <td>I recall singing  a land where  and  shall r...</td>\n",
       "      <td>I recall singing  a land where  and  shall r...</td>\n",
       "      <td>peace justice end bad governance end police br...</td>\n",
       "      <td>[i, recall, singing, a, land, where, and, shal...</td>\n",
       "      <td>[recall, singing, land, shall, reign, everyday...</td>\n",
       "      <td>[recal, sing, land, shall, reign, everyday, sc...</td>\n",
       "      <td>[recal, sing, land, shall, reign, everyday, sc...</td>\n",
       "      <td>[(recal, JJ), (sing, NN), (land, NN), (shall, ...</td>\n",
       "      <td>negative</td>\n",
       "    </tr>\n",
       "    <tr>\n",
       "      <th>1</th>\n",
       "      <td>2020-10-18 11:15:04</td>\n",
       "      <td>Truly the most beautiful place for #sunrise @...</td>\n",
       "      <td>skconcepts</td>\n",
       "      <td>['sunrise', 'peace', 'nystrong', 'canadastrong...</td>\n",
       "      <td>11134</td>\n",
       "      <td>Truly the most beautiful place for</td>\n",
       "      <td>Truly the most beautiful place for</td>\n",
       "      <td>sunrise peace ny strong canada strong america ...</td>\n",
       "      <td>[truly, the, most, beautiful, place, for]</td>\n",
       "      <td>[truly, beautiful, place]</td>\n",
       "      <td>[truli, beauti, place]</td>\n",
       "      <td>[truli, beauti, place]</td>\n",
       "      <td>[(truli, NNS), (beauti, VBD), (place, NN)]</td>\n",
       "      <td>positive</td>\n",
       "    </tr>\n",
       "    <tr>\n",
       "      <th>2</th>\n",
       "      <td>2020-10-18 11:13:26</td>\n",
       "      <td>Something funny is happening! No more news of...</td>\n",
       "      <td>supab1902</td>\n",
       "      <td>['Peace']</td>\n",
       "      <td>63</td>\n",
       "      <td>Something funny is happening! No more news of...</td>\n",
       "      <td>Something funny is happening No more news of ...</td>\n",
       "      <td>peace</td>\n",
       "      <td>[something, funny, is, happening, no, more, ne...</td>\n",
       "      <td>[something, funny, happening, news, boko, hara...</td>\n",
       "      <td>[someth, funni, happen, news, boko, haram, her...</td>\n",
       "      <td>[someth, funni, happen, news, boko, haram, her...</td>\n",
       "      <td>[(someth, NNS), (funni, VBP), (happen, JJ), (n...</td>\n",
       "      <td>neutral</td>\n",
       "    </tr>\n",
       "    <tr>\n",
       "      <th>3</th>\n",
       "      <td>2020-10-18 11:12:54</td>\n",
       "      <td>those #files went missing from the metadata w...</td>\n",
       "      <td>PercievedLogic</td>\n",
       "      <td>['files', 'peace', 'loved']</td>\n",
       "      <td>9300</td>\n",
       "      <td>those  went missing from the metadata world &amp;...</td>\n",
       "      <td>those  went missing from the metadata world  ...</td>\n",
       "      <td>files peace loved</td>\n",
       "      <td>[those, went, missing, from, the, metadata, wo...</td>\n",
       "      <td>[went, missing, metadata, world, involved, any...</td>\n",
       "      <td>[went, miss, metadata, world, involv, anyway, ...</td>\n",
       "      <td>[went, miss, metadata, world, involv, anyway, ...</td>\n",
       "      <td>[(went, VBD), (miss, JJS), (metadata, NN), (wo...</td>\n",
       "      <td>negative</td>\n",
       "    </tr>\n",
       "    <tr>\n",
       "      <th>4</th>\n",
       "      <td>2020-10-18 11:09:20</td>\n",
       "      <td>@ThuliMadonsela3 This tweet touched a nerve w...</td>\n",
       "      <td>given_ngomani</td>\n",
       "      <td>['Senekal', 'TheSouthAfricaWeWant', 'Senegal',...</td>\n",
       "      <td>30874</td>\n",
       "      <td>This tweet touched a nerve with one of the  ...</td>\n",
       "      <td>This tweet touched a nerve with one of the  ...</td>\n",
       "      <td>sene kal the south africa we want senegal sant...</td>\n",
       "      <td>[this, tweet, touched, a, nerve, with, one, of...</td>\n",
       "      <td>[tweet, touched, nerve, one, groups, marked, t...</td>\n",
       "      <td>[tweet, touch, nerv, one, group, mark, territo...</td>\n",
       "      <td>[tweet, touch, nerv, one, group, mark, territo...</td>\n",
       "      <td>[(tweet, NN), (touch, JJ), (nerv, IN), (one, C...</td>\n",
       "      <td>negative</td>\n",
       "    </tr>\n",
       "  </tbody>\n",
       "</table>\n",
       "</div>"
      ],
      "text/plain": [
       "             timestamp                                         tweet_text  \\\n",
       "0  2020-10-18 11:15:17   @DailyPostNGR I recall singing  a land where ...   \n",
       "1  2020-10-18 11:15:04   Truly the most beautiful place for #sunrise @...   \n",
       "2  2020-10-18 11:13:26   Something funny is happening! No more news of...   \n",
       "3  2020-10-18 11:12:54   those #files went missing from the metadata w...   \n",
       "4  2020-10-18 11:09:20   @ThuliMadonsela3 This tweet touched a nerve w...   \n",
       "\n",
       "           username                                       all_hashtags  \\\n",
       "0     KennethKoto3   ['peace', 'justice', 'ENDBADGOVERNANCE', 'EndP...   \n",
       "1       skconcepts   ['sunrise', 'peace', 'nystrong', 'canadastrong...   \n",
       "2        supab1902                                           ['Peace']   \n",
       "3   PercievedLogic                         ['files', 'peace', 'loved']   \n",
       "4    given_ngomani   ['Senekal', 'TheSouthAfricaWeWant', 'Senegal',...   \n",
       "\n",
       "   followers_count                                    tweet_text_prep  \\\n",
       "0               21    I recall singing  a land where  and  shall r...   \n",
       "1            11134        Truly the most beautiful place for            \n",
       "2               63   Something funny is happening! No more news of...   \n",
       "3             9300   those  went missing from the metadata world &...   \n",
       "4            30874    This tweet touched a nerve with one of the  ...   \n",
       "\n",
       "                                    tweet_text_clean  \\\n",
       "0    I recall singing  a land where  and  shall r...   \n",
       "1        Truly the most beautiful place for            \n",
       "2   Something funny is happening No more news of ...   \n",
       "3   those  went missing from the metadata world  ...   \n",
       "4    This tweet touched a nerve with one of the  ...   \n",
       "\n",
       "                                    all_hashtags_seg  \\\n",
       "0  peace justice end bad governance end police br...   \n",
       "1  sunrise peace ny strong canada strong america ...   \n",
       "2                                              peace   \n",
       "3                                  files peace loved   \n",
       "4  sene kal the south africa we want senegal sant...   \n",
       "\n",
       "                                    tweet_text_token  \\\n",
       "0  [i, recall, singing, a, land, where, and, shal...   \n",
       "1          [truly, the, most, beautiful, place, for]   \n",
       "2  [something, funny, is, happening, no, more, ne...   \n",
       "3  [those, went, missing, from, the, metadata, wo...   \n",
       "4  [this, tweet, touched, a, nerve, with, one, of...   \n",
       "\n",
       "                                  tweet_text_nonstop  \\\n",
       "0  [recall, singing, land, shall, reign, everyday...   \n",
       "1                          [truly, beautiful, place]   \n",
       "2  [something, funny, happening, news, boko, hara...   \n",
       "3  [went, missing, metadata, world, involved, any...   \n",
       "4  [tweet, touched, nerve, one, groups, marked, t...   \n",
       "\n",
       "                                     tweet_text_stem  \\\n",
       "0  [recal, sing, land, shall, reign, everyday, sc...   \n",
       "1                             [truli, beauti, place]   \n",
       "2  [someth, funni, happen, news, boko, haram, her...   \n",
       "3  [went, miss, metadata, world, involv, anyway, ...   \n",
       "4  [tweet, touch, nerv, one, group, mark, territo...   \n",
       "\n",
       "                                      tweet_text_lem  \\\n",
       "0  [recal, sing, land, shall, reign, everyday, sc...   \n",
       "1                             [truli, beauti, place]   \n",
       "2  [someth, funni, happen, news, boko, haram, her...   \n",
       "3  [went, miss, metadata, world, involv, anyway, ...   \n",
       "4  [tweet, touch, nerv, one, group, mark, territo...   \n",
       "\n",
       "                                      tweet_text_pos sentiment  \n",
       "0  [(recal, JJ), (sing, NN), (land, NN), (shall, ...  negative  \n",
       "1         [(truli, NNS), (beauti, VBD), (place, NN)]  positive  \n",
       "2  [(someth, NNS), (funni, VBP), (happen, JJ), (n...   neutral  \n",
       "3  [(went, VBD), (miss, JJS), (metadata, NN), (wo...  negative  \n",
       "4  [(tweet, NN), (touch, JJ), (nerv, IN), (one, C...  negative  "
      ]
     },
     "execution_count": 34,
     "metadata": {},
     "output_type": "execute_result"
    }
   ],
   "source": [
    "df.head()"
   ]
  },
  {
   "cell_type": "code",
   "execution_count": null,
   "metadata": {},
   "outputs": [],
   "source": [
    "#df.to_csv(\"after.csv\")"
   ]
  },
  {
   "cell_type": "markdown",
   "metadata": {},
   "source": [
    "### 2.4.6 Vectorisation"
   ]
  },
  {
   "cell_type": "code",
   "execution_count": null,
   "metadata": {},
   "outputs": [],
   "source": []
  },
  {
   "cell_type": "markdown",
   "metadata": {},
   "source": [
    "# 3. Explore : \n",
    "carry out a deeper exploration of the data. This includes looking at individual fields/variables to see the distribution of values they take (e.g. evenly distributed, bell curves, bi-modal) or how they are distributed in time. It also includes relationships between variables in your dataset: are there correlations? In which direction? Complex curves? We would expect to see roughly:\n"
   ]
  },
  {
   "cell_type": "markdown",
   "metadata": {},
   "source": [
    "## 3.1 4-5 exploratory visualisations"
   ]
  },
  {
   "cell_type": "code",
   "execution_count": 23,
   "metadata": {},
   "outputs": [
    {
     "data": {
      "image/png": "[encoded data removed]",
      "text/plain": [
       "<Figure size 360x360 with 1 Axes>"
      ]
     },
     "metadata": {
      "needs_background": "light"
     },
     "output_type": "display_data"
    }
   ],
   "source": [
    "df_EDA['tweet_text_clean_len'] = [len(i) for i in df.tweet_text_prep]\n",
    "\n",
    "fig, ax = plt.subplots(figsize = (5, 5))\n",
    "plt.boxplot(df_EDA.tweet_text_clean_len)\n",
    "plt.show()"
   ]
  },
  {
   "cell_type": "markdown",
   "metadata": {},
   "source": [
    "We can see that the total number of characters are less than 280 after cleaning.Success!"
   ]
  },
  {
   "cell_type": "markdown",
   "metadata": {},
   "source": [
    "### 3.1.1 Common Words\n",
    "We can count the number of the most common words to show the frequencies.I learned some thing like we can color the table to see the difference."
   ]
  },
  {
   "cell_type": "code",
   "execution_count": 24,
   "metadata": {},
   "outputs": [
    {
     "data": {
      "text/html": [
       "<style  type=\"text/css\" >\n",
       "#T_17feba0e_227b_11eb_80e3_f28654756e29row0_col1{\n",
       "            background-color:  #08306b;\n",
       "            color:  #f1f1f1;\n",
       "        }#T_17feba0e_227b_11eb_80e3_f28654756e29row1_col1{\n",
       "            background-color:  #2b7bba;\n",
       "            color:  #000000;\n",
       "        }#T_17feba0e_227b_11eb_80e3_f28654756e29row2_col1,#T_17feba0e_227b_11eb_80e3_f28654756e29row3_col1,#T_17feba0e_227b_11eb_80e3_f28654756e29row4_col1{\n",
       "            background-color:  #539ecd;\n",
       "            color:  #000000;\n",
       "        }#T_17feba0e_227b_11eb_80e3_f28654756e29row5_col1{\n",
       "            background-color:  #89bedc;\n",
       "            color:  #000000;\n",
       "        }#T_17feba0e_227b_11eb_80e3_f28654756e29row6_col1,#T_17feba0e_227b_11eb_80e3_f28654756e29row7_col1,#T_17feba0e_227b_11eb_80e3_f28654756e29row8_col1,#T_17feba0e_227b_11eb_80e3_f28654756e29row9_col1{\n",
       "            background-color:  #bad6eb;\n",
       "            color:  #000000;\n",
       "        }#T_17feba0e_227b_11eb_80e3_f28654756e29row10_col1,#T_17feba0e_227b_11eb_80e3_f28654756e29row11_col1,#T_17feba0e_227b_11eb_80e3_f28654756e29row12_col1,#T_17feba0e_227b_11eb_80e3_f28654756e29row13_col1,#T_17feba0e_227b_11eb_80e3_f28654756e29row14_col1{\n",
       "            background-color:  #dbe9f6;\n",
       "            color:  #000000;\n",
       "        }#T_17feba0e_227b_11eb_80e3_f28654756e29row15_col1,#T_17feba0e_227b_11eb_80e3_f28654756e29row16_col1,#T_17feba0e_227b_11eb_80e3_f28654756e29row17_col1,#T_17feba0e_227b_11eb_80e3_f28654756e29row18_col1,#T_17feba0e_227b_11eb_80e3_f28654756e29row19_col1{\n",
       "            background-color:  #f7fbff;\n",
       "            color:  #000000;\n",
       "        }</style><table id=\"T_17feba0e_227b_11eb_80e3_f28654756e29\" ><thead>    <tr>        <th class=\"blank level0\" ></th>        <th class=\"col_heading level0 col0\" >Common_words</th>        <th class=\"col_heading level0 col1\" >count</th>    </tr></thead><tbody>\n",
       "                <tr>\n",
       "                        <th id=\"T_17feba0e_227b_11eb_80e3_f28654756e29level0_row0\" class=\"row_heading level0 row0\" >0</th>\n",
       "                        <td id=\"T_17feba0e_227b_11eb_80e3_f28654756e29row0_col0\" class=\"data row0 col0\" >peace</td>\n",
       "                        <td id=\"T_17feba0e_227b_11eb_80e3_f28654756e29row0_col1\" class=\"data row0 col1\" >11</td>\n",
       "            </tr>\n",
       "            <tr>\n",
       "                        <th id=\"T_17feba0e_227b_11eb_80e3_f28654756e29level0_row1\" class=\"row_heading level0 row1\" >1</th>\n",
       "                        <td id=\"T_17feba0e_227b_11eb_80e3_f28654756e29row1_col0\" class=\"data row1 col0\" >time</td>\n",
       "                        <td id=\"T_17feba0e_227b_11eb_80e3_f28654756e29row1_col1\" class=\"data row1 col1\" >9</td>\n",
       "            </tr>\n",
       "            <tr>\n",
       "                        <th id=\"T_17feba0e_227b_11eb_80e3_f28654756e29level0_row2\" class=\"row_heading level0 row2\" >2</th>\n",
       "                        <td id=\"T_17feba0e_227b_11eb_80e3_f28654756e29row2_col0\" class=\"data row2 col0\" >world</td>\n",
       "                        <td id=\"T_17feba0e_227b_11eb_80e3_f28654756e29row2_col1\" class=\"data row2 col1\" >8</td>\n",
       "            </tr>\n",
       "            <tr>\n",
       "                        <th id=\"T_17feba0e_227b_11eb_80e3_f28654756e29level0_row3\" class=\"row_heading level0 row3\" >3</th>\n",
       "                        <td id=\"T_17feba0e_227b_11eb_80e3_f28654756e29row3_col0\" class=\"data row3 col0\" >today</td>\n",
       "                        <td id=\"T_17feba0e_227b_11eb_80e3_f28654756e29row3_col1\" class=\"data row3 col1\" >8</td>\n",
       "            </tr>\n",
       "            <tr>\n",
       "                        <th id=\"T_17feba0e_227b_11eb_80e3_f28654756e29level0_row4\" class=\"row_heading level0 row4\" >4</th>\n",
       "                        <td id=\"T_17feba0e_227b_11eb_80e3_f28654756e29row4_col0\" class=\"data row4 col0\" >secret</td>\n",
       "                        <td id=\"T_17feba0e_227b_11eb_80e3_f28654756e29row4_col1\" class=\"data row4 col1\" >8</td>\n",
       "            </tr>\n",
       "            <tr>\n",
       "                        <th id=\"T_17feba0e_227b_11eb_80e3_f28654756e29level0_row5\" class=\"row_heading level0 row5\" >5</th>\n",
       "                        <td id=\"T_17feba0e_227b_11eb_80e3_f28654756e29row5_col0\" class=\"data row5 col0\" >want</td>\n",
       "                        <td id=\"T_17feba0e_227b_11eb_80e3_f28654756e29row5_col1\" class=\"data row5 col1\" >7</td>\n",
       "            </tr>\n",
       "            <tr>\n",
       "                        <th id=\"T_17feba0e_227b_11eb_80e3_f28654756e29level0_row6\" class=\"row_heading level0 row6\" >6</th>\n",
       "                        <td id=\"T_17feba0e_227b_11eb_80e3_f28654756e29row6_col0\" class=\"data row6 col0\" >get</td>\n",
       "                        <td id=\"T_17feba0e_227b_11eb_80e3_f28654756e29row6_col1\" class=\"data row6 col1\" >6</td>\n",
       "            </tr>\n",
       "            <tr>\n",
       "                        <th id=\"T_17feba0e_227b_11eb_80e3_f28654756e29level0_row7\" class=\"row_heading level0 row7\" >7</th>\n",
       "                        <td id=\"T_17feba0e_227b_11eb_80e3_f28654756e29row7_col0\" class=\"data row7 col0\" >come</td>\n",
       "                        <td id=\"T_17feba0e_227b_11eb_80e3_f28654756e29row7_col1\" class=\"data row7 col1\" >6</td>\n",
       "            </tr>\n",
       "            <tr>\n",
       "                        <th id=\"T_17feba0e_227b_11eb_80e3_f28654756e29level0_row8\" class=\"row_heading level0 row8\" >8</th>\n",
       "                        <td id=\"T_17feba0e_227b_11eb_80e3_f28654756e29row8_col0\" class=\"data row8 col0\" >day</td>\n",
       "                        <td id=\"T_17feba0e_227b_11eb_80e3_f28654756e29row8_col1\" class=\"data row8 col1\" >6</td>\n",
       "            </tr>\n",
       "            <tr>\n",
       "                        <th id=\"T_17feba0e_227b_11eb_80e3_f28654756e29level0_row9\" class=\"row_heading level0 row9\" >9</th>\n",
       "                        <td id=\"T_17feba0e_227b_11eb_80e3_f28654756e29row9_col0\" class=\"data row9 col0\" >u</td>\n",
       "                        <td id=\"T_17feba0e_227b_11eb_80e3_f28654756e29row9_col1\" class=\"data row9 col1\" >6</td>\n",
       "            </tr>\n",
       "            <tr>\n",
       "                        <th id=\"T_17feba0e_227b_11eb_80e3_f28654756e29level0_row10\" class=\"row_heading level0 row10\" >10</th>\n",
       "                        <td id=\"T_17feba0e_227b_11eb_80e3_f28654756e29row10_col0\" class=\"data row10 col0\" >yet</td>\n",
       "                        <td id=\"T_17feba0e_227b_11eb_80e3_f28654756e29row10_col1\" class=\"data row10 col1\" >5</td>\n",
       "            </tr>\n",
       "            <tr>\n",
       "                        <th id=\"T_17feba0e_227b_11eb_80e3_f28654756e29level0_row11\" class=\"row_heading level0 row11\" >11</th>\n",
       "                        <td id=\"T_17feba0e_227b_11eb_80e3_f28654756e29row11_col0\" class=\"data row11 col0\" >need</td>\n",
       "                        <td id=\"T_17feba0e_227b_11eb_80e3_f28654756e29row11_col1\" class=\"data row11 col1\" >5</td>\n",
       "            </tr>\n",
       "            <tr>\n",
       "                        <th id=\"T_17feba0e_227b_11eb_80e3_f28654756e29level0_row12\" class=\"row_heading level0 row12\" >12</th>\n",
       "                        <td id=\"T_17feba0e_227b_11eb_80e3_f28654756e29row12_col0\" class=\"data row12 col0\" >god</td>\n",
       "                        <td id=\"T_17feba0e_227b_11eb_80e3_f28654756e29row12_col1\" class=\"data row12 col1\" >5</td>\n",
       "            </tr>\n",
       "            <tr>\n",
       "                        <th id=\"T_17feba0e_227b_11eb_80e3_f28654756e29level0_row13\" class=\"row_heading level0 row13\" >13</th>\n",
       "                        <td id=\"T_17feba0e_227b_11eb_80e3_f28654756e29row13_col0\" class=\"data row13 col0\" >war</td>\n",
       "                        <td id=\"T_17feba0e_227b_11eb_80e3_f28654756e29row13_col1\" class=\"data row13 col1\" >5</td>\n",
       "            </tr>\n",
       "            <tr>\n",
       "                        <th id=\"T_17feba0e_227b_11eb_80e3_f28654756e29level0_row14\" class=\"row_heading level0 row14\" >14</th>\n",
       "                        <td id=\"T_17feba0e_227b_11eb_80e3_f28654756e29row14_col0\" class=\"data row14 col0\" >never</td>\n",
       "                        <td id=\"T_17feba0e_227b_11eb_80e3_f28654756e29row14_col1\" class=\"data row14 col1\" >5</td>\n",
       "            </tr>\n",
       "            <tr>\n",
       "                        <th id=\"T_17feba0e_227b_11eb_80e3_f28654756e29level0_row15\" class=\"row_heading level0 row15\" >15</th>\n",
       "                        <td id=\"T_17feba0e_227b_11eb_80e3_f28654756e29row15_col0\" class=\"data row15 col0\" >let</td>\n",
       "                        <td id=\"T_17feba0e_227b_11eb_80e3_f28654756e29row15_col1\" class=\"data row15 col1\" >4</td>\n",
       "            </tr>\n",
       "            <tr>\n",
       "                        <th id=\"T_17feba0e_227b_11eb_80e3_f28654756e29level0_row16\" class=\"row_heading level0 row16\" >16</th>\n",
       "                        <td id=\"T_17feba0e_227b_11eb_80e3_f28654756e29row16_col0\" class=\"data row16 col0\" >including</td>\n",
       "                        <td id=\"T_17feba0e_227b_11eb_80e3_f28654756e29row16_col1\" class=\"data row16 col1\" >4</td>\n",
       "            </tr>\n",
       "            <tr>\n",
       "                        <th id=\"T_17feba0e_227b_11eb_80e3_f28654756e29level0_row17\" class=\"row_heading level0 row17\" >17</th>\n",
       "                        <td id=\"T_17feba0e_227b_11eb_80e3_f28654756e29row17_col0\" class=\"data row17 col0\" >people</td>\n",
       "                        <td id=\"T_17feba0e_227b_11eb_80e3_f28654756e29row17_col1\" class=\"data row17 col1\" >4</td>\n",
       "            </tr>\n",
       "            <tr>\n",
       "                        <th id=\"T_17feba0e_227b_11eb_80e3_f28654756e29level0_row18\" class=\"row_heading level0 row18\" >18</th>\n",
       "                        <td id=\"T_17feba0e_227b_11eb_80e3_f28654756e29row18_col0\" class=\"data row18 col0\" >may</td>\n",
       "                        <td id=\"T_17feba0e_227b_11eb_80e3_f28654756e29row18_col1\" class=\"data row18 col1\" >4</td>\n",
       "            </tr>\n",
       "            <tr>\n",
       "                        <th id=\"T_17feba0e_227b_11eb_80e3_f28654756e29level0_row19\" class=\"row_heading level0 row19\" >19</th>\n",
       "                        <td id=\"T_17feba0e_227b_11eb_80e3_f28654756e29row19_col0\" class=\"data row19 col0\" >feel</td>\n",
       "                        <td id=\"T_17feba0e_227b_11eb_80e3_f28654756e29row19_col1\" class=\"data row19 col1\" >4</td>\n",
       "            </tr>\n",
       "    </tbody></table>"
      ],
      "text/plain": [
       "<pandas.io.formats.style.Styler at 0x7fc027e2b5d0>"
      ]
     },
     "execution_count": 24,
     "metadata": {},
     "output_type": "execute_result"
    }
   ],
   "source": [
    "from collections import Counter\n",
    "\n",
    "corpus = [item for sublist in df['tweet_text_nonstop'] for item in sublist]\n",
    "counter = Counter(corpus)\n",
    "\n",
    "df_count = pd.DataFrame(counter.most_common(20))\n",
    "df_count.columns = ['Common_words','count']\n",
    "df_count.style.background_gradient(cmap = 'Blues')"
   ]
  },
  {
   "cell_type": "markdown",
   "metadata": {},
   "source": [
    "It looks like world is also mentioned many times, peace is always a worldwide thing! Also We can see some shortcomings in my cleaning functions. For example, 'u' stands for 'you'."
   ]
  },
  {
   "cell_type": "code",
   "execution_count": 25,
   "metadata": {},
   "outputs": [
    {
     "data": {
      "image/png": "[encoded data removed]",
      "text/plain": [
       "<Figure size 432x288 with 1 Axes>"
      ]
     },
     "metadata": {
      "needs_background": "light"
     },
     "output_type": "display_data"
    }
   ],
   "source": [
    "sns.barplot(x = \"count\",y = \"Common_words\", data = df_count)\n",
    "plt.show()"
   ]
  },
  {
   "cell_type": "markdown",
   "metadata": {},
   "source": [
    "There is also a package to show interactive graphs like treemap, unfortunately I cannot plot on this server. Maybe We can look up later."
   ]
  },
  {
   "cell_type": "code",
   "execution_count": null,
   "metadata": {},
   "outputs": [],
   "source": [
    "#pip install plotly.express"
   ]
  },
  {
   "cell_type": "code",
   "execution_count": null,
   "metadata": {},
   "outputs": [],
   "source": [
    "#import plotly.express as px"
   ]
  },
  {
   "cell_type": "code",
   "execution_count": null,
   "metadata": {},
   "outputs": [],
   "source": [
    "#fig = px.bar(df_count, x=\"count\", y=\"Common_words\", title='Commmon Words', orientation='h', width=70, height=70,color='Common_words')\n",
    "#fig.show()"
   ]
  },
  {
   "cell_type": "code",
   "execution_count": null,
   "metadata": {},
   "outputs": [],
   "source": [
    "#fig = px.treemap(df_count, path=['Common_words'], values='count',title='Tree of Most Common Words')\n",
    "#fig.show()"
   ]
  },
  {
   "cell_type": "markdown",
   "metadata": {},
   "source": [
    "### 3.1.2 Wordcloud Visualization\n",
    "Wordcloud is a typical tool in text analysis and we can compare the words in a more straight way."
   ]
  },
  {
   "cell_type": "code",
   "execution_count": 26,
   "metadata": {},
   "outputs": [],
   "source": [
    "from wordcloud import WordCloud\n",
    "from nltk import FreqDist"
   ]
  },
  {
   "cell_type": "code",
   "execution_count": 27,
   "metadata": {},
   "outputs": [
    {
     "data": {
      "image/png": "[encoded data removed]",
      "text/plain": [
       "<Figure size 360x216 with 1 Axes>"
      ]
     },
     "metadata": {
      "needs_background": "light"
     },
     "output_type": "display_data"
    }
   ],
   "source": [
    "allwords = ' '.join([w for w in df['tweet_text_clean']])\n",
    "wordcloud = WordCloud(width = 500, height = 300, background_color = 'white', min_font_size = 10, max_words=50).generate(str(allwords))                           \n",
    "plt.figure(figsize = (5,3))\n",
    "plt.imshow(wordcloud, interpolation = \"bilinear\")\n",
    "plt.axis(\"off\")\n",
    "plt.show()"
   ]
  },
  {
   "cell_type": "markdown",
   "metadata": {},
   "source": [
    "Actually, there is also a tool to caculate the frequency in nltk. But there is some difference. WordCloud can remove the stopwords.But stopwords can mean something, for example, I guess people always asked governments 'to' do something when it comes to 'Peace'."
   ]
  },
  {
   "cell_type": "code",
   "execution_count": 28,
   "metadata": {},
   "outputs": [
    {
     "data": {
      "image/png": "[encoded data removed]",
      "text/plain": [
       "<Figure size 432x288 with 1 Axes>"
      ]
     },
     "metadata": {
      "needs_background": "light"
     },
     "output_type": "display_data"
    },
    {
     "data": {
      "text/plain": [
       "<matplotlib.axes._subplots.AxesSubplot at 0x7fc027bb5850>"
      ]
     },
     "execution_count": 28,
     "metadata": {},
     "output_type": "execute_result"
    }
   ],
   "source": [
    "fdist = nltk.FreqDist(allwords.split())\n",
    "fdist.plot(10)"
   ]
  },
  {
   "cell_type": "markdown",
   "metadata": {},
   "source": [
    "## 3.2 1-2 relationships between variables analysed"
   ]
  },
  {
   "cell_type": "markdown",
   "metadata": {},
   "source": [
    "### 3.2.1 Sentiment Analysis\n",
    "After soing some research, I found that we always create a variable called sentiment to cluster tweets into 3 groups or more. With labelled outputs, we can apply surpervise learning.To have a brief taste, I used `TextBlob` which can output some polarity."
   ]
  },
  {
   "cell_type": "code",
   "execution_count": 29,
   "metadata": {},
   "outputs": [],
   "source": [
    "from textblob import TextBlob\n",
    "\n",
    "def get_tweet_sentiment(text): \n",
    "    if TextBlob(text).sentiment.polarity > 0:\n",
    "        return 'positive'\n",
    "    elif TextBlob(text).sentiment.polarity == 0: \n",
    "        return 'neutral'\n",
    "    else: \n",
    "        return 'negative'"
   ]
  },
  {
   "cell_type": "code",
   "execution_count": 30,
   "metadata": {},
   "outputs": [],
   "source": [
    "df['sentiment'] = df['tweet_text_token'].apply(lambda x: get_tweet_sentiment(' '.join(x)))"
   ]
  },
  {
   "cell_type": "code",
   "execution_count": 31,
   "metadata": {},
   "outputs": [
    {
     "data": {
      "text/html": [
       "<div>\n",
       "<style scoped>\n",
       "    .dataframe tbody tr th:only-of-type {\n",
       "        vertical-align: middle;\n",
       "    }\n",
       "\n",
       "    .dataframe tbody tr th {\n",
       "        vertical-align: top;\n",
       "    }\n",
       "\n",
       "    .dataframe thead th {\n",
       "        text-align: right;\n",
       "    }\n",
       "</style>\n",
       "<table border=\"1\" class=\"dataframe\">\n",
       "  <thead>\n",
       "    <tr style=\"text-align: right;\">\n",
       "      <th></th>\n",
       "      <th>timestamp</th>\n",
       "      <th>tweet_text</th>\n",
       "      <th>username</th>\n",
       "      <th>all_hashtags</th>\n",
       "      <th>followers_count</th>\n",
       "      <th>tweet_text_prep</th>\n",
       "      <th>tweet_text_clean</th>\n",
       "      <th>all_hashtags_seg</th>\n",
       "      <th>tweet_text_token</th>\n",
       "      <th>tweet_text_nonstop</th>\n",
       "      <th>tweet_text_stem</th>\n",
       "      <th>tweet_text_lem</th>\n",
       "      <th>tweet_text_pos</th>\n",
       "      <th>sentiment</th>\n",
       "    </tr>\n",
       "  </thead>\n",
       "  <tbody>\n",
       "    <tr>\n",
       "      <th>0</th>\n",
       "      <td>2020-10-18 11:15:17</td>\n",
       "      <td>@DailyPostNGR I recall singing  a land where ...</td>\n",
       "      <td>KennethKoto3</td>\n",
       "      <td>['peace', 'justice', 'ENDBADGOVERNANCE', 'EndP...</td>\n",
       "      <td>21</td>\n",
       "      <td>I recall singing  a land where  and  shall r...</td>\n",
       "      <td>I recall singing  a land where  and  shall r...</td>\n",
       "      <td>peace justice end bad governance end police br...</td>\n",
       "      <td>[i, recall, singing, a, land, where, and, shal...</td>\n",
       "      <td>[recall, singing, land, shall, reign, everyday...</td>\n",
       "      <td>[recal, sing, land, shall, reign, everyday, sc...</td>\n",
       "      <td>[recal, sing, land, shall, reign, everyday, sc...</td>\n",
       "      <td>[(recal, JJ), (sing, NN), (land, NN), (shall, ...</td>\n",
       "      <td>negative</td>\n",
       "    </tr>\n",
       "    <tr>\n",
       "      <th>1</th>\n",
       "      <td>2020-10-18 11:15:04</td>\n",
       "      <td>Truly the most beautiful place for #sunrise @...</td>\n",
       "      <td>skconcepts</td>\n",
       "      <td>['sunrise', 'peace', 'nystrong', 'canadastrong...</td>\n",
       "      <td>11134</td>\n",
       "      <td>Truly the most beautiful place for</td>\n",
       "      <td>Truly the most beautiful place for</td>\n",
       "      <td>sunrise peace ny strong canada strong america ...</td>\n",
       "      <td>[truly, the, most, beautiful, place, for]</td>\n",
       "      <td>[truly, beautiful, place]</td>\n",
       "      <td>[truli, beauti, place]</td>\n",
       "      <td>[truli, beauti, place]</td>\n",
       "      <td>[(truli, NNS), (beauti, VBD), (place, NN)]</td>\n",
       "      <td>positive</td>\n",
       "    </tr>\n",
       "    <tr>\n",
       "      <th>2</th>\n",
       "      <td>2020-10-18 11:13:26</td>\n",
       "      <td>Something funny is happening! No more news of...</td>\n",
       "      <td>supab1902</td>\n",
       "      <td>['Peace']</td>\n",
       "      <td>63</td>\n",
       "      <td>Something funny is happening! No more news of...</td>\n",
       "      <td>Something funny is happening No more news of ...</td>\n",
       "      <td>peace</td>\n",
       "      <td>[something, funny, is, happening, no, more, ne...</td>\n",
       "      <td>[something, funny, happening, news, boko, hara...</td>\n",
       "      <td>[someth, funni, happen, news, boko, haram, her...</td>\n",
       "      <td>[someth, funni, happen, news, boko, haram, her...</td>\n",
       "      <td>[(someth, NNS), (funni, VBP), (happen, JJ), (n...</td>\n",
       "      <td>neutral</td>\n",
       "    </tr>\n",
       "    <tr>\n",
       "      <th>3</th>\n",
       "      <td>2020-10-18 11:12:54</td>\n",
       "      <td>those #files went missing from the metadata w...</td>\n",
       "      <td>PercievedLogic</td>\n",
       "      <td>['files', 'peace', 'loved']</td>\n",
       "      <td>9300</td>\n",
       "      <td>those  went missing from the metadata world &amp;...</td>\n",
       "      <td>those  went missing from the metadata world  ...</td>\n",
       "      <td>files peace loved</td>\n",
       "      <td>[those, went, missing, from, the, metadata, wo...</td>\n",
       "      <td>[went, missing, metadata, world, involved, any...</td>\n",
       "      <td>[went, miss, metadata, world, involv, anyway, ...</td>\n",
       "      <td>[went, miss, metadata, world, involv, anyway, ...</td>\n",
       "      <td>[(went, VBD), (miss, JJS), (metadata, NN), (wo...</td>\n",
       "      <td>negative</td>\n",
       "    </tr>\n",
       "    <tr>\n",
       "      <th>4</th>\n",
       "      <td>2020-10-18 11:09:20</td>\n",
       "      <td>@ThuliMadonsela3 This tweet touched a nerve w...</td>\n",
       "      <td>given_ngomani</td>\n",
       "      <td>['Senekal', 'TheSouthAfricaWeWant', 'Senegal',...</td>\n",
       "      <td>30874</td>\n",
       "      <td>This tweet touched a nerve with one of the  ...</td>\n",
       "      <td>This tweet touched a nerve with one of the  ...</td>\n",
       "      <td>sene kal the south africa we want senegal sant...</td>\n",
       "      <td>[this, tweet, touched, a, nerve, with, one, of...</td>\n",
       "      <td>[tweet, touched, nerve, one, groups, marked, t...</td>\n",
       "      <td>[tweet, touch, nerv, one, group, mark, territo...</td>\n",
       "      <td>[tweet, touch, nerv, one, group, mark, territo...</td>\n",
       "      <td>[(tweet, NN), (touch, JJ), (nerv, IN), (one, C...</td>\n",
       "      <td>negative</td>\n",
       "    </tr>\n",
       "  </tbody>\n",
       "</table>\n",
       "</div>"
      ],
      "text/plain": [
       "             timestamp                                         tweet_text  \\\n",
       "0  2020-10-18 11:15:17   @DailyPostNGR I recall singing  a land where ...   \n",
       "1  2020-10-18 11:15:04   Truly the most beautiful place for #sunrise @...   \n",
       "2  2020-10-18 11:13:26   Something funny is happening! No more news of...   \n",
       "3  2020-10-18 11:12:54   those #files went missing from the metadata w...   \n",
       "4  2020-10-18 11:09:20   @ThuliMadonsela3 This tweet touched a nerve w...   \n",
       "\n",
       "           username                                       all_hashtags  \\\n",
       "0     KennethKoto3   ['peace', 'justice', 'ENDBADGOVERNANCE', 'EndP...   \n",
       "1       skconcepts   ['sunrise', 'peace', 'nystrong', 'canadastrong...   \n",
       "2        supab1902                                           ['Peace']   \n",
       "3   PercievedLogic                         ['files', 'peace', 'loved']   \n",
       "4    given_ngomani   ['Senekal', 'TheSouthAfricaWeWant', 'Senegal',...   \n",
       "\n",
       "   followers_count                                    tweet_text_prep  \\\n",
       "0               21    I recall singing  a land where  and  shall r...   \n",
       "1            11134        Truly the most beautiful place for            \n",
       "2               63   Something funny is happening! No more news of...   \n",
       "3             9300   those  went missing from the metadata world &...   \n",
       "4            30874    This tweet touched a nerve with one of the  ...   \n",
       "\n",
       "                                    tweet_text_clean  \\\n",
       "0    I recall singing  a land where  and  shall r...   \n",
       "1        Truly the most beautiful place for            \n",
       "2   Something funny is happening No more news of ...   \n",
       "3   those  went missing from the metadata world  ...   \n",
       "4    This tweet touched a nerve with one of the  ...   \n",
       "\n",
       "                                    all_hashtags_seg  \\\n",
       "0  peace justice end bad governance end police br...   \n",
       "1  sunrise peace ny strong canada strong america ...   \n",
       "2                                              peace   \n",
       "3                                  files peace loved   \n",
       "4  sene kal the south africa we want senegal sant...   \n",
       "\n",
       "                                    tweet_text_token  \\\n",
       "0  [i, recall, singing, a, land, where, and, shal...   \n",
       "1          [truly, the, most, beautiful, place, for]   \n",
       "2  [something, funny, is, happening, no, more, ne...   \n",
       "3  [those, went, missing, from, the, metadata, wo...   \n",
       "4  [this, tweet, touched, a, nerve, with, one, of...   \n",
       "\n",
       "                                  tweet_text_nonstop  \\\n",
       "0  [recall, singing, land, shall, reign, everyday...   \n",
       "1                          [truly, beautiful, place]   \n",
       "2  [something, funny, happening, news, boko, hara...   \n",
       "3  [went, missing, metadata, world, involved, any...   \n",
       "4  [tweet, touched, nerve, one, groups, marked, t...   \n",
       "\n",
       "                                     tweet_text_stem  \\\n",
       "0  [recal, sing, land, shall, reign, everyday, sc...   \n",
       "1                             [truli, beauti, place]   \n",
       "2  [someth, funni, happen, news, boko, haram, her...   \n",
       "3  [went, miss, metadata, world, involv, anyway, ...   \n",
       "4  [tweet, touch, nerv, one, group, mark, territo...   \n",
       "\n",
       "                                      tweet_text_lem  \\\n",
       "0  [recal, sing, land, shall, reign, everyday, sc...   \n",
       "1                             [truli, beauti, place]   \n",
       "2  [someth, funni, happen, news, boko, haram, her...   \n",
       "3  [went, miss, metadata, world, involv, anyway, ...   \n",
       "4  [tweet, touch, nerv, one, group, mark, territo...   \n",
       "\n",
       "                                      tweet_text_pos sentiment  \n",
       "0  [(recal, JJ), (sing, NN), (land, NN), (shall, ...  negative  \n",
       "1         [(truli, NNS), (beauti, VBD), (place, NN)]  positive  \n",
       "2  [(someth, NNS), (funni, VBP), (happen, JJ), (n...   neutral  \n",
       "3  [(went, VBD), (miss, JJS), (metadata, NN), (wo...  negative  \n",
       "4  [(tweet, NN), (touch, JJ), (nerv, IN), (one, C...  negative  "
      ]
     },
     "execution_count": 31,
     "metadata": {},
     "output_type": "execute_result"
    }
   ],
   "source": [
    "df.head()"
   ]
  },
  {
   "cell_type": "code",
   "execution_count": 32,
   "metadata": {},
   "outputs": [],
   "source": [
    "Positive = df[df['sentiment'] == 'positive']\n",
    "Negative = df[df['sentiment'] == 'negative']\n",
    "Neutral = df[df['sentiment'] == 'neutral']"
   ]
  },
  {
   "cell_type": "code",
   "execution_count": 33,
   "metadata": {},
   "outputs": [
    {
     "name": "stdout",
     "output_type": "stream",
     "text": [
      "Number of tweets with positive sentiment 40\n",
      "Number of tweets with negative sentiment 18\n",
      "Number of tweets with neutral sentiment 42\n"
     ]
    }
   ],
   "source": [
    "print('Number of tweets with positive sentiment', Positive['sentiment'].count())\n",
    "print('Number of tweets with negative sentiment', Negative['sentiment'].count())\n",
    "print('Number of tweets with neutral sentiment', Neutral['sentiment'].count())"
   ]
  },
  {
   "cell_type": "markdown",
   "metadata": {},
   "source": [
    "Now I use positive as an example to see the difference. To compare it, I should plot all."
   ]
  },
  {
   "cell_type": "code",
   "execution_count": 35,
   "metadata": {},
   "outputs": [
    {
     "data": {
      "text/html": [
       "<style  type=\"text/css\" >\n",
       "#T_5fbc0234_227b_11eb_80e3_f28654756e29row0_col1{\n",
       "            background-color:  #67000d;\n",
       "            color:  #f1f1f1;\n",
       "        }#T_5fbc0234_227b_11eb_80e3_f28654756e29row1_col1,#T_5fbc0234_227b_11eb_80e3_f28654756e29row2_col1{\n",
       "            background-color:  #e32f27;\n",
       "            color:  #f1f1f1;\n",
       "        }#T_5fbc0234_227b_11eb_80e3_f28654756e29row3_col1,#T_5fbc0234_227b_11eb_80e3_f28654756e29row4_col1,#T_5fbc0234_227b_11eb_80e3_f28654756e29row5_col1,#T_5fbc0234_227b_11eb_80e3_f28654756e29row6_col1,#T_5fbc0234_227b_11eb_80e3_f28654756e29row7_col1,#T_5fbc0234_227b_11eb_80e3_f28654756e29row8_col1{\n",
       "            background-color:  #fca082;\n",
       "            color:  #000000;\n",
       "        }#T_5fbc0234_227b_11eb_80e3_f28654756e29row9_col1{\n",
       "            background-color:  #fff5f0;\n",
       "            color:  #000000;\n",
       "        }</style><table id=\"T_5fbc0234_227b_11eb_80e3_f28654756e29\" ><thead>    <tr>        <th class=\"blank level0\" ></th>        <th class=\"col_heading level0 col0\" >Common_words</th>        <th class=\"col_heading level0 col1\" >count</th>    </tr></thead><tbody>\n",
       "                <tr>\n",
       "                        <th id=\"T_5fbc0234_227b_11eb_80e3_f28654756e29level0_row0\" class=\"row_heading level0 row0\" >0</th>\n",
       "                        <td id=\"T_5fbc0234_227b_11eb_80e3_f28654756e29row0_col0\" class=\"data row0 col0\" >want</td>\n",
       "                        <td id=\"T_5fbc0234_227b_11eb_80e3_f28654756e29row0_col1\" class=\"data row0 col1\" >6</td>\n",
       "            </tr>\n",
       "            <tr>\n",
       "                        <th id=\"T_5fbc0234_227b_11eb_80e3_f28654756e29level0_row1\" class=\"row_heading level0 row1\" >1</th>\n",
       "                        <td id=\"T_5fbc0234_227b_11eb_80e3_f28654756e29row1_col0\" class=\"data row1 col0\" >today</td>\n",
       "                        <td id=\"T_5fbc0234_227b_11eb_80e3_f28654756e29row1_col1\" class=\"data row1 col1\" >5</td>\n",
       "            </tr>\n",
       "            <tr>\n",
       "                        <th id=\"T_5fbc0234_227b_11eb_80e3_f28654756e29level0_row2\" class=\"row_heading level0 row2\" >2</th>\n",
       "                        <td id=\"T_5fbc0234_227b_11eb_80e3_f28654756e29row2_col0\" class=\"data row2 col0\" >feel</td>\n",
       "                        <td id=\"T_5fbc0234_227b_11eb_80e3_f28654756e29row2_col1\" class=\"data row2 col1\" >5</td>\n",
       "            </tr>\n",
       "            <tr>\n",
       "                        <th id=\"T_5fbc0234_227b_11eb_80e3_f28654756e29level0_row3\" class=\"row_heading level0 row3\" >3</th>\n",
       "                        <td id=\"T_5fbc0234_227b_11eb_80e3_f28654756e29row3_col0\" class=\"data row3 col0\" >make</td>\n",
       "                        <td id=\"T_5fbc0234_227b_11eb_80e3_f28654756e29row3_col1\" class=\"data row3 col1\" >4</td>\n",
       "            </tr>\n",
       "            <tr>\n",
       "                        <th id=\"T_5fbc0234_227b_11eb_80e3_f28654756e29level0_row4\" class=\"row_heading level0 row4\" >4</th>\n",
       "                        <td id=\"T_5fbc0234_227b_11eb_80e3_f28654756e29row4_col0\" class=\"data row4 col0\" >day</td>\n",
       "                        <td id=\"T_5fbc0234_227b_11eb_80e3_f28654756e29row4_col1\" class=\"data row4 col1\" >4</td>\n",
       "            </tr>\n",
       "            <tr>\n",
       "                        <th id=\"T_5fbc0234_227b_11eb_80e3_f28654756e29level0_row5\" class=\"row_heading level0 row5\" >5</th>\n",
       "                        <td id=\"T_5fbc0234_227b_11eb_80e3_f28654756e29row5_col0\" class=\"data row5 col0\" >world</td>\n",
       "                        <td id=\"T_5fbc0234_227b_11eb_80e3_f28654756e29row5_col1\" class=\"data row5 col1\" >4</td>\n",
       "            </tr>\n",
       "            <tr>\n",
       "                        <th id=\"T_5fbc0234_227b_11eb_80e3_f28654756e29level0_row6\" class=\"row_heading level0 row6\" >6</th>\n",
       "                        <td id=\"T_5fbc0234_227b_11eb_80e3_f28654756e29row6_col0\" class=\"data row6 col0\" >live</td>\n",
       "                        <td id=\"T_5fbc0234_227b_11eb_80e3_f28654756e29row6_col1\" class=\"data row6 col1\" >4</td>\n",
       "            </tr>\n",
       "            <tr>\n",
       "                        <th id=\"T_5fbc0234_227b_11eb_80e3_f28654756e29level0_row7\" class=\"row_heading level0 row7\" >7</th>\n",
       "                        <td id=\"T_5fbc0234_227b_11eb_80e3_f28654756e29row7_col0\" class=\"data row7 col0\" >need</td>\n",
       "                        <td id=\"T_5fbc0234_227b_11eb_80e3_f28654756e29row7_col1\" class=\"data row7 col1\" >4</td>\n",
       "            </tr>\n",
       "            <tr>\n",
       "                        <th id=\"T_5fbc0234_227b_11eb_80e3_f28654756e29level0_row8\" class=\"row_heading level0 row8\" >8</th>\n",
       "                        <td id=\"T_5fbc0234_227b_11eb_80e3_f28654756e29row8_col0\" class=\"data row8 col0\" >love</td>\n",
       "                        <td id=\"T_5fbc0234_227b_11eb_80e3_f28654756e29row8_col1\" class=\"data row8 col1\" >4</td>\n",
       "            </tr>\n",
       "            <tr>\n",
       "                        <th id=\"T_5fbc0234_227b_11eb_80e3_f28654756e29level0_row9\" class=\"row_heading level0 row9\" >9</th>\n",
       "                        <td id=\"T_5fbc0234_227b_11eb_80e3_f28654756e29row9_col0\" class=\"data row9 col0\" >forgiv</td>\n",
       "                        <td id=\"T_5fbc0234_227b_11eb_80e3_f28654756e29row9_col1\" class=\"data row9 col1\" >3</td>\n",
       "            </tr>\n",
       "    </tbody></table>"
      ],
      "text/plain": [
       "<pandas.io.formats.style.Styler at 0x7fc0274e9250>"
      ]
     },
     "execution_count": 35,
     "metadata": {},
     "output_type": "execute_result"
    }
   ],
   "source": [
    "pcounter = Counter([item for sublist in Positive['tweet_text_lem'] for item in sublist])\n",
    "df_positive = pd.DataFrame(pcounter.most_common(10))\n",
    "df_positive.columns = ['Common_words','count']\n",
    "df_positive.style.background_gradient(cmap = 'Reds')"
   ]
  },
  {
   "cell_type": "markdown",
   "metadata": {},
   "source": [
    "There is a beautiful 'donut' plot!"
   ]
  },
  {
   "cell_type": "code",
   "execution_count": 36,
   "metadata": {},
   "outputs": [
    {
     "data": {
      "image/png": "[encoded data removed]",
      "text/plain": [
       "<Figure size 360x360 with 1 Axes>"
      ]
     },
     "metadata": {},
     "output_type": "display_data"
    }
   ],
   "source": [
    "from palettable.colorbrewer.qualitative import Pastel1_7\n",
    "plt.figure(figsize = (5,5))\n",
    "my_circle = plt.Circle((0,0), 0.7, color = 'white')\n",
    "plt.rcParams['text.color'] = 'black'\n",
    "plt.pie(df_positive['count'], labels = df_positive.Common_words, colors = Pastel1_7.hex_colors)\n",
    "p = plt.gcf()\n",
    "p.gca().add_artist(my_circle)\n",
    "plt.title('DoNut Plot Of words in Positive sentiment tweets')\n",
    "plt.show()"
   ]
  },
  {
   "cell_type": "code",
   "execution_count": 37,
   "metadata": {},
   "outputs": [
    {
     "data": {
      "image/png": "[encoded data removed]",
      "text/plain": [
       "<Figure size 360x216 with 1 Axes>"
      ]
     },
     "metadata": {
      "needs_background": "light"
     },
     "output_type": "display_data"
    }
   ],
   "source": [
    "allpositivewords = ' '.join([w for w in Positive['tweet_text_clean']])\n",
    "wordcloud = WordCloud(width = 500, height = 300, background_color ='white', min_font_size = 10, max_words=50).generate(str(allpositivewords))   \n",
    "# plot the WordCloud image                        \n",
    "plt.figure(figsize=(5,3))\n",
    "plt.imshow(wordcloud, interpolation=\"bilinear\")\n",
    "plt.axis(\"off\")\n",
    "plt.show()"
   ]
  },
  {
   "cell_type": "markdown",
   "metadata": {},
   "source": [
    "## 3.3 Ideas about trends, outliers, clusters\n",
    "- Trends: Maybe we can use certain frequency of words to know some disinformation earlier. Maybe some classifer to improve the twitter blocking algorithms?\n",
    "- Outliers: Some peopel just use the hashtags to have the attention or use some words to tweet ironically or sarcastically. \n",
    "- Clusters: Above procedure is a way to cluster the tweets (I think). I have learned some k-means or others to cluster by unigrams or bigrams. If I have the locations, maybe I can cluster the users. I will show some hypothese later."
   ]
  },
  {
   "cell_type": "markdown",
   "metadata": {},
   "source": [
    "## 3.4 Reference to statistics\n",
    "- Some words may become interferences , but we can see certain words relate to certain activities, thoughts or emotions.\n",
    "- The count of words is also useful data if I can find out more.\n",
    "- As mentioned above, the number of followers is useful.\n",
    "- Hashtags can work as keywords but it contains some misleadings."
   ]
  },
  {
   "cell_type": "markdown",
   "metadata": {},
   "source": [
    "# 4. Reflect and Hypothesise:\n",
    "What do you think might be behind the relationships and distributions that you have found? How does your data relate to the world? In short, what hypotheses came up as you explored the data, and how would you go about testing them? We would expect to see:\n",
    "-  A 200 word reflection on the data"
   ]
  },
  {
   "cell_type": "markdown",
   "metadata": {},
   "source": [
    "## 4.1 Reflection\n",
    "The data I got from the data holder was not complete so far. For a tweet, there is text (including emojis), mentions, hashtags and URLs. Data linked to tweets can include timestamp and followers relationship to draw some network or maps. Maybe we can use the size or emojis on maps to represent the live difference using Twitter API.\n",
    "\n",
    "It took me a couple of days to do the data cleaning which consists of most of my work. And it's hard to know the suitable function.But I still need to improve my function in case the bigger dataset will be more complicated. Some algorithms need more time for me to be understood.I still have some questions about unique word.\n",
    "\n",
    "To do this kind of data analysis, I should always keep up with the latest news. Like I thought the text content of a Tweet can contain up to 140 characters but this number has already changed to 280. The most challenging part is converting between bytes, string and list. If I ignore the types, I will come across bugs.\n",
    "\n",
    "Our group has talked about the form of data visualization, which can be in multiple ways. Further discussions about the models we use will be put forward at the same time."
   ]
  },
  {
   "cell_type": "markdown",
   "metadata": {},
   "source": [
    "I know there are some interesting packages I can turn to. But somehow it cannot work so far, let's wait for next assignment!"
   ]
  },
  {
   "cell_type": "code",
   "execution_count": null,
   "metadata": {},
   "outputs": [],
   "source": [
    "#from vaderSentiment.vaderSentiment import SentimentIntensityAnalyzer\n",
    "#Analyser = SentimentIntensityAnalyzer()\n",
    "#import spacy\n",
    "\n",
    "#model = spacy.load('en_core_web_sm')"
   ]
  },
  {
   "cell_type": "markdown",
   "metadata": {},
   "source": [
    "## 4.2 Hypothese\n",
    "-  3-5 hypotheses with an explanation of:\n",
    "    - What your hypothesis is\n",
    "    - why you think that (referring to your graphs)\n",
    "    - How you could go about testing it (note that this may include: further studies,asking the data owner, using some advanced algorithms, checking each datapoint individually, etc..)\n",
    "    \n",
    "NOTE: You don’t have to actually test the hypotheses - you just have to demonstrate that you have plausibly thought about how you would test them."
   ]
  },
  {
   "cell_type": "markdown",
   "metadata": {},
   "source": [
    "### Hypothese 1:\n",
    "It is our goal to find out the fake news. I assume that account with more followers will be more official voice sometimes. So for next step, we can rank the username by its followers, verified or not. We can even collect a list of public news media.So we can do in different directions, for example, I can train the dataset use machine learing and compare the results with twitter's verified token."
   ]
  },
  {
   "cell_type": "code",
   "execution_count": 41,
   "metadata": {},
   "outputs": [
    {
     "data": {
      "image/png": "[encoded data removed]",
      "text/plain": [
       "<Figure size 432x288 with 1 Axes>"
      ]
     },
     "metadata": {
      "needs_background": "light"
     },
     "output_type": "display_data"
    }
   ],
   "source": [
    "sns.barplot(x = 'username',y = 'followers_count', data = df.head())\n",
    "plt.show()"
   ]
  },
  {
   "cell_type": "markdown",
   "metadata": {},
   "source": [
    "### Hypothese 2:\n",
    "Clustering? Once we have combine our dataset together, we should draw some map to show what people are discussing in the real world. We have some ideas like Chernoff faces to balance the relevance. I assume that there will be certain topics or emotions in some conflicting areas. For graphs, you can refer to **Sentiment Analysis** part.Twitter has some search system by locations or hashtags, we can compare maunally feelings or new about what's going on with our results. What we need to do next is:\n",
    "- Figure out what visulisation tools can be used, how to draw the map\n",
    "- Find better algorithms to custer the dataset (like k-means, tf-idf?) Do some dimension reduction (word embeding)\n",
    "- Maybe we can use several models to compare the result\n"
   ]
  },
  {
   "cell_type": "markdown",
   "metadata": {},
   "source": [
    "### Hypothese 3:\n",
    "Our tutor provide a file which have a list of terms on peace agreements. I guess I can create some dictionary to categorize the certain tweets.And I can compare it with my most common words to test the relationshiop with terms. It is a huge work, I haven't done it.Some example codes:"
   ]
  },
  {
   "cell_type": "code",
   "execution_count": null,
   "metadata": {},
   "outputs": [],
   "source": [
    "#terms = ['','']\n",
    "#corpus = [item for sublist in df['tweet_text_nonstop'] for item in sublist]\n",
    "#df_count[''] = df['tweet_text_nonstop'].apply(lambda x: [i for i in x if i in terms])"
   ]
  },
  {
   "cell_type": "markdown",
   "metadata": {},
   "source": [
    "### Hypothese 4:\n",
    "Actually, we cannot get information from single word so there is also research about unigram, bigrams and trigrams. Some phrase can indicate certain activity or more simply the name of some protests and parade. To show it, I have used some simple `split()` function here. We can do more later!"
   ]
  },
  {
   "cell_type": "code",
   "execution_count": 42,
   "metadata": {},
   "outputs": [],
   "source": [
    "from collections import defaultdict\n",
    "from wordcloud import STOPWORDS\n",
    "def generate_ngrams(text, n_gram=1):\n",
    "    token = [token for token in text.lower().split(' ') if token != '' if token not in STOPWORDS]\n",
    "    ngrams = zip(*[token[i:] for i in range(n_gram)])\n",
    "    return [' '.join(ngram) for ngram in ngrams]\n",
    "\n",
    "N = 100\n",
    "\n",
    "# Bigrams\n",
    "text_bigrams = defaultdict(int)\n",
    "\n",
    "for text in df['tweet_text_clean']:\n",
    "    for word in generate_ngrams(text, n_gram=2):\n",
    "        text_bigrams[word] += 1\n",
    "\n",
    "df_bigrams = pd.DataFrame(sorted(text_bigrams.items(), key=lambda x: x[1])[::-1])\n",
    "df_bigrams.columns = ['bigrams','count']"
   ]
  },
  {
   "cell_type": "code",
   "execution_count": 43,
   "metadata": {},
   "outputs": [
    {
     "data": {
      "text/html": [
       "<div>\n",
       "<style scoped>\n",
       "    .dataframe tbody tr th:only-of-type {\n",
       "        vertical-align: middle;\n",
       "    }\n",
       "\n",
       "    .dataframe tbody tr th {\n",
       "        vertical-align: top;\n",
       "    }\n",
       "\n",
       "    .dataframe thead th {\n",
       "        text-align: right;\n",
       "    }\n",
       "</style>\n",
       "<table border=\"1\" class=\"dataframe\">\n",
       "  <thead>\n",
       "    <tr style=\"text-align: right;\">\n",
       "      <th></th>\n",
       "      <th>bigrams</th>\n",
       "      <th>count</th>\n",
       "    </tr>\n",
       "  </thead>\n",
       "  <tbody>\n",
       "    <tr>\n",
       "      <th>0</th>\n",
       "      <td>want u</td>\n",
       "      <td>4</td>\n",
       "    </tr>\n",
       "    <tr>\n",
       "      <th>1</th>\n",
       "      <td>u want</td>\n",
       "      <td>4</td>\n",
       "    </tr>\n",
       "    <tr>\n",
       "      <th>2</th>\n",
       "      <td>yet come</td>\n",
       "      <td>3</td>\n",
       "    </tr>\n",
       "    <tr>\n",
       "      <th>3</th>\n",
       "      <td>ones yet</td>\n",
       "      <td>3</td>\n",
       "    </tr>\n",
       "    <tr>\n",
       "      <th>4</th>\n",
       "      <td>s dion</td>\n",
       "      <td>2</td>\n",
       "    </tr>\n",
       "  </tbody>\n",
       "</table>\n",
       "</div>"
      ],
      "text/plain": [
       "    bigrams  count\n",
       "0    want u      4\n",
       "1    u want      4\n",
       "2  yet come      3\n",
       "3  ones yet      3\n",
       "4    s dion      2"
      ]
     },
     "execution_count": 43,
     "metadata": {},
     "output_type": "execute_result"
    }
   ],
   "source": [
    "df_bigrams.head()"
   ]
  }
 ],
 "metadata": {
  "kernelspec": {
   "display_name": "Python 3",
   "language": "python",
   "name": "python3"
  },
  "language_info": {
   "codemirror_mode": {
    "name": "ipython",
    "version": 3
   },
   "file_extension": ".py",
   "mimetype": "text/x-python",
   "name": "python",
   "nbconvert_exporter": "python",
   "pygments_lexer": "ipython3",
   "version": "3.7.6"
  }
 },
 "nbformat": 4,
 "nbformat_minor": 4
}
