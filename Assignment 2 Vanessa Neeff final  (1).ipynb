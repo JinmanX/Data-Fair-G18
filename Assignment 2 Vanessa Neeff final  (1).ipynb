{
 "cells": [
  {
   "cell_type": "markdown",
   "metadata": {},
   "source": [
    "# Assignment 2\n",
    "\n",
    "In this notebook, we will explore a tweet data set from our data host which was scraped using the Twitter API. The term #conflict was used to scrap the data. There aren't any detailed hypotheses yet, however we want to find out whether we can classify tweets by their content and see if we can find any specific patterns between hashtags, tweets, their meaning and sentiment."
   ]
  },
  {
   "cell_type": "markdown",
   "metadata": {},
   "source": [
    "First, we import and download the necessary packages in Python."
   ]
  },
  {
   "cell_type": "code",
   "execution_count": 289,
   "metadata": {},
   "outputs": [],
   "source": [
    "#Import the frequently used libraries\n",
    "#Import necessary modules to read, clean, analyse and visualise data\n",
    "\n",
    "import csv\n",
    "import matplotlib.pyplot as plt\n",
    "import seaborn as sns \n",
    "import pandas as pd\n",
    "import numpy as np\n",
    "from datetime import datetime\n",
    "from datetime import timedelta\n",
    "import re\n",
    "import string\n",
    "from textblob import TextBlob\n",
    "\n",
    "#This is used to visualise the WordCloud\n",
    "from PIL import Image\n",
    "from IPython.display import Image as im"
   ]
  },
  {
   "cell_type": "markdown",
   "metadata": {},
   "source": [
    "Install wordcloud to visualise WordCloud "
   ]
  },
  {
   "cell_type": "code",
   "execution_count": 290,
   "metadata": {},
   "outputs": [
    {
     "name": "stdout",
     "output_type": "stream",
     "text": [
      "Requirement already satisfied: wordcloud in /opt/conda/lib/python3.7/site-packages (1.8.0)\n",
      "Requirement already satisfied: matplotlib in /opt/conda/lib/python3.7/site-packages (from wordcloud) (3.2.2)\n",
      "Requirement already satisfied: numpy>=1.6.1 in /opt/conda/lib/python3.7/site-packages (from wordcloud) (1.19.1)\n",
      "Requirement already satisfied: pillow in /opt/conda/lib/python3.7/site-packages (from wordcloud) (7.2.0)\n",
      "Requirement already satisfied: pyparsing!=2.0.4,!=2.1.2,!=2.1.6,>=2.0.1 in /opt/conda/lib/python3.7/site-packages (from matplotlib->wordcloud) (2.4.7)\n",
      "Requirement already satisfied: python-dateutil>=2.1 in /opt/conda/lib/python3.7/site-packages (from matplotlib->wordcloud) (2.8.1)\n",
      "Requirement already satisfied: kiwisolver>=1.0.1 in /opt/conda/lib/python3.7/site-packages (from matplotlib->wordcloud) (1.2.0)\n",
      "Requirement already satisfied: cycler>=0.10 in /opt/conda/lib/python3.7/site-packages (from matplotlib->wordcloud) (0.10.0)\n",
      "Requirement already satisfied: six>=1.5 in /opt/conda/lib/python3.7/site-packages (from python-dateutil>=2.1->matplotlib->wordcloud) (1.14.0)\n",
      "Note: you may need to restart the kernel to use updated packages.\n"
     ]
    }
   ],
   "source": [
    "pip install wordcloud"
   ]
  },
  {
   "cell_type": "code",
   "execution_count": 291,
   "metadata": {},
   "outputs": [],
   "source": [
    "#Import wordcloud library\n",
    "\n",
    "from wordcloud import WordCloud"
   ]
  },
  {
   "cell_type": "code",
   "execution_count": 292,
   "metadata": {},
   "outputs": [
    {
     "name": "stderr",
     "output_type": "stream",
     "text": [
      "[nltk_data] Downloading package punkt to /home/jovyan/nltk_data...\n",
      "[nltk_data]   Package punkt is already up-to-date!\n",
      "[nltk_data] Downloading package stopwords to /home/jovyan/nltk_data...\n",
      "[nltk_data]   Package stopwords is already up-to-date!\n",
      "[nltk_data] Downloading package wordnet to /home/jovyan/nltk_data...\n",
      "[nltk_data]   Package wordnet is already up-to-date!\n",
      "[nltk_data] Downloading package averaged_perceptron_tagger to\n",
      "[nltk_data]     /home/jovyan/nltk_data...\n",
      "[nltk_data]   Package averaged_perceptron_tagger is already up-to-\n",
      "[nltk_data]       date!\n"
     ]
    }
   ],
   "source": [
    "#Import necessary packages for textual and sentiment analysis \n",
    "\n",
    "import nltk\n",
    "\n",
    "nltk.download('punkt')\n",
    "nltk.download(\"stopwords\")\n",
    "nltk.download('wordnet')\n",
    "nltk.download('averaged_perceptron_tagger')\n",
    "\n",
    "\n",
    "#These functions are used for preprocessing mainly\n",
    "from nltk.stem import WordNetLemmatizer\n",
    "from nltk.corpus import stopwords\n",
    "from nltk.tokenize import word_tokenize\n",
    "from nltk.corpus import wordnet\n"
   ]
  },
  {
   "cell_type": "markdown",
   "metadata": {},
   "source": [
    "Now, we want to take a look into our data. For that reason, we will use Pandas read_csv() function to put the data into a DataFrame."
   ]
  },
  {
   "cell_type": "code",
   "execution_count": 293,
   "metadata": {},
   "outputs": [],
   "source": [
    "data_con = pd.read_csv(\"conflict.csv\") #reading our tabular data into a Python dataframe"
   ]
  },
  {
   "cell_type": "markdown",
   "metadata": {},
   "source": [
    "Next, we want to take a look into our data shape and some simple statistical key values."
   ]
  },
  {
   "cell_type": "markdown",
   "metadata": {},
   "source": [
    "What is the type of our data?"
   ]
  },
  {
   "cell_type": "code",
   "execution_count": 294,
   "metadata": {},
   "outputs": [
    {
     "data": {
      "text/plain": [
       "pandas.core.frame.DataFrame"
      ]
     },
     "execution_count": 294,
     "metadata": {},
     "output_type": "execute_result"
    }
   ],
   "source": [
    "type(data_con)"
   ]
  },
  {
   "cell_type": "markdown",
   "metadata": {},
   "source": [
    "We want to get a sense of how the dataframe looks like. We will look up the first 5 rows to see how the data is structured and which columns are presented."
   ]
  },
  {
   "cell_type": "code",
   "execution_count": 295,
   "metadata": {},
   "outputs": [
    {
     "data": {
      "text/html": [
       "<div>\n",
       "<style scoped>\n",
       "    .dataframe tbody tr th:only-of-type {\n",
       "        vertical-align: middle;\n",
       "    }\n",
       "\n",
       "    .dataframe tbody tr th {\n",
       "        vertical-align: top;\n",
       "    }\n",
       "\n",
       "    .dataframe thead th {\n",
       "        text-align: right;\n",
       "    }\n",
       "</style>\n",
       "<table border=\"1\" class=\"dataframe\">\n",
       "  <thead>\n",
       "    <tr style=\"text-align: right;\">\n",
       "      <th></th>\n",
       "      <th>timestamp</th>\n",
       "      <th>tweet_text</th>\n",
       "      <th>username</th>\n",
       "      <th>all_hashtags</th>\n",
       "      <th>followers_count</th>\n",
       "    </tr>\n",
       "  </thead>\n",
       "  <tbody>\n",
       "    <tr>\n",
       "      <th>0</th>\n",
       "      <td>2020-10-18 10:53:02</td>\n",
       "      <td>b'\\xe2\\x80\\x98Reclaimed ruins\\xe2\\x80\\x99 : Az...</td>\n",
       "      <td>b'24matins_uk'</td>\n",
       "      <td>['World', 'Conflict']</td>\n",
       "      <td>2496</td>\n",
       "    </tr>\n",
       "    <tr>\n",
       "      <th>1</th>\n",
       "      <td>2020-10-18 10:31:30</td>\n",
       "      <td>b'Similarly in Luxembourg - 3\\xef\\xb8\\x8f\\xe2\\...</td>\n",
       "      <td>b'MichalKianicka'</td>\n",
       "      <td>['conflict']</td>\n",
       "      <td>111</td>\n",
       "    </tr>\n",
       "    <tr>\n",
       "      <th>2</th>\n",
       "      <td>2020-10-18 10:22:39</td>\n",
       "      <td>b'Azerbaijan going strong! The spirit on this ...</td>\n",
       "      <td>b'medinavie1'</td>\n",
       "      <td>['stoparmenianaggression', 'stopArmenianTerror...</td>\n",
       "      <td>35</td>\n",
       "    </tr>\n",
       "    <tr>\n",
       "      <th>3</th>\n",
       "      <td>2020-10-18 09:58:08</td>\n",
       "      <td>b'\\xe2\\x96\\xaa NAGORNO-KARABAKH CONFLICT  Arme...</td>\n",
       "      <td>b'arirangtvnews'</td>\n",
       "      <td>['Armenia', 'Azerbaijan', 'CONFLICT']</td>\n",
       "      <td>8662</td>\n",
       "    </tr>\n",
       "    <tr>\n",
       "      <th>4</th>\n",
       "      <td>2020-10-18 09:52:08</td>\n",
       "      <td>b\"Much of the #conflict over #Covid19 is reall...</td>\n",
       "      <td>b'carlgroves10'</td>\n",
       "      <td>['conflict', 'Covid19', 'crisis', 'news', 'MPs']</td>\n",
       "      <td>12</td>\n",
       "    </tr>\n",
       "  </tbody>\n",
       "</table>\n",
       "</div>"
      ],
      "text/plain": [
       "             timestamp                                         tweet_text  \\\n",
       "0  2020-10-18 10:53:02  b'\\xe2\\x80\\x98Reclaimed ruins\\xe2\\x80\\x99 : Az...   \n",
       "1  2020-10-18 10:31:30  b'Similarly in Luxembourg - 3\\xef\\xb8\\x8f\\xe2\\...   \n",
       "2  2020-10-18 10:22:39  b'Azerbaijan going strong! The spirit on this ...   \n",
       "3  2020-10-18 09:58:08  b'\\xe2\\x96\\xaa NAGORNO-KARABAKH CONFLICT  Arme...   \n",
       "4  2020-10-18 09:52:08  b\"Much of the #conflict over #Covid19 is reall...   \n",
       "\n",
       "            username                                       all_hashtags  \\\n",
       "0     b'24matins_uk'                              ['World', 'Conflict']   \n",
       "1  b'MichalKianicka'                                       ['conflict']   \n",
       "2      b'medinavie1'  ['stoparmenianaggression', 'stopArmenianTerror...   \n",
       "3   b'arirangtvnews'              ['Armenia', 'Azerbaijan', 'CONFLICT']   \n",
       "4    b'carlgroves10'   ['conflict', 'Covid19', 'crisis', 'news', 'MPs']   \n",
       "\n",
       "   followers_count  \n",
       "0             2496  \n",
       "1              111  \n",
       "2               35  \n",
       "3             8662  \n",
       "4               12  "
      ]
     },
     "execution_count": 295,
     "metadata": {},
     "output_type": "execute_result"
    }
   ],
   "source": [
    "data_con.head() #Returns the first few rows in a DataFrame"
   ]
  },
  {
   "cell_type": "code",
   "execution_count": 296,
   "metadata": {},
   "outputs": [
    {
     "data": {
      "text/html": [
       "<div>\n",
       "<style scoped>\n",
       "    .dataframe tbody tr th:only-of-type {\n",
       "        vertical-align: middle;\n",
       "    }\n",
       "\n",
       "    .dataframe tbody tr th {\n",
       "        vertical-align: top;\n",
       "    }\n",
       "\n",
       "    .dataframe thead th {\n",
       "        text-align: right;\n",
       "    }\n",
       "</style>\n",
       "<table border=\"1\" class=\"dataframe\">\n",
       "  <thead>\n",
       "    <tr style=\"text-align: right;\">\n",
       "      <th></th>\n",
       "      <th>timestamp</th>\n",
       "      <th>tweet_text</th>\n",
       "      <th>username</th>\n",
       "      <th>all_hashtags</th>\n",
       "      <th>followers_count</th>\n",
       "    </tr>\n",
       "  </thead>\n",
       "  <tbody>\n",
       "    <tr>\n",
       "      <th>95</th>\n",
       "      <td>2020-10-17 08:02:23</td>\n",
       "      <td>b'#Armenia attacked again on civilians. #Ganja...</td>\n",
       "      <td>b'ella111991'</td>\n",
       "      <td>['Armenia', 'Ganja', 'Mingachevir', 'missile',...</td>\n",
       "      <td>45</td>\n",
       "    </tr>\n",
       "    <tr>\n",
       "      <th>96</th>\n",
       "      <td>2020-10-17 07:43:14</td>\n",
       "      <td>b'#Azerbaijan: - armenians shell #Ganja which ...</td>\n",
       "      <td>b'Hajiyev7Mukhtar'</td>\n",
       "      <td>['Azerbaijan', 'Ganja', 'conflict', 'civilians...</td>\n",
       "      <td>101</td>\n",
       "    </tr>\n",
       "    <tr>\n",
       "      <th>97</th>\n",
       "      <td>2020-10-17 07:26:14</td>\n",
       "      <td>b'CFR - Campaign Foreign Policy Roundup: What ...</td>\n",
       "      <td>b'AFG_in_Media'</td>\n",
       "      <td>['Afghanistan', 'AFG', 'USA', 'foreginpolicy',...</td>\n",
       "      <td>839</td>\n",
       "    </tr>\n",
       "    <tr>\n",
       "      <th>98</th>\n",
       "      <td>2020-10-17 07:25:45</td>\n",
       "      <td>b'Misuse of #terrorism laws during #conflict c...</td>\n",
       "      <td>b'appcsocialmedia'</td>\n",
       "      <td>['terrorism', 'conflict', 'APPNews']</td>\n",
       "      <td>52781</td>\n",
       "    </tr>\n",
       "    <tr>\n",
       "      <th>99</th>\n",
       "      <td>2020-10-17 06:51:51</td>\n",
       "      <td>b'@France24_en @bagirova_z #Armenia #Terror #R...</td>\n",
       "      <td>b'vesile95201866'</td>\n",
       "      <td>['Armenia', 'Terror', 'Republic', 'conflict', ...</td>\n",
       "      <td>16</td>\n",
       "    </tr>\n",
       "  </tbody>\n",
       "</table>\n",
       "</div>"
      ],
      "text/plain": [
       "              timestamp                                         tweet_text  \\\n",
       "95  2020-10-17 08:02:23  b'#Armenia attacked again on civilians. #Ganja...   \n",
       "96  2020-10-17 07:43:14  b'#Azerbaijan: - armenians shell #Ganja which ...   \n",
       "97  2020-10-17 07:26:14  b'CFR - Campaign Foreign Policy Roundup: What ...   \n",
       "98  2020-10-17 07:25:45  b'Misuse of #terrorism laws during #conflict c...   \n",
       "99  2020-10-17 06:51:51  b'@France24_en @bagirova_z #Armenia #Terror #R...   \n",
       "\n",
       "              username                                       all_hashtags  \\\n",
       "95       b'ella111991'  ['Armenia', 'Ganja', 'Mingachevir', 'missile',...   \n",
       "96  b'Hajiyev7Mukhtar'  ['Azerbaijan', 'Ganja', 'conflict', 'civilians...   \n",
       "97     b'AFG_in_Media'  ['Afghanistan', 'AFG', 'USA', 'foreginpolicy',...   \n",
       "98  b'appcsocialmedia'               ['terrorism', 'conflict', 'APPNews']   \n",
       "99   b'vesile95201866'  ['Armenia', 'Terror', 'Republic', 'conflict', ...   \n",
       "\n",
       "    followers_count  \n",
       "95               45  \n",
       "96              101  \n",
       "97              839  \n",
       "98            52781  \n",
       "99               16  "
      ]
     },
     "execution_count": 296,
     "metadata": {},
     "output_type": "execute_result"
    }
   ],
   "source": [
    "data_con.tail() #Returns the last few rows"
   ]
  },
  {
   "cell_type": "markdown",
   "metadata": {},
   "source": [
    "#### There are a few things, that don't seem quite right in the DataFrame. \n",
    "\n",
    "1. tweet_text and username both start with either 'b or b\"\n",
    "2. There are some strings that are not words and they seem to start with \\x followed by other letters and numbers\n",
    "3. hashtags are in brackets, which is not wrong, but we will need to change that so that we can better analyse the words \n",
    "4. There are words that are completely written in capital letters\n",
    "\n",
    "Another thing to note: The rows seem to be sorted after 'timestamp' which refers to the date of the tweet.\n",
    "\n",
    "#### Before we go on with cleaning the data, we will take a look at some other features of the data set. "
   ]
  },
  {
   "cell_type": "markdown",
   "metadata": {},
   "source": [
    "What was the time span of all tweets collected?"
   ]
  },
  {
   "cell_type": "code",
   "execution_count": 297,
   "metadata": {},
   "outputs": [
    {
     "name": "stdout",
     "output_type": "stream",
     "text": [
      "Tweets were collected over the time of: 1 day, 4:01:11\n",
      "The first tweet was postet on: 2020-10-17 06:51:51 and the last tweet was posted on: 2020-10-18 10:53:02\n"
     ]
    }
   ],
   "source": [
    "last_tweet=data_con.iloc[0].timestamp\n",
    "first_tweet=data_con.iloc[-1].timestamp\n",
    "format_date=\"%Y-%m-%d %H:%M:%S\"\n",
    "time_span=datetime.strptime(last_tweet, format_date)-datetime.strptime(first_tweet, format_date)\n",
    "print(\"Tweets were collected over the time of:\", time_span)\n",
    "print('The first tweet was postet on:', first_tweet, 'and the last tweet was posted on:', last_tweet)"
   ]
  },
  {
   "cell_type": "markdown",
   "metadata": {},
   "source": [
    "Which columns do we have in our DataFrame?"
   ]
  },
  {
   "cell_type": "code",
   "execution_count": 298,
   "metadata": {},
   "outputs": [
    {
     "data": {
      "text/plain": [
       "Index(['timestamp', 'tweet_text', 'username', 'all_hashtags',\n",
       "       'followers_count'],\n",
       "      dtype='object')"
      ]
     },
     "execution_count": 298,
     "metadata": {},
     "output_type": "execute_result"
    }
   ],
   "source": [
    "data_con.columns #Returns the names of all columns"
   ]
  },
  {
   "cell_type": "markdown",
   "metadata": {},
   "source": [
    "What are the data types of our columns?"
   ]
  },
  {
   "cell_type": "code",
   "execution_count": 299,
   "metadata": {},
   "outputs": [
    {
     "data": {
      "text/plain": [
       "dtype('O')"
      ]
     },
     "execution_count": 299,
     "metadata": {},
     "output_type": "execute_result"
    }
   ],
   "source": [
    "#df[\"column_name\"].dtype returns the data type of one column. \n",
    "\n",
    "data_con['timestamp'].dtype \n",
    "\n",
    "#\"O\" stands for object, which is a string"
   ]
  },
  {
   "cell_type": "code",
   "execution_count": 300,
   "metadata": {},
   "outputs": [
    {
     "data": {
      "text/plain": [
       "dtype('int64')"
      ]
     },
     "execution_count": 300,
     "metadata": {},
     "output_type": "execute_result"
    }
   ],
   "source": [
    "data_con['followers_count'].dtype \n",
    "\n",
    "#\"int64\" stands for a value stored as a 64 bit integer"
   ]
  },
  {
   "cell_type": "code",
   "execution_count": 301,
   "metadata": {},
   "outputs": [
    {
     "data": {
      "text/plain": [
       "timestamp          object\n",
       "tweet_text         object\n",
       "username           object\n",
       "all_hashtags       object\n",
       "followers_count     int64\n",
       "dtype: object"
      ]
     },
     "execution_count": 301,
     "metadata": {},
     "output_type": "execute_result"
    }
   ],
   "source": [
    "data_con.dtypes #Returns the data type for each columns within a dataframe"
   ]
  },
  {
   "cell_type": "markdown",
   "metadata": {},
   "source": [
    "As we can see, most of our data is categorical, except for followers_count. For that reason, we will explore some objects in greater detail such as tweet_text and all_hashtags. \n",
    "\n",
    "#### But before we do that, some more descriptions about our data set are given here:"
   ]
  },
  {
   "cell_type": "markdown",
   "metadata": {},
   "source": [
    "What is the shape of our DataFrame?"
   ]
  },
  {
   "cell_type": "code",
   "execution_count": 302,
   "metadata": {},
   "outputs": [
    {
     "name": "stdout",
     "output_type": "stream",
     "text": [
      "(100, 5)\n",
      "This DataFrame consists of 100 rows and 5 columns\n"
     ]
    }
   ],
   "source": [
    "print(data_con.shape) #df.shape will return the number of rows and columns in my given dataframe\n",
    "print('This DataFrame consists of',data_con.shape[0], 'rows and', data_con.shape[1], 'columns' )"
   ]
  },
  {
   "cell_type": "markdown",
   "metadata": {},
   "source": [
    "What are some interesting key facts about our data set?"
   ]
  },
  {
   "cell_type": "code",
   "execution_count": 303,
   "metadata": {},
   "outputs": [
    {
     "data": {
      "text/html": [
       "<div>\n",
       "<style scoped>\n",
       "    .dataframe tbody tr th:only-of-type {\n",
       "        vertical-align: middle;\n",
       "    }\n",
       "\n",
       "    .dataframe tbody tr th {\n",
       "        vertical-align: top;\n",
       "    }\n",
       "\n",
       "    .dataframe thead th {\n",
       "        text-align: right;\n",
       "    }\n",
       "</style>\n",
       "<table border=\"1\" class=\"dataframe\">\n",
       "  <thead>\n",
       "    <tr style=\"text-align: right;\">\n",
       "      <th></th>\n",
       "      <th>timestamp</th>\n",
       "      <th>tweet_text</th>\n",
       "      <th>username</th>\n",
       "      <th>all_hashtags</th>\n",
       "      <th>followers_count</th>\n",
       "    </tr>\n",
       "  </thead>\n",
       "  <tbody>\n",
       "    <tr>\n",
       "      <th>count</th>\n",
       "      <td>100</td>\n",
       "      <td>100</td>\n",
       "      <td>100</td>\n",
       "      <td>100</td>\n",
       "      <td>100.00000</td>\n",
       "    </tr>\n",
       "    <tr>\n",
       "      <th>unique</th>\n",
       "      <td>100</td>\n",
       "      <td>100</td>\n",
       "      <td>78</td>\n",
       "      <td>89</td>\n",
       "      <td>NaN</td>\n",
       "    </tr>\n",
       "    <tr>\n",
       "      <th>top</th>\n",
       "      <td>2020-10-17 19:00:58</td>\n",
       "      <td>b'An honourable woman trips up &amp;amp; a dishono...</td>\n",
       "      <td>b'ksgrossman'</td>\n",
       "      <td>['Cosponsor', 'HR961', 'SafeAct', 'loyal', 'al...</td>\n",
       "      <td>NaN</td>\n",
       "    </tr>\n",
       "    <tr>\n",
       "      <th>freq</th>\n",
       "      <td>1</td>\n",
       "      <td>1</td>\n",
       "      <td>8</td>\n",
       "      <td>5</td>\n",
       "      <td>NaN</td>\n",
       "    </tr>\n",
       "    <tr>\n",
       "      <th>mean</th>\n",
       "      <td>NaN</td>\n",
       "      <td>NaN</td>\n",
       "      <td>NaN</td>\n",
       "      <td>NaN</td>\n",
       "      <td>5129.81000</td>\n",
       "    </tr>\n",
       "    <tr>\n",
       "      <th>std</th>\n",
       "      <td>NaN</td>\n",
       "      <td>NaN</td>\n",
       "      <td>NaN</td>\n",
       "      <td>NaN</td>\n",
       "      <td>16497.71912</td>\n",
       "    </tr>\n",
       "    <tr>\n",
       "      <th>min</th>\n",
       "      <td>NaN</td>\n",
       "      <td>NaN</td>\n",
       "      <td>NaN</td>\n",
       "      <td>NaN</td>\n",
       "      <td>0.00000</td>\n",
       "    </tr>\n",
       "    <tr>\n",
       "      <th>25%</th>\n",
       "      <td>NaN</td>\n",
       "      <td>NaN</td>\n",
       "      <td>NaN</td>\n",
       "      <td>NaN</td>\n",
       "      <td>187.75000</td>\n",
       "    </tr>\n",
       "    <tr>\n",
       "      <th>50%</th>\n",
       "      <td>NaN</td>\n",
       "      <td>NaN</td>\n",
       "      <td>NaN</td>\n",
       "      <td>NaN</td>\n",
       "      <td>848.00000</td>\n",
       "    </tr>\n",
       "    <tr>\n",
       "      <th>75%</th>\n",
       "      <td>NaN</td>\n",
       "      <td>NaN</td>\n",
       "      <td>NaN</td>\n",
       "      <td>NaN</td>\n",
       "      <td>2513.00000</td>\n",
       "    </tr>\n",
       "    <tr>\n",
       "      <th>max</th>\n",
       "      <td>NaN</td>\n",
       "      <td>NaN</td>\n",
       "      <td>NaN</td>\n",
       "      <td>NaN</td>\n",
       "      <td>139144.00000</td>\n",
       "    </tr>\n",
       "  </tbody>\n",
       "</table>\n",
       "</div>"
      ],
      "text/plain": [
       "                  timestamp  \\\n",
       "count                   100   \n",
       "unique                  100   \n",
       "top     2020-10-17 19:00:58   \n",
       "freq                      1   \n",
       "mean                    NaN   \n",
       "std                     NaN   \n",
       "min                     NaN   \n",
       "25%                     NaN   \n",
       "50%                     NaN   \n",
       "75%                     NaN   \n",
       "max                     NaN   \n",
       "\n",
       "                                               tweet_text       username  \\\n",
       "count                                                 100            100   \n",
       "unique                                                100             78   \n",
       "top     b'An honourable woman trips up &amp; a dishono...  b'ksgrossman'   \n",
       "freq                                                    1              8   \n",
       "mean                                                  NaN            NaN   \n",
       "std                                                   NaN            NaN   \n",
       "min                                                   NaN            NaN   \n",
       "25%                                                   NaN            NaN   \n",
       "50%                                                   NaN            NaN   \n",
       "75%                                                   NaN            NaN   \n",
       "max                                                   NaN            NaN   \n",
       "\n",
       "                                             all_hashtags  followers_count  \n",
       "count                                                 100        100.00000  \n",
       "unique                                                 89              NaN  \n",
       "top     ['Cosponsor', 'HR961', 'SafeAct', 'loyal', 'al...              NaN  \n",
       "freq                                                    5              NaN  \n",
       "mean                                                  NaN       5129.81000  \n",
       "std                                                   NaN      16497.71912  \n",
       "min                                                   NaN          0.00000  \n",
       "25%                                                   NaN        187.75000  \n",
       "50%                                                   NaN        848.00000  \n",
       "75%                                                   NaN       2513.00000  \n",
       "max                                                   NaN     139144.00000  "
      ]
     },
     "execution_count": 303,
     "metadata": {},
     "output_type": "execute_result"
    }
   ],
   "source": [
    "data_con.describe(include='all') #displays the most important statistics of the data set"
   ]
  },
  {
   "cell_type": "markdown",
   "metadata": {},
   "source": [
    "#### There are some interesting things that we can tell from data_con.describe. Just a few are summarised here:\n",
    "1. We have 100 unique tweets written by 78 users\n",
    "2. 89 unique hashtags were used\n",
    "3. The average followers_count is surprisingly high (5129,81) which could mean that there might be some verified users such as media outlets or politicians tweeting about conflict related content\n",
    "4. followers_count ranges from 0 to 139144"
   ]
  },
  {
   "cell_type": "markdown",
   "metadata": {},
   "source": [
    "What are the minimum and maximum values for followers_count?"
   ]
  },
  {
   "cell_type": "code",
   "execution_count": 304,
   "metadata": {},
   "outputs": [
    {
     "name": "stdout",
     "output_type": "stream",
     "text": [
      "Minimum followers: 0\n",
      "Maximum followers: 139144\n"
     ]
    }
   ],
   "source": [
    "print('Minimum followers:',data_con.followers_count.min())\n",
    "print('Maximum followers:',data_con.followers_count.max())"
   ]
  },
  {
   "cell_type": "markdown",
   "metadata": {},
   "source": [
    "What is the median value for followers_count?"
   ]
  },
  {
   "cell_type": "code",
   "execution_count": 305,
   "metadata": {},
   "outputs": [
    {
     "name": "stdout",
     "output_type": "stream",
     "text": [
      "50% of tweets come from users with higher or lower numbers of followers than 848.0\n"
     ]
    }
   ],
   "source": [
    "print('50% of tweets come from users with higher or lower numbers of followers than',data_con.followers_count.median())"
   ]
  },
  {
   "cell_type": "markdown",
   "metadata": {},
   "source": [
    "Data Cleaning and Pre-processing\n",
    "\n",
    "\n",
    "We want to take a deeper look into the context of the tweets and hashtags in this notebook. For further semantical and textual analysis, we have to clean our data. This is also calles pre-processing in Natural Language Processing. It includes steps like normalising, removing stopwords, punctuation, mentions and HTML links as well as word tokenisation and word lemmatising. \n",
    "\n",
    "Some cleaning steps have been implemented in retrospect because errors or unlikely results became visible only afterwards, e.g. while displaying most frequent words (replacement of &amp --> & for example)."
   ]
  },
  {
   "cell_type": "code",
   "execution_count": 306,
   "metadata": {},
   "outputs": [
    {
     "name": "stdout",
     "output_type": "stream",
     "text": [
      "world conflict\n",
      "2\n",
      "\n",
      "conflict\n",
      "1\n",
      "\n",
      "stoparmenianaggression stoparmenianterrorism karabakhisazerbaijan karabaghisazerbaijan prayforgandja prayforganja ganjacity nagornokarabagh conflict\n",
      "9\n",
      "\n",
      "armenia azerbaijan conflict\n",
      "3\n",
      "\n",
      "conflict covid19 crisis news mps\n",
      "5\n",
      "\n",
      "landmine yemen geopolitics conflict uxo middleeast\n",
      "6\n",
      "\n",
      "helpustohelpthem refugees syrianchildren syria syriawar war conflict endpoverty shelter feedthehungry humanrights\n",
      "11\n",
      "\n",
      "stepanakert armenia conflict\n",
      "3\n",
      "\n",
      "contemporary family infidelity temptation love conflict truth\n",
      "7\n",
      "\n",
      "climate conflict migration morality\n",
      "4\n",
      "\n",
      "india blockade indianoceanregion military conflict communist china ladakh\n",
      "8\n",
      "\n",
      "war conflict victims people funeral mother pain mourning grave armenia stopazerbaijan\n",
      "11\n",
      "\n",
      "conflict\n",
      "1\n",
      "\n",
      "afghanistan afg war conflict terrorism\n",
      "5\n",
      "\n",
      "climatechange lakechad poverty conflict lakechad actonlakechad\n",
      "6\n",
      "\n",
      "miscommunication conflict\n",
      "2\n",
      "\n",
      "afghanistan afg pakistan haqqani helmand war conflict terrorism\n",
      "8\n",
      "\n",
      "conflict nagornokarabakh turkey\n",
      "3\n",
      "\n",
      "conflict\n",
      "1\n",
      "\n",
      "indianoccupiedkashmir kashmiri kashmiriwomen conflict womenempowerment india\n",
      "6\n",
      "\n",
      "conflict einstein\n",
      "2\n",
      "\n",
      "conflict managingyourself\n",
      "2\n",
      "\n",
      "china middleeast westasia conflict mediation iran\n",
      "6\n",
      "\n",
      "capitalism conflict\n",
      "2\n",
      "\n",
      "conflict thailand women peace\n",
      "4\n",
      "\n",
      "war conflict\n",
      "2\n",
      "\n",
      "conflict\n",
      "1\n",
      "\n",
      "cosponsor hr961 safeact loyal ally conflict wartime therapy tragic betrayal majestic friendsnotfood\n",
      "12\n",
      "\n",
      "cosponsor hr961 safeact loyal ally conflict wartime therapy tragic betrayal majestic friendsnotfood\n",
      "12\n",
      "\n",
      "cosponsor hr961 safeact loyal ally conflict wartime therapy tragic betrayal majestic friendsnotfood\n",
      "12\n",
      "\n",
      "cosponsor hr961 safeact loyal ally conflict wartime therapy tragic betrayal majestic friendsnotfood\n",
      "12\n",
      "\n",
      "cosponsor hr961 safeact loyal ally conflict wartime therapy tragic betrayal majestic friendsnotfood\n",
      "12\n",
      "\n",
      "china usa conflict\n",
      "3\n",
      "\n",
      "conflict video\n",
      "2\n",
      "\n",
      "communication work conflict collaboration\n",
      "4\n",
      "\n",
      "dude thedude biglebowski honest honesty trust truth conflict humannature\n",
      "9\n",
      "\n",
      "plot characters conflict goals writingcommunity\n",
      "5\n",
      "\n",
      "stupidity humans politics history ynh war inevitable conflict traps\n",
      "9\n",
      "\n",
      "thelastofus2 tlou2 gameplay letsplay gaming emotional conflict twosides revenge cry\n",
      "10\n",
      "\n",
      "trump2020 factresistance whataboutism conflict selfrighteous dangerous timetogo timetogo\n",
      "8\n",
      "\n",
      "eurovison conflict artsakh nagornokarabagh\n",
      "4\n",
      "\n",
      "armenia osce azerbaijan karabakh conflict artsakh humanitarian\n",
      "7\n",
      "\n",
      "conflict\n",
      "1\n",
      "\n",
      "mediation mediator becomeamediator mediationskills conflictresolution conflictmanagment mediate mediatortraining mediationtrainingcourse conflict checklist\n",
      "11\n",
      "\n",
      "afghanistan conflict\n",
      "2\n",
      "\n",
      "canada technologies conflict\n",
      "3\n",
      "\n",
      "eurovisionagain conflict eurovision greece turkey cyprus\n",
      "6\n",
      "\n",
      "amwriting belief conflict humanity\n",
      "4\n",
      "\n",
      "frontline azerbaijan armenia conflict stopthewar\n",
      "5\n",
      "\n",
      "dignified conflict humility authenticrelating\n",
      "4\n",
      "\n",
      "cvi climatechange covid19 health migration conflict inequality mentalhealth\n",
      "8\n",
      "\n",
      "earthquake tornado hurricane tsunami natural disaster demolition armenian terror civilians weekend conflict prayforganja\n",
      "13\n",
      "\n",
      "mentalhealth covid19 climatechange conflict inequality mentalhealth geopsychiatry cvi\n",
      "8\n",
      "\n",
      "cvi climatechange covid19 mentalhealth health migration conflict inequality sdoh\n",
      "9\n",
      "\n",
      "advice conflict positivevibes positivevibe adviceoftheday lifeadvice goodadvice adviceforlife selflove selfdevelopment worth acceptance helpfultips solution acknowledge roberteblackmon\n",
      "16\n",
      "\n",
      "selfie selflove conflict motives practice emotional yoga\n",
      "7\n",
      "\n",
      "conflict peacechest\n",
      "2\n",
      "\n",
      "conformity unity rationally taken course otherwise blackmailing politicaltool enforced influence chaos conflict society history politics world\n",
      "16\n",
      "\n",
      "world conflict\n",
      "2\n",
      "\n",
      "employeeengagement employee conflict harmony workplace workplaceconflict teams teamwork coworkers productivity peers employees\n",
      "12\n",
      "\n",
      "relationship conflict\n",
      "2\n",
      "\n",
      "chinese war india ccp cpc conflict\n",
      "6\n",
      "\n",
      "disaster conflict gbv wpsat20\n",
      "4\n",
      "\n",
      "war conflict hungry poorna vulnerable economies nobelpeaceprize2020 wfp\n",
      "8\n",
      "\n",
      "womenslit love england countryboy citygirl abuse escape singlemother conflict\n",
      "9\n",
      "\n",
      "conflict kashmir kashmir india un\n",
      "5\n",
      "\n",
      "theroadchannel personalinfotainmentchannel ushistory americanhistory history military peace wwii ww2 worldwar army travel remember conflict usa\n",
      "15\n",
      "\n",
      "armenia azerbaijan conflict civilians war\n",
      "5\n",
      "\n",
      "geopolitcs armstrade weapons conflict middleeast yemen saudiarabia iran usa europe design war\n",
      "12\n",
      "\n",
      "conflict peacechest\n",
      "2\n",
      "\n",
      "civilians ganja nagornokarabakh conflict azerbaijan armenians\n",
      "6\n",
      "\n",
      "buildbackbetter kurdistan conflict rebuilding\n",
      "4\n",
      "\n",
      "azerbajian nagornokarabakh karabakh turkey russia conflict armenia\n",
      "7\n",
      "\n",
      "humanrights news international law nagornokarabakh conflict\n",
      "6\n",
      "\n",
      "history conflict unity2020\n",
      "3\n",
      "\n",
      "conflict conflictwithoutcasualties\n",
      "2\n",
      "\n",
      "stepanakert stopthewar azerbaijan armenia conflict\n",
      "5\n",
      "\n",
      "conflictresolutionday workplace conflict\n",
      "3\n",
      "\n",
      "southeastasia conflict\n",
      "2\n",
      "\n",
      "conflict resolution conflictresolution success business lawyers\n",
      "6\n",
      "\n",
      "eu protection enhancement culturalheritage conflict crisis peace\n",
      "7\n",
      "\n",
      "coronavirus sahel conflict violence health pandemic covid19 poverty humanitarian climatechange women children africa\n",
      "13\n",
      "\n",
      "managingpeople conflict\n",
      "2\n",
      "\n",
      "armenia ganja azerbaijan conflict civilians stoparmenianaggression dontbeblind stoparmenianterror\n",
      "8\n",
      "\n",
      "armenia civilian conflict stoparmenianterrorism\n",
      "4\n",
      "\n",
      "conflict peacechest\n",
      "2\n",
      "\n",
      "conflictresolutionday2020 mediation conflict vcms mediators resolution\n",
      "6\n",
      "\n",
      "libya worldfoodday conflict violence zerohunger foodsecurity aid africa\n",
      "8\n",
      "\n",
      "dramabasedlearning training workplacetraining coaching resolvingconflict conflict\n",
      "6\n",
      "\n",
      "libya conflict displacement health covid19 pandemic humanitarian transport aid africa\n",
      "10\n",
      "\n",
      "ganja armenia conflict armeniakillscivilians stoparmenianaggression karabakhisazerbaijan ganjacity\n",
      "7\n",
      "\n",
      "missile azerbaijani armenia internationalisation karabakh conflict\n",
      "6\n",
      "\n",
      "conflict peacechest\n",
      "2\n",
      "\n",
      "armenia missile azerbaijani civilians nagornokarabakh ballistic scud conflict ganjacity\n",
      "9\n",
      "\n",
      "lies housing emergency fault government trafficking violence conflict\n",
      "8\n",
      "\n",
      "armenia ganja mingachevir missile conflict civillians killed world stoparmenianterrorism\n",
      "9\n",
      "\n",
      "azerbaijan ganja conflict civilians karabakh armenia armenian\n",
      "7\n",
      "\n",
      "afghanistan afg usa foreginpolicy war conflict terrorism\n",
      "7\n",
      "\n",
      "terrorism conflict appnews\n",
      "3\n",
      "\n",
      "armenia terror republic conflict beylagan mingachevir ganja absheron azerbaijan nagornokarabakh conflict dontbelievearmenia\n",
      "12\n",
      "\n"
     ]
    }
   ],
   "source": [
    "#Pre-processing of hashtags\n",
    "\n",
    "def preprocess_hashtags(hashtags):\n",
    "    \"\"\"This function will clean the hashtags through removal of the brackets \n",
    "    and converting all letters to the lower case for better understanding. \n",
    "    Punctuations will be removed as well followed by tokenisation of each hashtag\"\"\"\n",
    "    hashtags=hashtags.replace('[','') #Replaces the brackets\n",
    "    hashtags=hashtags.replace(']','')\n",
    "    hashtags=hashtags.translate(str.maketrans('', '', string.punctuation)) #makestrans() translates each punctutation to none = ''\n",
    "    #The following tokenisation is not necessarily needed for the hashtags since no lemmatising/semantic analysis will be done. \n",
    "    hashtag_tokens=word_tokenize(hashtags.lower()) #word_tokenize returns a tokenised version with divided substrings and lower cases\n",
    "    return \" \".join(hashtag_tokens) #Joins all tokenised substrings\n",
    "\n",
    "#Get the number of hashtags for each tweet\n",
    "\n",
    "def hashtag_len(hashtags):\n",
    "    \"\"\"This function returns the number of hashtags used within a tweet\"\"\"\n",
    "    hashtag_tokens=word_tokenize(hashtags) #Tokenisation is necessary to create substrings which then can be countet\n",
    "    return len(hashtag_tokens)\n",
    "\n",
    "\n",
    "#Prints out hashtags for each tweet and the number of hashtags used\n",
    "\n",
    "for hashtags in data_con.all_hashtags:\n",
    "    output_length = hashtag_len(preprocess_hashtags(hashtags)) #passes the output of the first function into the argument of the second function\n",
    "    print(preprocess_hashtags(hashtags))\n",
    "    print(output_length)\n",
    "    print(\"\")"
   ]
  },
  {
   "cell_type": "markdown",
   "metadata": {},
   "source": [
    "Similar cleaning is done for the tweet text. However, more steps are needed:"
   ]
  },
  {
   "cell_type": "code",
   "execution_count": 307,
   "metadata": {},
   "outputs": [
    {
     "name": "stdout",
     "output_type": "stream",
     "text": [
      "ruin azerbaijan show karabakh conquest world conflict\n",
      "\n",
      "similarly luxembourg art 259 case almost 12 last decade era conflict 33\n",
      "\n",
      "azerbaijan going strong spirit independence day prominent ever stoparmenianaggression stoparmenianterrorism karabakhisazerbaijan karabaghisazerbaijan prayforgandja prayforganja ganjacity nagornokarabagh conflict\n",
      "\n",
      "nagornokarabakh conflict armenia accuses azerbaijan violating new truce within minute armenia azerbaijan conflict\n",
      "\n",
      "much conflict covid19 really pay cost crisis cowardly government unwillingness upset affluent news mp bbc news newspaper headline mp flouted 10pm curfew young job crisis\n",
      "\n",
      "anyone help identify landmine initial guess pmn4 variant black pressure plate khahi body found yemen even 2018 geopolitics conflict uxo middleeast\n",
      "\n",
      "ongoing war syria forced million syrian families flee home helpustohelpthem clicking link refugee syrianchildren syria syriawar war conflict endpoverty shelter feedthehungry humanrights\n",
      "\n",
      "emotional morning filming permission father buries son open coffin dead soldier laid itfinal resting place parent wept say final goodbye son stepanakert armenia conflict\n",
      "\n",
      "honourable woman trip dishonourable man right thing fly fall contemporary family infidelity temptation love conflict truth\n",
      "\n",
      "find little peculiar people really begin object priti patel go lawyer victim climate conflict migration morality\n",
      "\n",
      "india brahmos missile test in chennai key naval platform enforce blockade sea lane communication indianoceanregion current military conflict communist china ladakh escalates maritime domain\n",
      "\n",
      "call casualties cant feel pain funerals fellow soldier stepanakert october 17 2020 fight go armenia azerbaijan conflict war conflict victim people funeral mother pain mourning grave armenia stopazerbaijan\n",
      "\n",
      "second book help manage conflict better\n",
      "\n",
      "ap afghan say preventing next war vital ending one afghanistan afg war conflict terrorism\n",
      "\n",
      "climatechange lakechad region driver poverty conflict due lost livelihood fight natural resource lakechad crisis represents one example world witness given decade inaction climate change actonlakechad\n",
      "\n",
      "miscommunication lead conflict\n",
      "\n",
      "toi chanakya code pakistan shift terrorist camp afghanistan part granddesign afghanistan afg pakistan haqqani helmand war conflict terrorism\n",
      "\n",
      "conflict nagornokarabakh artsakh sponsored planned turkey\n",
      "\n",
      "resolve conflict breaking piece\n",
      "\n",
      "kashmiri woman share experience perspective living working occupation give listen indianoccupiedkashmir kashmiri kashmiriwomen conflict womenempowerment india\n",
      "\n",
      "significant problem face solved level thinking created conflict einstein\n",
      "\n",
      "navigating office politics office conflict managingyourself\n",
      "\n",
      "write chinas mediation approach middle east west asia take context recent proposal multilateral dialogue forum china middleeast westasia conflict mediation iran\n",
      "\n",
      "capitalism inherent contradiction give rise actual political conflict show idea us politics monolithic bc also racialized grasp run danger accepting false premise make racists\n",
      "\n",
      "tired conflict thailanddeep south woman front line peace\n",
      "\n",
      "seeking rewrite history may doomed repeat war conflict\n",
      "\n",
      "like ucf back mere mortal welcome back earth orlando canwait next november conflict\n",
      "\n",
      "please cosponsor hr961 safeact horse loyal ally man beginning time conflict wartime part police force used therapy never meant food tragic betrayal majestic animal friendsnotfood\n",
      "\n",
      "please cosponsor hr961 safeact horse loyal ally man beginning time conflict wartime part police force used therapy never meant food tragic betrayal majestic animal friendsnotfood\n",
      "\n",
      "please cosponsor hr961 safeact horse loyal ally man beginning time conflict wartime part police force used therapy never meant food tragic betrayal majestic animal friendsnotfood\n",
      "\n",
      "please cosponsor hr961 safeact horse loyal ally man beginning time conflict wartime part police force used therapy never meant food tragic betrayal majestic animal friendsnotfood\n",
      "\n",
      "please cosponsor hr961 safeact horse loyal ally man beginning time conflict wartime part police force used therapy never meant food tragic betrayal majestic animal friendsnotfood\n",
      "\n",
      "like hate thing boom event written paid china usa conflict wont say w r\n",
      "\n",
      "resolve conflict workplace ninja style video\n",
      "\n",
      "many strong opinion much crosstalk days whats best way challenge someone el thinking helpful advice via communication work conflict collaboration\n",
      "\n",
      "25 year mediator helping people conflict ive learned lesson honest dishonest people really read gtgt dude thedude biglebowski honest honesty trust truth conflict humannature\n",
      "\n",
      "plot doesnmatter itabout character conflict goal center thickenswritingcommunity\n",
      "\n",
      "stupidity human politics history ynh country assume war inevitable beef army embark spiralling arm race refuse compromise conflict suspect goodwill gesture trap guarantee eruption war\n",
      "\n",
      "emotion running high wow wow thelastofus2 tlou2 gameplay letsplay game emotional conflict twosides revenge cry\n",
      "\n",
      "trump2020 factresistance whataboutism instead looking collaboration look opposites conflict selfrighteous dangerous timetogo timetogo\n",
      "\n",
      "speaking eurovison conflict 2016 armenian representative iveta mukuchyan wave artsakh republic flag final nagornokarabagh\n",
      "\n",
      "armenia welcome effort osce minsk group cochair country republic armenia towards ceasefire deescalation tension azerbaijankarabakh conflict zoneartsakh confirms readiness observe humanitarian truce reciprocal basis\n",
      "\n",
      "big negotiation coming help explore strategy conflict\n",
      "\n",
      "interested mediation field everything need gtgt mediation mediator becomeamediator mediationskills conflictresolution conflictmanagment mediate mediatortraining mediationtrainingcourse conflict checklist\n",
      "\n",
      "thinking afghanistan conflict\n",
      "\n",
      "new report show urgent need canada western ally accelerate deployment emerging technology adapt conventional capabilities mitigate growing threat zoneconflict read\n",
      "\n",
      "excellent intro tonight eurovisionagain broadcast 1976 contest conflict eurovision met greece send song 1974 turkey invasion cyprus\n",
      "\n",
      "intuitive shooting amwriting belief conflict humanity\n",
      "\n",
      "younot following already former reporting yet frontline showing msm azerbaijan armenia conflict stopthewar\n",
      "\n",
      "remain dignified conflict mean inner compass voice suppressed embody humility conflict acknowledge view situation partial authenticrelating\n",
      "\n",
      "cape vulnerability index cvi offers different perspective fund todaymost stubborn urgent global development challenge climatechange covid19 health migration conflict inequalitymentalhealth\n",
      "\n",
      "itnot result earthquake even tornado hurricane tsunami natural disaster even demolition building result armenian terror civilian middle night weekend conflict zone prayforganja\n",
      "\n",
      "excellent analysis mentalhealth conversation covid19 climatechange conflict inequality time hard choice rethinking mentalhealth priority geopsychiatry cvi\n",
      "\n",
      "time hard choice cape vulnerability index cvi offers different perspective fund todaymost stubborn urgent global development challenge climatechange covid19 mentalhealth health migration conflict inequality2 paper sdoh\n",
      "\n",
      "today positive vibe make sure say thank advice conflict positivevibes positivevibe adviceoftheday lifeadvice goodadvice adviceforlife selflove selfdevelopment worth acceptance helpfultips solution acknowledge roberteblackmon\n",
      "\n",
      "selfdiscovery spending regular quiet time asana pranayama practice let learn motif discover ways resolve issue mind becomes free conflict selfie selflove conflict motif practice emotional yoga\n",
      "\n",
      "respond statement thoughtfully way leave person impressed conflict peacechest\n",
      "\n",
      "conformity unity often rationally needs let take course otherwise mere old blackmailing politicaltool enforced influence create chaos conflict society history politics world\n",
      "\n",
      "azerbaijani drone strike pick karabakh artillery world conflict\n",
      "\n",
      "check anne loehr posted get grip employee conflict via employeeengagement employee conflict harmony workplace workplaceconflict team teamwork coworkers productivity peer employee\n",
      "\n",
      "coparents work partner crucible pandemic relationship conflict\n",
      "\n",
      "here hu zhiyongs warning chinese multifront war india gt cited indian medium earlier june year ccp cpc conflict\n",
      "\n",
      "disaster conflict literature woman often categorize monolithic vulnerable group need protectionfrom gbvif influence respond issue disaster conflict wpsat20\n",
      "\n",
      "money spent war conflict whatever reason channeled feeding hungry poorna vulnerable imagine peace would look like economy transform hungry work efficiently think nobelpeaceprize2020 wfp\n",
      "\n",
      "loved last romance meat bone set teeth divided love commitment gorgeous rural setting womenslit love england countryboy citygirl abuse escape singlemother conflict\n",
      "\n",
      "protracted conflict cast economic social political implications people kashmir region also posed grave psychological impacts kashmir india un\n",
      "\n",
      "event lead french entering war side american download app theroadchannel personalinfotainmentchannel ushistory americanhistory history military peace wwii ww2 worldwar army travel remember conflict usa\n",
      "\n",
      "armenia azerbaijan engaged worst conflict since 1994 civilian area target become fullblown war\n",
      "\n",
      "weaponsreputation investigation geopolitics arm trade full content online thread geopolitcs armstrade weapon conflict middleeast yemen saudiarabia iran usa europe design war\n",
      "\n",
      "choice filling tank love hate conflict peacechest\n",
      "\n",
      "civilian killed ganja nagornokarabakh conflict escalates azerbaijan armenian\n",
      "\n",
      "buildbackbetter look like kurdistan could model state coming conflict rebuilding new future\n",
      "\n",
      "insightful read syrian mercenary fighting azerbajian libya nearly decadelong civil war created entire generation young men whose marketable skill fighting nagornokarabakh karabakh turkey russia conflict armenia\n",
      "\n",
      "rodney dixon humanrights news importance international law nagornokarabakh conflict must share article\n",
      "\n",
      "monument conversation abound thatwhy today 10am publicaffairsub georgetownstudents spend morning role play monument removal issue sc need inclusive process history conflict unity2020\n",
      "\n",
      "manager avoids conflict keep peace book conflictwithoutcasualties\n",
      "\n",
      "majority civilian left stepanakert living shelter basements family living 20days stopthewar azerbaijan armenia conflict\n",
      "\n",
      "today conflictresolutionday itnot uncommon conflict arise workplace course equip knowledge tool turn conflict situation positive outcomes click book place\n",
      "\n",
      "however southeastasia emerged epicenter uschina rivalry likely site superpower conflict\n",
      "\n",
      "lawyer necessarily mean youin conflict management businessthis blog offers incredible wisdom regarding embracing conflict lawyer conflict resolution conflictresolution success business lawyer\n",
      "\n",
      "121311 online conference role eu protection enhancement culturalheritage conflict crisis exploring dynamic relationship cultural heritage peace 21st century\n",
      "\n",
      "coronavirus violence covid19 contribute rising humanitarian needs sahel sahel conflict violence health pandemic covid19 poverty humanitarian climatechange woman children africa\n",
      "\n",
      "common workplace conflict deal managingpeople conflict emily matter satisfy happy life itsafe assume point conflict find way\n",
      "\n",
      "today 0100 armenia attacked ganja second largest city azerbaijanthis city 6070 km far conflict zone half million population12 civilian killed 3 small kid 40 wounded stoparmenianaggression dontbeblind stoparmenianterror\n",
      "\n",
      "kind thinking make armenian leadership direct attack civilian population far conflict zone midnight knowing military target 1 terrorist thinking 2 mental disorder 3 desperation 4 0 respect intl law 5 stoparmenianterrorism\n",
      "\n",
      "shark noun person initiates escalates conflict peacechest\n",
      "\n",
      "today conflictresolutionday2020 top tip aim clear communication understanding empathy start process reconciliation move towards beneficial outcome party mediation conflict vcms mediator resolution\n",
      "\n",
      "food agriculture organization united nations fao world food programme wfp mark world food day libya worldfoodday conflict violence zerohunger foodsecurity aid africa\n",
      "\n",
      "conflict occur within organisation time time may deal colleague employee customer client upset dramabasedlearning training workplacetraining coaching resolvingconflict conflict\n",
      "\n",
      "unhcrlifesaving flights libya resume sevenmonth suspension conflict displacement health covid19 pandemic humanitarian transport aid africa\n",
      "\n",
      "ganja city hit scud missile launched armenia attempt disperse horror among peaceful population nothing conflict zone appalling stop armeniakillscivilians stoparmenianaggression karabakhisazerbaijan ganjacity\n",
      "\n",
      "missile attack azerbaijani civilian settlement armenia trying cover failure military operations along frontline well achieve internationalisation karabakh conflict pulling russia turkey war\n",
      "\n",
      "im listening conflict peacechest\n",
      "\n",
      "armenia conduct next missile attack killing dozen azerbaijani civilian nagornokarabakh ballistic scud conflict ganjacity\n",
      "\n",
      "call lie housing emergency fault government people fled trafficking violence conflict\n",
      "\n",
      "armenia attacked civilian ganja mingachevir city come missile attack beyond conflict zone 10 civillians killed 40 wounded world must remain silent signshare confirm email stoparmenianterrorism\n",
      "\n",
      "azerbaijan armenian shell ganja far conflict area kill civilian world shell church karabakh armenia peacemaker world karabakh internationally recognised azerbaijani territory armenian army occupied karabakh\n",
      "\n",
      "cfr campaign foreign policy roundup afghanistan afghanistan afg usa foreginpolicy war conflict terrorism\n",
      "\n",
      "misuse terrorism law conflict creates calamity un expert appnews\n",
      "\n",
      "armenia terror republic forgot conflict area already started bombing peaceful population beylagan mingachevir ganja absheron city azerbaijanthese city 60 300 400 km away frontline nagornokarabakh conflict zone dontbelievearmenia\n",
      "\n"
     ]
    }
   ],
   "source": [
    "#Pre-processing of tweets\n",
    "\n",
    "\"\"\"Stop words such as 'the', 'and', 'a' etc. should be excluded from our tweets.\n",
    "This is due to several reasons: Stop words are very frequent and would interfere with our semantic and textual analysis \n",
    "as well as word classification. \"\"\"\n",
    "\n",
    "stop_words = set(stopwords.words('english')) #This function defines a set of stop words within the English language\n",
    "\n",
    "\n",
    "\n",
    "\n",
    "\"\"\"The next cleaning step of tweet data includes regular expression operations, word_tokenize, \n",
    "WordNetLemmatizer and nltk.pos_tag from the nltk library\"\"\"\n",
    "\n",
    "def preprocess_tweets(tweet):\n",
    "    \"\"\"This function will clean the tweets through several steps for better understanding and further analysis. \n",
    "    Steps include lowering cases, replacing punctuations, removal of b's, removal of special strings,\n",
    "    removal of URLS, removal of hashtags and tags, removal of stopwords and tokenisation and lemmatisation of tweet words\"\"\"\n",
    "    #Converts all uppercase characters into lowercase characters\n",
    "    tweet=tweet.lower() \n",
    "    #Replaces &amp; with &\n",
    "    tweet=tweet.replace('&amp;','&')\n",
    "    #Removes the 'b'' or 'b\"'  string at the beginning of each tweet\n",
    "    tweet = re.sub(r\"(b')|(b\\\")\",\"\",tweet, flags=re.MULTILINE)\n",
    "    #Removes characters with random string and integer combinations, such as \"\\xe2x80x9c\"\n",
    "    tweet = re.sub(r'[0-9]*\\\\x+([a-z]|[0-9]|[\\\\])*[^A-Z]', \"\", tweet)\n",
    "    #Removes URLs via regular expression operations. Any pattern that starts with http (or https... ) followed by one or more non-white-space characters will be removed\n",
    "    tweet = re.sub(r\"http\\S+|www\\S+|https\\S+\", '', tweet, flags=re.MULTILINE)\n",
    "    #Removes tags with '@' and hashtag character '#'\n",
    "    tweet = re.sub(r'\\@\\w+|\\#','', tweet)\n",
    "    # Removes any punctuations\n",
    "    tweet = tweet.translate(str.maketrans('', '', string.punctuation))\n",
    "    # Removes stopwords and tokenises tweet string to substrings\n",
    "    tweet_tokens = word_tokenize(tweet)\n",
    "    filtered_words = [w for w in tweet_tokens if not w in stop_words]\n",
    "    \n",
    "    #Defines lemmatizer using WordNetLemmatizer from nltk.stem\n",
    "    lm = WordNetLemmatizer()\n",
    "    #Lemmatises each pre-filtered tweet token with the correct POS (part of speech) tag \n",
    "    lemmatized_words = [lm.lemmatize(w, get_pos(w)) for w in filtered_words]\n",
    "\n",
    "    return \" \".join(lemmatized_words) #joins all tokenised and cleaned strings\n",
    "\n",
    "\n",
    "\n",
    "\"\"\"nltk.pos_tag returns the POS tag for a given word (verb, noun etc.).\n",
    "Get the correct nltk.pos_tag for each word with get_pos:\"\"\"\n",
    "\n",
    "def get_pos(word):\n",
    "        \"\"\"Maps the POS tag to a character to pass it on via a dictionnary\"\"\"\n",
    "        tag = nltk.pos_tag(word)[0][1][0].lower() #Returns the first string of the POS tag for the word (e.g. n,j,v)\n",
    "        \"\"\"WordNet is our lexical database which includes nouns, verbs, adjectives and adverbs. \n",
    "        Other words such as prepositions are ignored\"\"\"\n",
    "        tagging_dict = {\"j\": wordnet.ADJ, #Creates dictionnary with POS tags which is needed for lemmatize()\n",
    "                \"n\": wordnet.NOUN,\n",
    "                \"r\": wordnet.ADV,\n",
    "                \"v\": wordnet.VERB}\n",
    "        return tagging_dict.get(tag, wordnet.NOUN) #value=wordnet.Noun if no other value is found for the tag\n",
    "\n",
    "    \n",
    "    \n",
    "    \n",
    "\"\"\"Next, we want to get the number of strings within each cleaned tweet\"\"\"  \n",
    "\n",
    "def clean_tweet_len(tweet):\n",
    "    \"\"\"Returns the number of strings in a tweet\"\"\"\n",
    "    tweet_tokens=word_tokenize(tweet)\n",
    "    return len(tweet_tokens)\n",
    "\n",
    "\n",
    "\n",
    "# Finally, we want to print our results to take a look:\n",
    "\n",
    "for tweets in data_con.tweet_text:\n",
    "    print(preprocess_tweets(tweets))\n",
    "    print(\"\")"
   ]
  },
  {
   "cell_type": "markdown",
   "metadata": {},
   "source": [
    "After all the cleaning steps, we want to create a DataFrame with all columns that we find useful for our further analysis."
   ]
  },
  {
   "cell_type": "code",
   "execution_count": 308,
   "metadata": {},
   "outputs": [],
   "source": [
    "clean_tweets = data_con.loc[:,(\"username\",\"followers_count\")] #Creates DataFrame with original columns username and followers_count\n",
    "\n",
    "\n",
    "clean_tweets['Clean_tweet'] = data_con['tweet_text'].apply(preprocess_tweets)#Adds a new column with cleaned tweets\n",
    "clean_tweets['Clean_hashtags'] = data_con['all_hashtags'].apply(preprocess_hashtags) #Adds a new column with cleaned hashtags\n",
    "clean_tweets['Hashtag_count'] = clean_tweets['Clean_hashtags'].apply(hashtag_len) #Adds a new column with number of hashtags for each tweet\n",
    "clean_tweets['Word_count']= clean_tweets['Clean_tweet'].apply(clean_tweet_len) #Adds a new column with number of strings within each tweet"
   ]
  },
  {
   "cell_type": "markdown",
   "metadata": {},
   "source": [
    "ASSERTS"
   ]
  },
  {
   "cell_type": "markdown",
   "metadata": {},
   "source": [
    "After cleaning our data, we want to make sure that our data set only comprises of values that are desired. For that reason, we will use asserts to make sure that we can properly continue analysing our data."
   ]
  },
  {
   "cell_type": "code",
   "execution_count": 309,
   "metadata": {},
   "outputs": [],
   "source": [
    "\"\"\"This assert makes sure that all hashtags are in lower case or numerical values\"\"\"\n",
    "\n",
    "for hashtag in clean_tweets.Clean_hashtags: #each hashtag is one str object \n",
    "    for letter in hashtag:\n",
    "        \"\"\"letters in the string might be lower case, numeric (e.g. in covid19) \n",
    "        or white space characters, since '' seperates the joint hashtag terms\"\"\"\n",
    "        assert (letter.islower() | letter.isnumeric() | letter.isspace()) "
   ]
  },
  {
   "cell_type": "code",
   "execution_count": 310,
   "metadata": {},
   "outputs": [],
   "source": [
    "\"\"\"This assert makes sure that all words in tweets are in lower case or numeric values\"\"\"\n",
    "\n",
    "for tweet in clean_tweets.Clean_tweet:\n",
    "    for letter in tweet:\n",
    "        \"\"\"letters in the string might be lower case, numeric (e.g. in covid19) \n",
    "        or white space characters, since '' seperates the joint hashtag terms\"\"\"\n",
    "        assert (letter.islower() | letter.isnumeric() | letter.isspace()) "
   ]
  },
  {
   "cell_type": "code",
   "execution_count": 311,
   "metadata": {},
   "outputs": [],
   "source": [
    "#The above asserts already make sure that hashtags and tweets only comprise of alphabetical or numerical values.\n",
    "#Nevertheless, we will add some more asserts, just in case.\n",
    "\n",
    "\n",
    "\"\"\"This assert makes sure that words and hashtags do not contain any punctuation\"\"\"\n",
    "\n",
    "#We make use of re.findall() that matches a certain pattern against a string and returns all matched patterns as a list\n",
    "\n",
    "punc_list=[]\n",
    "for hashtag in clean_tweets.Clean_hashtags:\n",
    "    for letter in hashtag:\n",
    "        pattern = r'[[].?\\-\",&@#]' #pattern includes any possible punctuations, hashtags and tags\n",
    "        punctuation = re.findall(pattern,letter) #returns a list with objects that match the patterm\n",
    "        punc_list.extend(punctuation) #punc_list is extended by the punctuation list\n",
    "\n",
    "for tweet in clean_tweets.Clean_tweet:\n",
    "    for letters in tweet:\n",
    "        pattern_tweet = r'[[].?\\-\",&@#]'\n",
    "        punctuation = re.findall(pattern_tweet,letters)\n",
    "        punc_list.extend(punctuation)\n",
    "        \n",
    "\"\"\"By iterating through all possible punctuations separately, \n",
    "we can see directly which punctuation caused the assert to fail\"\"\"\n",
    "        \n",
    "if '.' in punc_list:\n",
    "    assert False #use boolean for assert to fail \n",
    "if ',' in punc_list:\n",
    "    assert False\n",
    "if '[' in punc_list:\n",
    "    assert False\n",
    "if ']' in punc_list:\n",
    "    assert False   \n",
    "if '-' in punc_list:\n",
    "    assert False  \n",
    "if '?' in punc_list:\n",
    "    assert False  \n",
    "if '-' in punc_list:\n",
    "    assert False  \n",
    "if '\"' in punc_list:\n",
    "    assert False  \n",
    "if '\\\\' in punc_list:\n",
    "    assert False  \n",
    "if '&' in punc_list:\n",
    "    assert False \n",
    "if '@' in punc_list:\n",
    "    assert False \n",
    "if '#' in punc_list:\n",
    "    assert False"
   ]
  },
  {
   "cell_type": "code",
   "execution_count": 312,
   "metadata": {},
   "outputs": [],
   "source": [
    "\"\"\"This assert makes sure that tweets do not start with b' or b\" anymore. \n",
    "However, we have checked for punctuation removal already\"\"\"\n",
    "\n",
    "for tweet in clean_tweets.Clean_tweet:\n",
    "    if tweet[0]=='b': #if tweet starts with b check for second character\n",
    "        if (tweet[1]==\"'\") or (tweet[1]=='\"'):\n",
    "            assert False"
   ]
  },
  {
   "cell_type": "code",
   "execution_count": 313,
   "metadata": {},
   "outputs": [],
   "source": [
    "\"\"\"This assert makes sure that there aren't any strings that start with \\\\x as seen in the original twitter data set\"\"\"\n",
    "\n",
    "x_list=[]\n",
    "for tweet in clean_tweets.Clean_tweet: \n",
    "    xpattern = r'\\\\x+' #pattern includes \\x\n",
    "    x_letter = re.findall(xpattern,tweet) #returns a list with objects that match the patterm\n",
    "    x_list.extend(x_letter)\n",
    "\n",
    "#Check whether x_list comprises any patterns found\n",
    "if '\\\\x' in x_list:\n",
    "    assert False"
   ]
  },
  {
   "cell_type": "code",
   "execution_count": 314,
   "metadata": {},
   "outputs": [],
   "source": [
    "\"\"\"This assert makes sure that there aren't any URLS in the data set\"\"\"\n",
    "ht_list=[]\n",
    "for tweet in clean_tweets.Clean_tweet:\n",
    "    ht_pattern = r'(htt|www)' #pattern includes htt or www\n",
    "    ht_string = re.findall(ht_pattern,tweet) #returns a list with objects that match the patterm\n",
    "    ht_list.extend(ht_string)\n",
    "    \n",
    "\n",
    "#Check whether ht_list comprises any patterns found\n",
    "if 'htt' in ht_list: \n",
    "    assert False\n",
    "if 'www' in ht_list:\n",
    "    assert False"
   ]
  },
  {
   "cell_type": "markdown",
   "metadata": {},
   "source": [
    "Now that we have a clean data set, we have to take a look at some key statistics to see whether there are any specifics:"
   ]
  },
  {
   "cell_type": "code",
   "execution_count": 315,
   "metadata": {},
   "outputs": [
    {
     "data": {
      "text/html": [
       "<div>\n",
       "<style scoped>\n",
       "    .dataframe tbody tr th:only-of-type {\n",
       "        vertical-align: middle;\n",
       "    }\n",
       "\n",
       "    .dataframe tbody tr th {\n",
       "        vertical-align: top;\n",
       "    }\n",
       "\n",
       "    .dataframe thead th {\n",
       "        text-align: right;\n",
       "    }\n",
       "</style>\n",
       "<table border=\"1\" class=\"dataframe\">\n",
       "  <thead>\n",
       "    <tr style=\"text-align: right;\">\n",
       "      <th></th>\n",
       "      <th>username</th>\n",
       "      <th>followers_count</th>\n",
       "      <th>Clean_tweet</th>\n",
       "      <th>Clean_hashtags</th>\n",
       "      <th>Hashtag_count</th>\n",
       "      <th>Word_count</th>\n",
       "    </tr>\n",
       "  </thead>\n",
       "  <tbody>\n",
       "    <tr>\n",
       "      <th>count</th>\n",
       "      <td>100</td>\n",
       "      <td>100.00000</td>\n",
       "      <td>100</td>\n",
       "      <td>100</td>\n",
       "      <td>100.00000</td>\n",
       "      <td>100.000000</td>\n",
       "    </tr>\n",
       "    <tr>\n",
       "      <th>unique</th>\n",
       "      <td>78</td>\n",
       "      <td>NaN</td>\n",
       "      <td>96</td>\n",
       "      <td>88</td>\n",
       "      <td>NaN</td>\n",
       "      <td>NaN</td>\n",
       "    </tr>\n",
       "    <tr>\n",
       "      <th>top</th>\n",
       "      <td>b'ksgrossman'</td>\n",
       "      <td>NaN</td>\n",
       "      <td>please cosponsor hr961 safeact horse loyal all...</td>\n",
       "      <td>cosponsor hr961 safeact loyal ally conflict wa...</td>\n",
       "      <td>NaN</td>\n",
       "      <td>NaN</td>\n",
       "    </tr>\n",
       "    <tr>\n",
       "      <th>freq</th>\n",
       "      <td>8</td>\n",
       "      <td>NaN</td>\n",
       "      <td>5</td>\n",
       "      <td>5</td>\n",
       "      <td>NaN</td>\n",
       "      <td>NaN</td>\n",
       "    </tr>\n",
       "    <tr>\n",
       "      <th>mean</th>\n",
       "      <td>NaN</td>\n",
       "      <td>5129.81000</td>\n",
       "      <td>NaN</td>\n",
       "      <td>NaN</td>\n",
       "      <td>6.19000</td>\n",
       "      <td>16.810000</td>\n",
       "    </tr>\n",
       "    <tr>\n",
       "      <th>std</th>\n",
       "      <td>NaN</td>\n",
       "      <td>16497.71912</td>\n",
       "      <td>NaN</td>\n",
       "      <td>NaN</td>\n",
       "      <td>3.74623</td>\n",
       "      <td>7.119038</td>\n",
       "    </tr>\n",
       "    <tr>\n",
       "      <th>min</th>\n",
       "      <td>NaN</td>\n",
       "      <td>0.00000</td>\n",
       "      <td>NaN</td>\n",
       "      <td>NaN</td>\n",
       "      <td>1.00000</td>\n",
       "      <td>3.000000</td>\n",
       "    </tr>\n",
       "    <tr>\n",
       "      <th>25%</th>\n",
       "      <td>NaN</td>\n",
       "      <td>187.75000</td>\n",
       "      <td>NaN</td>\n",
       "      <td>NaN</td>\n",
       "      <td>3.00000</td>\n",
       "      <td>11.750000</td>\n",
       "    </tr>\n",
       "    <tr>\n",
       "      <th>50%</th>\n",
       "      <td>NaN</td>\n",
       "      <td>848.00000</td>\n",
       "      <td>NaN</td>\n",
       "      <td>NaN</td>\n",
       "      <td>6.00000</td>\n",
       "      <td>17.500000</td>\n",
       "    </tr>\n",
       "    <tr>\n",
       "      <th>75%</th>\n",
       "      <td>NaN</td>\n",
       "      <td>2513.00000</td>\n",
       "      <td>NaN</td>\n",
       "      <td>NaN</td>\n",
       "      <td>8.25000</td>\n",
       "      <td>22.250000</td>\n",
       "    </tr>\n",
       "    <tr>\n",
       "      <th>max</th>\n",
       "      <td>NaN</td>\n",
       "      <td>139144.00000</td>\n",
       "      <td>NaN</td>\n",
       "      <td>NaN</td>\n",
       "      <td>16.00000</td>\n",
       "      <td>31.000000</td>\n",
       "    </tr>\n",
       "  </tbody>\n",
       "</table>\n",
       "</div>"
      ],
      "text/plain": [
       "             username  followers_count  \\\n",
       "count             100        100.00000   \n",
       "unique             78              NaN   \n",
       "top     b'ksgrossman'              NaN   \n",
       "freq                8              NaN   \n",
       "mean              NaN       5129.81000   \n",
       "std               NaN      16497.71912   \n",
       "min               NaN          0.00000   \n",
       "25%               NaN        187.75000   \n",
       "50%               NaN        848.00000   \n",
       "75%               NaN       2513.00000   \n",
       "max               NaN     139144.00000   \n",
       "\n",
       "                                              Clean_tweet  \\\n",
       "count                                                 100   \n",
       "unique                                                 96   \n",
       "top     please cosponsor hr961 safeact horse loyal all...   \n",
       "freq                                                    5   \n",
       "mean                                                  NaN   \n",
       "std                                                   NaN   \n",
       "min                                                   NaN   \n",
       "25%                                                   NaN   \n",
       "50%                                                   NaN   \n",
       "75%                                                   NaN   \n",
       "max                                                   NaN   \n",
       "\n",
       "                                           Clean_hashtags  Hashtag_count  \\\n",
       "count                                                 100      100.00000   \n",
       "unique                                                 88            NaN   \n",
       "top     cosponsor hr961 safeact loyal ally conflict wa...            NaN   \n",
       "freq                                                    5            NaN   \n",
       "mean                                                  NaN        6.19000   \n",
       "std                                                   NaN        3.74623   \n",
       "min                                                   NaN        1.00000   \n",
       "25%                                                   NaN        3.00000   \n",
       "50%                                                   NaN        6.00000   \n",
       "75%                                                   NaN        8.25000   \n",
       "max                                                   NaN       16.00000   \n",
       "\n",
       "        Word_count  \n",
       "count   100.000000  \n",
       "unique         NaN  \n",
       "top            NaN  \n",
       "freq           NaN  \n",
       "mean     16.810000  \n",
       "std       7.119038  \n",
       "min       3.000000  \n",
       "25%      11.750000  \n",
       "50%      17.500000  \n",
       "75%      22.250000  \n",
       "max      31.000000  "
      ]
     },
     "execution_count": 315,
     "metadata": {},
     "output_type": "execute_result"
    }
   ],
   "source": [
    "clean_tweets.describe(include='all') #This includes both numerical and categorical values"
   ]
  },
  {
   "cell_type": "markdown",
   "metadata": {},
   "source": [
    "#### A few special features and key statistics:\n",
    "\n",
    "1. The unique value for Clean_tweet shows us that there are duplicates within the Clean_tweet column\n",
    "2. The maxmimum number of hashtags used in a tweet is 16, the maximum number of strings within cleaned tweets is 31\n",
    "3. The minimum values for hashtags and words within a tweet are 1 and 3, respectively\n",
    "4. The average number of hashtags used per tweet is 6.19\n",
    "5. The average number of tokenised words per tweet is 16.81\n",
    "\n",
    "Although there were 100 unique tweets in the original data set, there are duplicated in the preprocessed tweet data set. This might be due to the removal of different hashtags or tags, which means that only the tokenised words are duplicates. Although we might loose some important hashtags, duplicated will be removed. This is because the data set is very small and duplicates would influence the frequency of specific words heavily."
   ]
  },
  {
   "cell_type": "code",
   "execution_count": 316,
   "metadata": {},
   "outputs": [],
   "source": [
    "#Remove rows with same Clean_tweet content\n",
    "clean_tweets.drop_duplicates(subset=\"Clean_tweet\",keep=\"first\",inplace=True) #drops duplicates and keeps the first version of it"
   ]
  },
  {
   "cell_type": "code",
   "execution_count": 317,
   "metadata": {},
   "outputs": [
    {
     "data": {
      "text/plain": [
       "95"
      ]
     },
     "execution_count": 317,
     "metadata": {},
     "output_type": "execute_result"
    }
   ],
   "source": [
    "#new indexing so that removed duplicate row indeces won't be missing in further analysis \n",
    "clean_tweets.reset_index(drop=True, inplace=True) #drops the index\n",
    "\n",
    "clean_tweets.index.values.max() #returns the last row index of the data set"
   ]
  },
  {
   "cell_type": "code",
   "execution_count": 318,
   "metadata": {},
   "outputs": [],
   "source": [
    "\"\"\"This assert makes sure that there are as many unique tweets as number of rows\"\"\"\n",
    "\n",
    "if not len(list(clean_tweets.Clean_tweet.unique())) == clean_tweets.shape[0]:\n",
    "    assert False"
   ]
  },
  {
   "cell_type": "code",
   "execution_count": 319,
   "metadata": {},
   "outputs": [],
   "source": [
    "\"\"\"This assert makes sure that the indexing is correct\"\"\"\n",
    "\n",
    "if not clean_tweets.index.values.max() == (len(list(clean_tweets.Clean_tweet.unique()))-1): #-1 since indexing starts at 0\n",
    "    assert False"
   ]
  },
  {
   "cell_type": "markdown",
   "metadata": {},
   "source": [
    "Now that we have a clean data set, let us take a look at some key characteristics of the data:"
   ]
  },
  {
   "cell_type": "code",
   "execution_count": 320,
   "metadata": {},
   "outputs": [
    {
     "data": {
      "text/html": [
       "<div>\n",
       "<style scoped>\n",
       "    .dataframe tbody tr th:only-of-type {\n",
       "        vertical-align: middle;\n",
       "    }\n",
       "\n",
       "    .dataframe tbody tr th {\n",
       "        vertical-align: top;\n",
       "    }\n",
       "\n",
       "    .dataframe thead th {\n",
       "        text-align: right;\n",
       "    }\n",
       "</style>\n",
       "<table border=\"1\" class=\"dataframe\">\n",
       "  <thead>\n",
       "    <tr style=\"text-align: right;\">\n",
       "      <th></th>\n",
       "      <th>username</th>\n",
       "      <th>followers_count</th>\n",
       "      <th>Clean_tweet</th>\n",
       "      <th>Clean_hashtags</th>\n",
       "      <th>Hashtag_count</th>\n",
       "      <th>Word_count</th>\n",
       "    </tr>\n",
       "  </thead>\n",
       "  <tbody>\n",
       "    <tr>\n",
       "      <th>0</th>\n",
       "      <td>b'24matins_uk'</td>\n",
       "      <td>2496</td>\n",
       "      <td>ruin azerbaijan show karabakh conquest world c...</td>\n",
       "      <td>world conflict</td>\n",
       "      <td>2</td>\n",
       "      <td>7</td>\n",
       "    </tr>\n",
       "    <tr>\n",
       "      <th>1</th>\n",
       "      <td>b'MichalKianicka'</td>\n",
       "      <td>111</td>\n",
       "      <td>similarly luxembourg art 259 case almost 12 la...</td>\n",
       "      <td>conflict</td>\n",
       "      <td>1</td>\n",
       "      <td>12</td>\n",
       "    </tr>\n",
       "    <tr>\n",
       "      <th>2</th>\n",
       "      <td>b'medinavie1'</td>\n",
       "      <td>35</td>\n",
       "      <td>azerbaijan going strong spirit independence da...</td>\n",
       "      <td>stoparmenianaggression stoparmenianterrorism k...</td>\n",
       "      <td>9</td>\n",
       "      <td>17</td>\n",
       "    </tr>\n",
       "    <tr>\n",
       "      <th>3</th>\n",
       "      <td>b'arirangtvnews'</td>\n",
       "      <td>8662</td>\n",
       "      <td>nagornokarabakh conflict armenia accuses azerb...</td>\n",
       "      <td>armenia azerbaijan conflict</td>\n",
       "      <td>3</td>\n",
       "      <td>13</td>\n",
       "    </tr>\n",
       "    <tr>\n",
       "      <th>4</th>\n",
       "      <td>b'carlgroves10'</td>\n",
       "      <td>12</td>\n",
       "      <td>much conflict covid19 really pay cost crisis c...</td>\n",
       "      <td>conflict covid19 crisis news mps</td>\n",
       "      <td>5</td>\n",
       "      <td>25</td>\n",
       "    </tr>\n",
       "  </tbody>\n",
       "</table>\n",
       "</div>"
      ],
      "text/plain": [
       "            username  followers_count  \\\n",
       "0     b'24matins_uk'             2496   \n",
       "1  b'MichalKianicka'              111   \n",
       "2      b'medinavie1'               35   \n",
       "3   b'arirangtvnews'             8662   \n",
       "4    b'carlgroves10'               12   \n",
       "\n",
       "                                         Clean_tweet  \\\n",
       "0  ruin azerbaijan show karabakh conquest world c...   \n",
       "1  similarly luxembourg art 259 case almost 12 la...   \n",
       "2  azerbaijan going strong spirit independence da...   \n",
       "3  nagornokarabakh conflict armenia accuses azerb...   \n",
       "4  much conflict covid19 really pay cost crisis c...   \n",
       "\n",
       "                                      Clean_hashtags  Hashtag_count  \\\n",
       "0                                     world conflict              2   \n",
       "1                                           conflict              1   \n",
       "2  stoparmenianaggression stoparmenianterrorism k...              9   \n",
       "3                        armenia azerbaijan conflict              3   \n",
       "4                   conflict covid19 crisis news mps              5   \n",
       "\n",
       "   Word_count  \n",
       "0           7  \n",
       "1          12  \n",
       "2          17  \n",
       "3          13  \n",
       "4          25  "
      ]
     },
     "execution_count": 320,
     "metadata": {},
     "output_type": "execute_result"
    }
   ],
   "source": [
    "clean_tweets.head() #returns the first few rows of the DataFrame"
   ]
  },
  {
   "cell_type": "markdown",
   "metadata": {},
   "source": [
    "What is the tweet with the highest number of words?"
   ]
  },
  {
   "cell_type": "code",
   "execution_count": 321,
   "metadata": {},
   "outputs": [
    {
     "name": "stdout",
     "output_type": "stream",
     "text": [
      "' kind thinking make armenian leadership direct attack civilian population far conflict zone midnight knowing military target 1 terrorist thinking 2 mental disorder 3 desperation 4 0 respect intl law 5 stoparmenianterrorism ' is the tweet with the highest word count.\n"
     ]
    }
   ],
   "source": [
    "#iloc will return the output for the column index, idxmax() looks for the row with the highest value for df.column\n",
    "\n",
    "print(\"'\", clean_tweets.iloc[clean_tweets[\"Word_count\"].idxmax(),2], \"'\", \"is the tweet with the highest word count.\") "
   ]
  },
  {
   "cell_type": "markdown",
   "metadata": {},
   "source": [
    "What is the tweet with the highest number of hashtags used?"
   ]
  },
  {
   "cell_type": "code",
   "execution_count": 322,
   "metadata": {},
   "outputs": [
    {
     "name": "stdout",
     "output_type": "stream",
     "text": [
      "' today positive vibe make sure say thank advice conflict positivevibes positivevibe adviceoftheday lifeadvice goodadvice adviceforlife selflove selfdevelopment worth acceptance helpfultips solution acknowledge roberteblackmon ' is the tweet with the highest number of hashtags used.\n"
     ]
    }
   ],
   "source": [
    "print(\"'\",clean_tweets.iloc[clean_tweets[\"Hashtag_count\"].idxmax(),2], \"'\", \"is the tweet with the highest number of hashtags used.\") "
   ]
  },
  {
   "cell_type": "markdown",
   "metadata": {},
   "source": [
    "We already know about the average word count and hashtag count. But how are they distributed?"
   ]
  },
  {
   "cell_type": "code",
   "execution_count": 323,
   "metadata": {},
   "outputs": [
    {
     "data": {
      "image/png": "[encoded data removed]",
      "text/plain": [
       "<Figure size 720x504 with 1 Axes>"
      ]
     },
     "metadata": {},
     "output_type": "display_data"
    }
   ],
   "source": [
    "%matplotlib inline \n",
    "#Shows graphs in jupyter directly\n",
    "\n",
    "sns.set_style(\"whitegrid\") #Adds a whitegrid to the graph\n",
    "\n",
    "plt.figure(figsize=(10,7)) #Changes the size of the graph\n",
    "\n",
    "chart = sns.distplot(clean_tweets[\"Hashtag_count\"], label=\"Number of Hashtags\") #The distplot function creates a chart\n",
    "chart = sns.distplot(clean_tweets[\"Word_count\"], label=\"Number of Tweet Words\")\n",
    "\n",
    "chart.set_title(\"The distribution of hashtag and tweet word counts\") #Gives the chart a title\n",
    "chart.set(xlabel='word count', ylabel='probability density') #Sets labels for both axes\n",
    "chart.legend()\n",
    "plt.show()"
   ]
  },
  {
   "cell_type": "markdown",
   "metadata": {},
   "source": [
    "As we can see, the distribution of hashtag counts is more narrow and peaks higher than the distribution of tweet word counts. This makes sense since a tweet post is limited in its character space but tends to comprise more 'normal' words instead of hashtags (words with a # sign). Thus, the number of hashtags normally is much lower than the overall Tweet word count. We can also see that most of the tweets have less than 5 hashtags. When it comes to the Twitter word count, it is hard to tell which word size was the most frequent one. It seems like a lot of tweets comprise of around 20-25 words. However, we have excluded stop words, so this data is not very accurate. "
   ]
  },
  {
   "cell_type": "markdown",
   "metadata": {},
   "source": [
    "Now, we can finally start looking at the sentiment of the tweets. We want to try to understand whether a tweet is mainly negative, postive or neutral in its meaning/emotion/sentiment. In this case, we will use TextBlob for sentiment analysis.\n",
    "\n",
    "The polarity will tell us about the sentiment and emotion of each tweet. The sentiment values lie between -1 and 1, with -1 being strongly negative, 1 strongly positive and 0 being neutral."
   ]
  },
  {
   "cell_type": "code",
   "execution_count": 324,
   "metadata": {},
   "outputs": [],
   "source": [
    "def get_polarity(tweet):\n",
    "    '''\n",
    "    This function uses TextBlob to categorise each tweet based on its \n",
    "    sentiment value either to positive (>0), negative (<0) or neutral sentiment (=0).\n",
    "    '''\n",
    "    analysed_tweets = TextBlob(tweet)\n",
    "    if analysed_tweets.sentiment.polarity > 0:\n",
    "        return 'Positive'\n",
    "    elif analysed_tweets.sentiment.polarity == 0:\n",
    "        return 'Neutral'\n",
    "    else:\n",
    "        return 'Negative'\n",
    "    \n",
    "def get_sentiment(tweet):\n",
    "    '''\n",
    "    This function uses TextBlob to return the sentiment value.\n",
    "    '''\n",
    "    analysed_tweets = TextBlob(tweet)\n",
    "    return analysed_tweets.sentiment.polarity"
   ]
  },
  {
   "cell_type": "markdown",
   "metadata": {},
   "source": [
    "Next, we want to apply two new columns with the 'Polarity' and 'Sentiment' values for each tweet. Then, we will create a dictionnairy to display the ratio of positive, negative and neutral tweets."
   ]
  },
  {
   "cell_type": "code",
   "execution_count": 325,
   "metadata": {},
   "outputs": [
    {
     "data": {
      "image/png": "[encoded data removed]",
      "text/plain": [
       "<Figure size 720x720 with 1 Axes>"
      ]
     },
     "metadata": {},
     "output_type": "display_data"
    }
   ],
   "source": [
    "#Apply new columns with polarity and sentiment values\n",
    "\n",
    "clean_tweets['Polarity'] = clean_tweets[\"Clean_tweet\"].apply(get_polarity) #Adds new column with categorical polarity values\n",
    "clean_tweets['Sentiment'] = clean_tweets[\"Clean_tweet\"].apply(get_sentiment) #Adds new column with numerical sentiment values\n",
    "\n",
    "#Create a new dictionnairy with the frequency of each polarity within the data set\n",
    "\n",
    "senti_tweets={} #Create new dictionnary \n",
    "for index in clean_tweets['Polarity'].value_counts().index: #iterate through all possible polarities\n",
    "    if index == 'Neutral':\n",
    "        senti_tweets[\"Neutral\"]= clean_tweets['Polarity'].value_counts()[index] #Add frequency of Neutral polarities to the dict\n",
    "    elif index == 'Positive':\n",
    "        senti_tweets[\"Positive\"]= clean_tweets['Polarity'].value_counts()[index] #Add frequency of Positive polarities to the dict\n",
    "    else:\n",
    "        senti_tweets[\"Negative\"]= clean_tweets['Polarity'].value_counts()[index] #Add frequency of Negative polarities to the dict\n",
    "        \n",
    "\n",
    "%matplotlib inline \n",
    "#Shows graphs in jupyter directly\n",
    "\n",
    "#Plot the polarity of tweets \n",
    "fig, ax = plt.subplots(figsize=(10, 10)) #Set the figure size of the graph\n",
    "ax.pie(senti_tweets.values(), labels=senti_tweets.keys(), autopct='%1.1f%%', startangle=110, textprops={'fontsize': 18}) #autopct displays the percentage of each category on the graph\n",
    "#Axis is set as 'equal' so that the pie chart is a circle which sums up to 100%\n",
    "ax.axis('equal') \n",
    "plt.title('Tweets Sentimental Anylsis', size = 25)\n",
    "\n",
    "\n",
    "plt.show()"
   ]
  },
  {
   "cell_type": "markdown",
   "metadata": {},
   "source": [
    "The pie chart displays that the polarity of tweets is quite evenly distributed. There are slightly more tweets that have an overall neutral or positive sentiment or opinion. Both make up 34.4%, respectively. On the other hand, negative tweets are slightly less frequent with only 31.2% of all tweets. \n",
    "\n",
    "This might be surprising due to the fact that we scraped data using the term 'conflict' which usually is perceived as a negative sentiment or linked to crisis. \n",
    "\n",
    "Reasons for inaccuracies could be due to the small data set or the TextBlob Analyzer. In addition, it might be the case that 'conflict' here is used in a different context and not related to any international politics. Examples could be 'conflict management at work' etc. \n",
    "\n",
    "To further analyse the sentiment and the patterns associated with the term and frequency of 'conflict', we will calculate the conflict count further down in the notebook."
   ]
  },
  {
   "cell_type": "code",
   "execution_count": 326,
   "metadata": {},
   "outputs": [
    {
     "data": {
      "text/plain": [
       "0     0.000000\n",
       "1     0.000000\n",
       "2     0.466667\n",
       "3     0.136364\n",
       "4     0.287500\n",
       "        ...   \n",
       "91   -0.100000\n",
       "92    0.050000\n",
       "93   -0.125000\n",
       "94    0.000000\n",
       "95    0.250000\n",
       "Name: Sentiment, Length: 96, dtype: float64"
      ]
     },
     "execution_count": 326,
     "metadata": {},
     "output_type": "execute_result"
    }
   ],
   "source": [
    "#Take a look at the first and last sentiment values calculated\n",
    "clean_tweets[\"Sentiment\"]"
   ]
  },
  {
   "cell_type": "markdown",
   "metadata": {},
   "source": [
    "Now we want to find out what the average word count is for tweets with specific polarities:"
   ]
  },
  {
   "cell_type": "code",
   "execution_count": 327,
   "metadata": {},
   "outputs": [
    {
     "name": "stdout",
     "output_type": "stream",
     "text": [
      "{'Positive word mean': 19.151515151515152, 'Negative word mean': 19.333333333333332, 'Neutral word mean': 11.181818181818182}\n"
     ]
    }
   ],
   "source": [
    "filter_pos=clean_tweets[\"Polarity\"]==\"Positive\" #Creates filter to select all rows where \"Sentiment\" is \"Positive\"\n",
    "pos_mean=((clean_tweets.where(filter_pos))[\"Word_count\"].mean())#The filter is applied with daf.where() and mean values of the Word_count are stored into a variable\n",
    "\n",
    "filter_neg=clean_tweets[\"Polarity\"]==\"Negative\" #Filter for negative tweets\n",
    "neg_mean=((clean_tweets.where(filter_neg))[\"Word_count\"]).mean()\n",
    "\n",
    "filter_neu=clean_tweets[\"Polarity\"]==\"Neutral\" #Filter for neutral tweets\n",
    "neu_mean=((clean_tweets.where(filter_neu))[\"Word_count\"]).mean()\n",
    "\n",
    "#Define a dictionnairy to print out results\n",
    "dic_sent_means={'Positive word mean':pos_mean,'Negative word mean':neg_mean, 'Neutral word mean':neu_mean}\n",
    "print(dic_sent_means)"
   ]
  },
  {
   "cell_type": "markdown",
   "metadata": {},
   "source": [
    "After the display of the sentiment for each tweet, we want to take a look into the frequency of the word 'conflict' within a tweet. Since the data set was scraped using the hashtag #conflict, we expect that word to accure most frequently across all tweets.\n",
    "\n",
    "Notably, we have removed hashtags from the cleaned tweets. However, in most cases the term was still used as a normal string in the tweet:"
   ]
  },
  {
   "cell_type": "code",
   "execution_count": 328,
   "metadata": {},
   "outputs": [],
   "source": [
    "def conflict_per_tweet(tweet):\n",
    "    \"\"\"This function uses TextBlob's 'word_count' to \n",
    "    count the frequency of the word 'conflict' for each tweet\"\"\"\n",
    "    conflict_tweets=TextBlob(tweet) #Creates a TextBlob object to analyse\n",
    "    conflict_count=conflict_tweets.word_counts[\"conflict\"] #Counts frequency of the term 'conflict' within a TextBlob\n",
    "        \n",
    "    return conflict_count\n",
    "\n",
    "#Next, we want to add these values to a new column in our data set:\n",
    "\n",
    "clean_tweets['Conflict_count'] = clean_tweets[\"Clean_tweet\"].apply(conflict_per_tweet) \n",
    "#gets the frequency of 'conflict' for each cleaned tweet and puts it in a new column\n",
    "    "
   ]
  },
  {
   "cell_type": "markdown",
   "metadata": {},
   "source": [
    "After we computed the sentiment values and the frequencies of the word 'conflict' for each tweet, it would be interesting to see if there is a relation between the sentiment value and the occurence of the word 'conflict':"
   ]
  },
  {
   "cell_type": "code",
   "execution_count": 329,
   "metadata": {},
   "outputs": [
    {
     "data": {
      "text/plain": [
       "<Figure size 720x720 with 0 Axes>"
      ]
     },
     "metadata": {},
     "output_type": "display_data"
    },
    {
     "data": {
      "image/png": "[encoded data removed]",
      "text/plain": [
       "<Figure size 360x360 with 1 Axes>"
      ]
     },
     "metadata": {},
     "output_type": "display_data"
    },
    {
     "data": {
      "image/png": "[encoded data removed]",
      "text/plain": [
       "<Figure size 432x288 with 1 Axes>"
      ]
     },
     "metadata": {},
     "output_type": "display_data"
    }
   ],
   "source": [
    "#Graph about the relation between sentiment values and conflict term frequency\n",
    "\n",
    "\n",
    "sns.set_style(\"whitegrid\") #Adds a whitegrid to the graph\n",
    "plt.figure(figsize=(10,10)) #Sets the figure size\n",
    "\n",
    "conflict_sentiment=sns.catplot(x='Conflict_count', y='Sentiment', data=clean_tweets, kind='bar')#sns.catplot() with kind=\"bar\" creates a barchart with error bars to show confidence intervals\n",
    "conflict_sentiment.set(xlabel=\"Conflict_count\",ylabel=\"Sentiment\") #Labels the axes\n",
    "conflict_sentiment.set(title=\"(1) Sentiment values and frequency of 'conflict'\") #Sets a title\n",
    "plt.xticks(np.arange(0,4,1)) #Sets the start, end and tick size\n",
    "plt.yticks(np.arange(-0.2,0.4,0.1))\n",
    "plt.show()\n",
    "\n",
    "#Graph about the frequency of the term 'conflict' in each tweet\n",
    "\n",
    "chart = sns.distplot(clean_tweets[\"Conflict_count\"], kde=False) #The distplot function with kde=False creates a histogram-like chart \n",
    "chart.set_title(\" (2) Frequency of the term 'conflict' for each tweet\") #Gives the chart a title\n",
    "plt.xlim(0,3) #Sets min and max for tips shown on the x-axis\n",
    "plt.xticks(np.arange(0,3,1)) #Sets the start, end and tick size\n",
    "plt.yticks(np.arange(0,90,10))\n",
    "chart.set(xlabel='conflict count', ylabel='probability density') #Sets labels for both axes\n",
    "plt.show()"
   ]
  },
  {
   "cell_type": "markdown",
   "metadata": {},
   "source": [
    "As we can see in graph (1), the increasing frequency of the term conflict goes along with higher sentiment values. \n",
    "\n",
    "Positive sentiment values indicate that the overall sentiment polary is positive. However, one could think that the graph suggests that the increased occurence of the term 'conflict' is associated with a positive sentiment. \n",
    "\n",
    "Notably, these results are not significant at all. Based on the overlapping error bars in graph (1) we can tell that the confidence interval for term frequencies 1 and 2 are very huge. Thus, these results are not very informative. \n",
    "\n",
    "\n",
    "However, the error bars of term frequencies 2 and 3 are not overlapping. This might be strange, since we expect that 'conflict' is associated to negative sentiments. \n",
    "\n",
    "One possible explanation could be that the TexBlob Sentiment analysis is not very accurate, since it is not an individually trained model. Another explanation could be, that we simply do not have enough data to display significant results.\n",
    "\n",
    "In graph (2) we can see that the term 'conflict' was mentioned once in most of the tweets (>80). Only a small portion of tweets actually used the term zero, twice or three times. \n",
    "\n",
    "For further exploration, we could try NaiveBayesAnalyzer() instead of the default PatternAnalyzer as the analyzer of our choice for the TextBlob Sentiment Analysis."
   ]
  },
  {
   "cell_type": "markdown",
   "metadata": {},
   "source": [
    "Let us take a look at the frequency of followers_count values. Is there a relation between the number of followers a user has and the amount of hashtags they use?"
   ]
  },
  {
   "cell_type": "code",
   "execution_count": 330,
   "metadata": {},
   "outputs": [
    {
     "data": {
      "image/png": "[encoded data removed]",
      "text/plain": [
       "<Figure size 576x576 with 1 Axes>"
      ]
     },
     "metadata": {},
     "output_type": "display_data"
    },
    {
     "data": {
      "image/png": "[encoded data removed]",
      "text/plain": [
       "<Figure size 554.4x504 with 1 Axes>"
      ]
     },
     "metadata": {},
     "output_type": "display_data"
    }
   ],
   "source": [
    "#Histogram-like graph to display the frequency of followers numbers\n",
    "plt.figure(figsize=(8,8))\n",
    "chart = sns.distplot(clean_tweets[\"followers_count\"], kde=False, bins=135) #The distplot function creates a chart with the frequency of followers_count values\n",
    "chart.set_title(\"(1) Distribution of the followers count\") #Gives the chart a title\n",
    "plt.xlim(0,10000) #Sets min and max for tips shown on the x-axis\n",
    "#plt.xticks(np.arange(0,10000,1000)) #Sets the start, end and tick size\n",
    "chart.set(xlabel='followers_count', ylabel='probability density') #Sets labels for both axes\n",
    "plt.show()\n",
    "\n",
    "\n",
    "#lmplot to show the relation between followers count and number of hashtags used\n",
    "#lmplot is a scatterplot with an optional regression line which marks the best available fit for the trend\n",
    "chart_scatter=sns.lmplot( x=\"Hashtag_count\", y=\"followers_count\", data=clean_tweets, fit_reg=True, height=7, aspect=1.1) #Calculates regression line as well as height and width of the lmplot figure\n",
    "fig = chart_scatter.fig #Gives access to the figure to set title\n",
    "fig.suptitle(\"(2) Relation between numbers of hashtags used and number of followers\", fontsize=13) #Adds a title to the figure\n",
    "\n",
    "plt.show()\n",
    "\n",
    "\n"
   ]
  },
  {
   "cell_type": "markdown",
   "metadata": {},
   "source": [
    "As we can tell from graph (1), most users have a follower base of below 1000. Approximately 13 users have a follower base between 1000 and 2000. Only a few users have more than 3000 followers. Notably, the graph displays follower numbers only until 10000 for better visualisation since there is only a small number of outliers in the range of 100,000 followers.\n",
    "\n",
    "In graph (2), we can see a slightly negative correlation between the follower count and the amount of hashtags used. With decreasing follower numbers, the amount of hashtags seem to increase. This might be due to heavy fluctuations in the follower number as seen in the light blue shadowed region around the regression line.\n",
    "\n",
    "A possible explanation for the negative correlation could be due to the fact that a high follower count is associated with verified users such as media outlets or news agencies. News agencies and other official accounts might use less hashtags and only important ones to emphazise their professionalism and the importance of their tweet message. Private users on the other hand might tend to use a larger number of hashtags, that goes into the two-digit range."
   ]
  },
  {
   "cell_type": "markdown",
   "metadata": {},
   "source": [
    "In the next boxplot, we want to visualise the distribution of  follower count values in the given polarity categories. Can a pattern be recognised?"
   ]
  },
  {
   "cell_type": "code",
   "execution_count": 331,
   "metadata": {},
   "outputs": [
    {
     "data": {
      "image/png": "[encoded data removed]",
      "text/plain": [
       "<Figure size 1080x1440 with 1 Axes>"
      ]
     },
     "metadata": {},
     "output_type": "display_data"
    }
   ],
   "source": [
    "#Create boxplot for followers_count and polarity values\n",
    "plt.figure(figsize=(15,20))\n",
    "ax=sns.boxplot(x=\"Polarity\", y=\"followers_count\", data=clean_tweets, showmeans=True, meanprops={\"marker\":\"o\", \"markerfacecolor\":\"white\",\"markeredgecolor\":\"black\", \"markersize\": \"10\"}) #Creates boxplots for each day with the respective proportion values and shows the mean value\n",
    "ax.set(xlabel=\"Polarity\", ylabel=\"Number of followers\") #Sets labels for both axes\n",
    "ax.set_title(\"Number of followers for each polarity category\") #Sets a title for the graph\n",
    "plt.show()"
   ]
  },
  {
   "cell_type": "markdown",
   "metadata": {},
   "source": [
    "We can see that tweets with a positive sentiment polarity tend to be associated with a slightly larger follower base on average. This might be due to the large amounts of outliers that reach a follower count of almost 140000. \n",
    "\n",
    "The small size of the data set could be the reason for heavy fluctuations. However, most of the high follower outliers seem to be within the positive sentiment category. Interestingly, that would mean that user with higher followers and thus media outlets or news agencies tend to post tweets that are more positive in their meaning and emotion. \n",
    "\n",
    "On the other side, the 75% interquartile of the neutral category is larger than the one of the positive category. This means that 75% of all followers that have posted tweets with a neutral sentiment have a higher follower base than 75% of the followers that posted tweets with a positive sentiment. \n",
    "\n",
    "Overall, tweets with a negative sentiment were posted from users with the lowest average follower base. \n",
    "\n",
    "\n",
    "\n",
    "\n",
    "\n"
   ]
  },
  {
   "cell_type": "markdown",
   "metadata": {},
   "source": [
    "WORDCLOUD and WORD FREQUENCIES\n",
    "\n",
    "Now that we have looked into some relations between the frequency of the word 'conflict' and sentiment as well as the relation between followers count and other values, we want to take a look at other frequently mentioned words using WordCloud. \n",
    "\n",
    "We do this in order to categorise our tweets better and to see, whether we can find a pattern. The main question that we are asking ourselves is: \n",
    "\n",
    "What are the 'conflict' tweets about? Is there a way to categorise them? Is there a pattern between hashtags used and the sentiment values? Is there a pattern between hashtags and tweet topics? "
   ]
  },
  {
   "cell_type": "code",
   "execution_count": 332,
   "metadata": {},
   "outputs": [
    {
     "data": {
      "image/png": "[encoded data removed]",
      "text/plain": [
       "<Figure size 360x360 with 1 Axes>"
      ]
     },
     "metadata": {},
     "output_type": "display_data"
    }
   ],
   "source": [
    "#Create a WordCloud to display most frequent words in all tweets\n",
    "\n",
    "image_mask = np.array(Image.open('circle.png')) #Image processing using np.array(Image.open())\n",
    "\n",
    "#Use pre-installed WordCloud function and image_mask to build a WordCloud with frequently used terms in tweets\n",
    "wc = WordCloud(width=500, height=500, background_color=\"white\", max_words=12, mask=image_mask) \n",
    "clean_string = ''.join(clean_tweets[\"Clean_tweet\"]) #wc works on string objects\n",
    "#frequency of each word in clean_string\n",
    "wc=wc.generate(clean_string) #Generates a WordCloud on string object \n",
    "\n",
    "\n",
    "\n",
    "#Now display the WordCloud\n",
    "\n",
    "f = plt.figure(figsize=(5,5)) #Sets the figure size\n",
    "\n",
    "plt.imshow(wc, interpolation='bilinear') #Displays data on a 2D regular raster with wc being an array-like or PIL image\n",
    "#interpolation='bilinear' will make a less 'blocky' image of a small array\n",
    "plt.title('Conflict Tweet WordCloud', size=15) #Sets the title\n",
    "plt.axis(\"off\") #Removes the background and axes \n",
    "plt.show()"
   ]
  },
  {
   "cell_type": "markdown",
   "metadata": {},
   "source": [
    "We will do the same for the hashtag terms:"
   ]
  },
  {
   "cell_type": "code",
   "execution_count": 333,
   "metadata": {},
   "outputs": [
    {
     "data": {
      "image/png": "[encoded data removed]",
      "text/plain": [
       "<Figure size 360x360 with 1 Axes>"
      ]
     },
     "metadata": {},
     "output_type": "display_data"
    }
   ],
   "source": [
    "#Generate WordCloud for frequently used hashtags\n",
    "\n",
    "\n",
    "image_mask = np.array(Image.open('circle.png')) #Image processing using np.array(Image.open())\n",
    "\n",
    "wc = WordCloud(width=500, height=500, background_color=\"white\", max_words=12, mask=image_mask)\n",
    "clean_hasht = ''.join(clean_tweets[\"Clean_hashtags\"])\n",
    "wc.generate(clean_hasht)\n",
    "\n",
    "f = plt.figure(figsize=(5,5))\n",
    "\n",
    "#Now display the WordCloud\n",
    "\n",
    "plt.imshow(wc, interpolation='bilinear') #Displays data on a 2D regular raster with wc being an array-like or PIL image\n",
    "plt.title('Hashtag WordCloud', size=15)\n",
    "plt.axis(\"off\")\n",
    "plt.show()"
   ]
  },
  {
   "cell_type": "markdown",
   "metadata": {},
   "source": [
    "As we can see, the top 12 terms are quite similar to each other with only a few variations. \n",
    "Since we used the term 'conflict' to srcap our data, it is clear that it appears as the biggest term in the image. \n",
    "Besides 'conflict' we can also see terms as 'covid19', 'azerbaijian', 'armenia', 'civilian', 'karabakh' and 'nagornokarabakh' very prominently in both WordClouds.\n",
    "\n",
    "This might be due to the ongoing covid-19 crises as well as the Nagorno-Karabakh (a part of Azerbaijan controlled by Armenians) conflict in Armenia-Azerbaijan.\n",
    "\n",
    "For a better quantification of often used terms in tweets and hashtags, we will now calculate the frequency of the most common terms."
   ]
  },
  {
   "cell_type": "markdown",
   "metadata": {},
   "source": [
    "Another possibility to display frequently mentioned terms can be done using 'value_counts()'. Here, we will create a new dataframe that displays the most prevalent words and their frequency of occurence in tweets."
   ]
  },
  {
   "cell_type": "code",
   "execution_count": 334,
   "metadata": {},
   "outputs": [],
   "source": [
    "#Frequency of most common terms in \"Clean_tweet\" is calculated\n",
    "\n",
    "#Create a new DataFrame with tokenised words of all tweets\n",
    "df_words = pd.DataFrame(nltk.tokenize.word_tokenize(clean_string), columns=[\"words\"])\n",
    "#Count the frequency of each word using value_counts()\n",
    "word_freq = df_words[\"words\"].value_counts() #This is a pandas.series\n",
    "\n",
    "\n",
    "#Convert series to a dictionnairy to a dataframe\n",
    "frame_word_freq = {\"word\": word_freq.index, \"frequency\": word_freq} #Creates a dictionnairy\n",
    "df_word_freq = pd.DataFrame(frame_word_freq) #Creates a DataFrame \n",
    "df_word_freq.reset_index(drop=True, inplace=True) #Drops the original index \n",
    "\n",
    "#Drops all rows with words that appear less than 7 times\n",
    "df_word_freq = df_word_freq.drop(df_word_freq[df_word_freq.frequency < 7].index) "
   ]
  },
  {
   "cell_type": "markdown",
   "metadata": {},
   "source": [
    "The same is done for hashtags:"
   ]
  },
  {
   "cell_type": "code",
   "execution_count": 335,
   "metadata": {},
   "outputs": [],
   "source": [
    "#Frequency of most common terms in \"Clean_hashtags\" is calculated\n",
    "\n",
    "#Create a new DataFrame with tokenised words of all hashtags\n",
    "df_hashtags = pd.DataFrame(nltk.tokenize.word_tokenize(clean_hasht), columns=[\"hashtags\"])\n",
    "#Count the frequency of each word using value_counts()\n",
    "hasht_freq = df_hashtags[\"hashtags\"].value_counts()\n",
    "\n",
    "\n",
    "# hasht_freq is a series. It will be converted into a dataframe to easily create a barchart\n",
    "frame_hasht_freq = {\"hashtag\": hasht_freq.index, \"frequency\": hasht_freq} #Creates a dictionnairy \n",
    "df_hasht_freq = pd.DataFrame(frame_hasht_freq) #Creates a DataFrame \n",
    "df_hasht_freq.reset_index(drop=True, inplace=True) #Drops the original index \n",
    "\n",
    "#Drops all rows with hashtags that appear less than 4 times\n",
    "df_hasht_freq = df_hasht_freq.drop(df_hasht_freq[df_hasht_freq.frequency < 4].index)"
   ]
  },
  {
   "cell_type": "markdown",
   "metadata": {},
   "source": [
    "Now, we can finally create a barplot to display the most frequent words used in tweets and hashtags:"
   ]
  },
  {
   "cell_type": "code",
   "execution_count": 336,
   "metadata": {},
   "outputs": [
    {
     "data": {
      "image/png": "[encoded data removed]",
      "text/plain": [
       "<Figure size 1080x1080 with 1 Axes>"
      ]
     },
     "metadata": {},
     "output_type": "display_data"
    },
    {
     "data": {
      "image/png": "[encoded data removed]",
      "text/plain": [
       "<Figure size 1296x1080 with 1 Axes>"
      ]
     },
     "metadata": {},
     "output_type": "display_data"
    }
   ],
   "source": [
    "#Barplot fof frequency of terms in Clean_tweet\n",
    "\n",
    "plt.figure(figsize=(15,15)) #Sets figure size\n",
    "\n",
    "ax=sns.barplot(x=\"word\",y=\"frequency\", data=df_word_freq) #Creates a barchart for each word and its frequency\n",
    "ax.set(title=\"Term frequency in clean tweets\") #Sets the title\n",
    "plt.yticks(np.arange(0,100,10)) #Sets the min, max values and tick size\n",
    "plt.show()\n",
    "\n",
    "#Barplot of frequency of terms in Clean_hashtags\n",
    "plt.figure(figsize=(18,15)) #Sets figure size\n",
    "\n",
    "hasht_ax=sns.barplot(x=\"hashtag\",y=\"frequency\", data=df_hasht_freq) #Creates a barchart for each word and its frequency\n",
    "hasht_ax.set(title=\"Hashtag frequency in tweets\") #Sets the title\n",
    "plt.yticks(np.arange(0,70,10)) #Sets the min, max values and tick size\n",
    "plt.show()"
   ]
  },
  {
   "cell_type": "markdown",
   "metadata": {},
   "source": [
    "As we can see, the term conflict is unquestionably the top used term, since it was mentioned approx. 90 times in tweets and over 55 times as a hashtag.\n",
    "\n",
    "More interestingly however, the second most frequent term used in tweets is 'war', closely followed by 'armenia'. In tweets, the term 'armenia' was mentioned more often than 'azerbaijan'.\n",
    "\n",
    "In hashtags however, it is quite the opposite with 'azerbaijan' being mentioned more frequently than 'armenia'.\n",
    "\n",
    "Additionally, there are a lot of other terms associated with the Armenia-Azerbaijan conflict, that are used quite often, such as 'karabakh' and 'nagornokarabakh'. This is in accordance with the WordCloud image. \n",
    "\n",
    "One explanation could be that users who post about conflicts in azerbaijan or armenia are likely to talk about 'karabakh' and 'nagornokarabakh' as well, since the war is named after this region.\n",
    "\n",
    "Besides these terms, there are also hashtags such 'health' and 'climatechange' used, whereby the frequency is less than 5 times. "
   ]
  },
  {
   "cell_type": "markdown",
   "metadata": {},
   "source": [
    "Now that we have calculated and visualised the frequency of these terms, we want to find out whether specific hashtags are associated with tweets of a specific sentiment value.\n",
    "\n",
    "For that reason, we will use a short script that calculates the average sentiment value for all rows where a specific hashtag was used:"
   ]
  },
  {
   "cell_type": "code",
   "execution_count": 337,
   "metadata": {},
   "outputs": [
    {
     "name": "stdout",
     "output_type": "stream",
     "text": [
      "Tweets that include conflict as a hashtag have an average sentimental value of 0.031874949269480514\n",
      "Tweets that include azerbaijan as a hashtag have an average sentimental value of -0.007441077441077439\n",
      "Tweets that include armenia as a hashtag have an average sentimental value of -0.010227272727272727\n",
      "Tweets that include covid19 as a hashtag have an average sentimental value of 0.10451388888888886\n",
      "Tweets that include war as a hashtag have an average sentimental value of -0.14545454545454548\n",
      "Tweets that include nagornokarabakh as a hashtag have an average sentimental value of 0.01944444444444444\n",
      "Tweets that include civilians as a hashtag have an average sentimental value of -0.20055555555555551\n",
      "Tweets that include ganja as a hashtag have an average sentimental value of -0.025555555555555564\n",
      "Tweets that include karabakh as a hashtag have an average sentimental value of 0.17708333333333334\n",
      "Tweets that include climatechange as a hashtag have an average sentimental value of 0.06541666666666665\n",
      "Tweets that include health as a hashtag have an average sentimental value of -0.0036458333333333343\n"
     ]
    }
   ],
   "source": [
    "#Create lists for average sentiment values and hashtags used\n",
    "\n",
    "sent_hasht_list=[]\n",
    "tag_list=[]\n",
    "\n",
    "#Iterate through all frequently mentioned hashtags listed in df_hasht_freq\n",
    "for hashtag in df_hasht_freq.hashtag:\n",
    "    tag=hashtag \n",
    "    index=0 #start indexing to iterate through sentiment values\n",
    "    hashtag_count=0 #start indexing to get number of tweets with respective hashtag\n",
    "    sent_value=0 #Sets value at 0 for every new hashtag\n",
    "    \n",
    "    \n",
    "    #Iterates through all hashtag strings to find the desired hashtag\n",
    "    \n",
    "    for row in clean_tweets.Clean_hashtags: #Iterates through all hashtag strings\n",
    "        token_hashtags=nltk.tokenize.word_tokenize(row) #Tokenises hashtags to create a list\n",
    "           \n",
    "        if index <= clean_tweets.index.values.max(): #Iterates as long as index is equal to the amount of rows \n",
    "            if tag in token_hashtags: #Performs the operation if frequently mentioned hashtag is found in that row \n",
    "                sent_value=sent_value+clean_tweets.Sentiment[index] #Adds the respective sentiment value to the variable\n",
    "                hashtag_count=hashtag_count+1 #Hashtag counter +1 \n",
    "                \n",
    "        index+=1 \n",
    "        \n",
    "        \n",
    "    #Calculates the average sentiment value if the hashtag was found       \n",
    "    if hashtag_count > 0:   \n",
    "        sent_average=sent_value/hashtag_count\n",
    "        \n",
    "        #Adds values to the list\n",
    "        sent_hasht_list.append(sent_average)\n",
    "        tag_list.append(tag)\n",
    "        print('Tweets that include', tag, 'as a hashtag have an average sentimental value of', sent_average)\n",
    "        "
   ]
  },
  {
   "cell_type": "code",
   "execution_count": 338,
   "metadata": {},
   "outputs": [
    {
     "name": "stdout",
     "output_type": "stream",
     "text": [
      "            Hashtag  Average_sentiment\n",
      "0          conflict           0.031875\n",
      "1        azerbaijan          -0.007441\n",
      "2           armenia          -0.010227\n",
      "3           covid19           0.104514\n",
      "4               war          -0.145455\n",
      "5   nagornokarabakh           0.019444\n",
      "6         civilians          -0.200556\n",
      "7             ganja          -0.025556\n",
      "8          karabakh           0.177083\n",
      "9     climatechange           0.065417\n",
      "10           health          -0.003646\n"
     ]
    }
   ],
   "source": [
    "\"\"\"Next, we will use the hashtag list and average sentiment list to create a dataframe to display our results\"\"\"\n",
    "\n",
    "df_ave_sent=pd.DataFrame()\n",
    "df_ave_sent[\"Hashtag\"]=tag_list\n",
    "df_ave_sent[\"Average_sentiment\"]= sent_hasht_list\n",
    "print(df_ave_sent)"
   ]
  },
  {
   "cell_type": "markdown",
   "metadata": {},
   "source": [
    "As we can tell, 6 out of 11 hashtags were associated with an average negative tweet sentiment value. Notably, all values lie pretty close to 0. "
   ]
  },
  {
   "cell_type": "markdown",
   "metadata": {},
   "source": [
    "Now, we will use that output to visualise the relation between certain hashtags and their respective average sentiment value of the tweet. For that purpose, we will use a barplot."
   ]
  },
  {
   "cell_type": "code",
   "execution_count": 339,
   "metadata": {},
   "outputs": [
    {
     "data": {
      "image/png": "[encoded data removed]",
      "text/plain": [
       "<Figure size 1080x360 with 1 Axes>"
      ]
     },
     "metadata": {},
     "output_type": "display_data"
    }
   ],
   "source": [
    "#Barplot shows the relation between categories and their numerical values\n",
    "\n",
    "\n",
    "plt.figure(figsize=(15,5)) #Sets figure size\n",
    "ax=sns.barplot(x=\"Hashtag\",y=\"Average_sentiment\", data=df_ave_sent) #Creates a barchart with Hashtag as the category and Average sentiment as the numerical value\n",
    "ax.set(title=\"The average sentiment value for tweets with different hashtags\")#Sets the title\n",
    "plt.show()"
   ]
  },
  {
   "cell_type": "markdown",
   "metadata": {},
   "source": [
    "Notably, these are the calculated average values and we don't have any information about the confidence intervals of these bars. \n",
    "\n",
    "However, it seems like the hashtags 'war' and 'civilians' are clearly associated with tweets with an average negative sentiment value. On the other side, hashtags such as 'covid19', 'climatechange' and 'karabakh' come along with tweets with an average positive sentiment value. \n",
    "\n",
    "This might seem very strange at first hand. A possible explanation could be that due to the small data set, all tweets related to covid-19 were about positive or at least neutral outcomes or simply 'neutrally' informative.\n",
    "\n",
    "However, it is strange to see that 'azerbaijan' and 'armenia' hashtags are associated with neutral-negative tweet sentiments, but 'nagornokarabakh' and 'karabakh' are related to positive sentiment tweets on average. \n",
    "\n",
    "This goes against my first assumption that people who mention 'armenia' and 'azerbaijan' probably also mention 'karabakh' in their tweets. Notably, we are only comparing hashtags and not tokenised words. \n",
    "\n",
    "To conclude, it seems like people who use 'armenia' and 'azerbaijan' as hashtags do not necessarily use 'karabakh' as a hashtag as well due to the very different average tweet sentiment values."
   ]
  },
  {
   "cell_type": "markdown",
   "metadata": {},
   "source": [
    "In the above case, I have calculated the average sentiment value. However, when we want to plot them, it makes sense to create a dataframe with sentiment values for each tweet with the respective hashtag and let barplot do the average computing job. This comes with the advantage of error bars that indicate how significant the differences are. Also, the new dataframe with all the sentimental values will allow us to look into the distribution of each sentiment value, for example using a boxplot."
   ]
  },
  {
   "cell_type": "code",
   "execution_count": 340,
   "metadata": {},
   "outputs": [
    {
     "name": "stdout",
     "output_type": "stream",
     "text": [
      "           Hashtag  Sentiment\n",
      "0         conflict   0.000000\n",
      "1         conflict   0.000000\n",
      "2         conflict   0.466667\n",
      "3         conflict   0.136364\n",
      "4         conflict   0.287500\n",
      "..             ...        ...\n",
      "164  climatechange   0.000000\n",
      "165         health   0.033333\n",
      "166         health  -0.047917\n",
      "167         health   0.000000\n",
      "168         health   0.000000\n",
      "\n",
      "[169 rows x 2 columns]\n"
     ]
    }
   ],
   "source": [
    "#Similar script as above but without calculating the average sentiment values\n",
    "\n",
    "sentim_list=[]\n",
    "tags_list=[]\n",
    "\n",
    "#Iterate through all frequently mentioned hashtags listed in df_hasht_freq\n",
    "\n",
    "\n",
    "for hashtag in df_hasht_freq.hashtag:\n",
    "    tag=hashtag\n",
    "    index=0\n",
    "    hashtag_count=0\n",
    "    sentim_value=0\n",
    "    \n",
    "    #Iterates through all hashtag strings to find the desired hashtag\n",
    "    \n",
    "    for row in clean_tweets.Clean_hashtags:\n",
    "        token_hashtags=nltk.tokenize.word_tokenize(row)\n",
    "           \n",
    "        if index <= clean_tweets.index.values.max():\n",
    "            if tag in token_hashtags:\n",
    "                sentim_value=sentim_value+clean_tweets.Sentiment[index] #Adds the respective sentiment value to the variable\n",
    "                sentim_list.append(sentim_value) #Adds values to the list while iterating\n",
    "                tags_list.append(tag)\n",
    "                sentim_value=0 #Sentiment value is set to zero after each row iteration\n",
    "                \n",
    "        index+=1 \n",
    "        \n",
    "        \n",
    "df_tags_sent=pd.DataFrame() #Creates empty DataFrame\n",
    "df_tags_sent[\"Hashtag\"]=tags_list #Appends hashtag column\n",
    "df_tags_sent[\"Sentiment\"]= sentim_list #Appends sentiment value column\n",
    "print(df_tags_sent)       "
   ]
  },
  {
   "cell_type": "markdown",
   "metadata": {},
   "source": [
    "Now that we have a more complete DataFrame, we will visualise the same boxplot but with error bars:"
   ]
  },
  {
   "cell_type": "code",
   "execution_count": 341,
   "metadata": {},
   "outputs": [
    {
     "data": {
      "image/png": "[encoded data removed]",
      "text/plain": [
       "<Figure size 1080x360 with 1 Axes>"
      ]
     },
     "metadata": {},
     "output_type": "display_data"
    }
   ],
   "source": [
    "#Create barplot to display the average sentiment values of tweets with a specific hashtag\n",
    "\n",
    "plt.figure(figsize=(15,5)) #Sets figure size\n",
    "ax=sns.barplot(x=\"Hashtag\",y=\"Sentiment\", data=df_tags_sent) #Plots Hashtag against Sentiment value of the tweet\n",
    "ax.set(title=\"The average sentiment value for tweets with different hashtags\") #Sets title\n",
    "plt.show()"
   ]
  },
  {
   "cell_type": "markdown",
   "metadata": {},
   "source": [
    "Now that we can see the error bars, it becomes clear that all results are not that significant. Especially hashtags such as 'azerbaijan','armenia' and 'karabakh','nagornokarabakh' have partial or total error bar overlaps. \n",
    "\n",
    "This indicates that the confidence intervals - meaning that the value is correct in 95% of all cases - is too big to compare the average sentiment values. \n",
    "\n",
    "To achieve more significant results, we have to use a training data set to build our own individual sentiment analysis and get a larger data set. "
   ]
  },
  {
   "cell_type": "markdown",
   "metadata": {},
   "source": [
    "Finally, we will also take a look at the distribution of sentiment values of each category using a boxplot:"
   ]
  },
  {
   "cell_type": "code",
   "execution_count": 342,
   "metadata": {},
   "outputs": [
    {
     "data": {
      "image/png": "[encoded data removed]",
      "text/plain": [
       "<Figure size 1080x504 with 1 Axes>"
      ]
     },
     "metadata": {},
     "output_type": "display_data"
    }
   ],
   "source": [
    "plt.figure(figsize=(15,7)) #Changes the size of the graph\n",
    "ax=sns.boxplot(x=\"Hashtag\", y=\"Sentiment\", data=df_tags_sent, showmeans=True, meanprops={\"marker\":\"o\", \"markerfacecolor\":\"white\",\"markeredgecolor\":\"black\", \"markersize\": \"10\"}) #Creates boxplots for each day with the respective proportion values and shows the mean value\n",
    "ax.set(xlabel=\"Hashtag\", ylabel=\"Sentiment\") #Sets labels for both axes\n",
    "#plt.yticks(np.arange(0,0.75,0.05)) #Adjusts the space between ticks on the y-axis\n",
    "ax.set_title(\"Sentiment values for each hashtag tweet\") #Sets a title for the graph\n",
    "plt.show()"
   ]
  },
  {
   "cell_type": "markdown",
   "metadata": {},
   "source": [
    "Although the overall results are very similar, we can see that the greatest amount of outliers can be found in tweets with the hashtag 'conflict'. Although most tweets and thus most data comprises the term 'conflict' there is no clear indication whether the sentiment is positive or negative. \n",
    "\n",
    "Overall, for the hashtags 'azerbaijan', 'armenia', 'war' and 'civilian' we can see some outliers (at -1) that could significantly affect the average sentiment value due to the small and sensible data size.  "
   ]
  },
  {
   "cell_type": "markdown",
   "metadata": {},
   "source": [
    "REFLECTIONS AND HYPOTHESIS"
   ]
  },
  {
   "cell_type": "markdown",
   "metadata": {},
   "source": [
    "(1.)Most surprisingly, the increased occurence of the term ‘conflict’ within a tweet is associated with a higher sentiment value meaning that the tweet is likely to be positive. My hypothesis \n",
    "would be that not all ‘conflict’ tweets are related to global political issues and that we have to do more advanced textual analysis to sort out unrelated tweet. This could happen via n-grams, where we try to detect multiple words together. This way, we might find out more about the context of the conflict tweet (political conflict or work related ‘conflict management’).\n",
    "\n",
    "(2.)Equally surprising was the fact that tweets that were associated with the hashtags ‘nagornokarabakh’ or ‘karabakh’ have an overall positive sentiment, since they probably relate to the ongoing ‘Azerbaijan-Armenian’ war. One hypothesis could be, that users that use the Azerbaijan/Armenian hashtag report more negatively about the crises while users using ‘nagornokarabakh’ or ‘karabakh’ as hashtags report more positively/neutrally. \n",
    "\n",
    "One way to test that would be to use a larger data with timestamps over a several weeks or months. Another way to gain more accurate sentiment values would be the usage of a different analyser such as NaiveBayesAnalyzer. We could also train our own model using the Naive Bayes Classifier, build our own vocabulary and  test it with another testing data set. Using tf-idf vectorisation from the scikit library could help us to classify most important words and characterise tweets.\n",
    "\n",
    "Also, we could leave hashtags in the tweet text while preprocessing the data and just remove the ‘#’ sign. That way, the sentiment values for tweets might change drastically since all ‘emphasized’ words are included. \n",
    "\n",
    "(3.)Another finding was that positive tweets are associated with users with a higher follower count. A hypothesis could be that users with higher follower numbers are linked to news agencies or politicians and that the overall emotion of their tweets are more factual and thus more positive or neutral, even when is deals with disasters and conflicts. In comparison, users with smaller follower counts are probably private users and tend to write more negatively about conflicts. To test this hypothesis, we could scrap more data using the Twitter API and include verification IDs that allow us to see whether the user has an official account. Also, we could see whether we can match certain pattern such as ‘news’ or ‘agency’ with the usernames in the ´data set.\n",
    "\n",
    "\n",
    "Finally, we can also improve our pre-processing and cleaning. Hashtags might include several words that have to be splitted into substrings, for example 'stoparmenianwar' which could be splitted into 'stop', 'armenian', 'war'. For that purpose, we could use a library called ekphrasis and its segmenter function which was built on a twitter corpus.\n",
    "\n",
    "\n"
   ]
  },
  {
   "cell_type": "code",
   "execution_count": null,
   "metadata": {},
   "outputs": [],
   "source": []
  }
 ],
 "metadata": {
  "kernelspec": {
   "display_name": "Python 3",
   "language": "python",
   "name": "python3"
  },
  "language_info": {
   "codemirror_mode": {
    "name": "ipython",
    "version": 3
   },
   "file_extension": ".py",
   "mimetype": "text/x-python",
   "name": "python",
   "nbconvert_exporter": "python",
   "pygments_lexer": "ipython3",
   "version": "3.7.6"
  }
 },
 "nbformat": 4,
 "nbformat_minor": 4
}
